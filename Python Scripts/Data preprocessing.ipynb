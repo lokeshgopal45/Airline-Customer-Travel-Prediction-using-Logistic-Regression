{
 "cells": [
  {
   "cell_type": "markdown",
   "id": "39c8cb2d-ed24-4be8-b467-3bbdf18f5cca",
   "metadata": {},
   "source": [
    "# 1. Data Preprocessing"
   ]
  },
  {
   "cell_type": "code",
   "execution_count": 462,
   "id": "8d23c1e1-f8f6-44f1-ac78-62ffbaba7944",
   "metadata": {},
   "outputs": [],
   "source": [
    "import pandas as pd\n",
    "import numpy as np\n",
    "import matplotlib.pyplot as plt\n",
    "import seaborn as sns\n",
    "import warnings\n",
    "warnings.filterwarnings('ignore')"
   ]
  },
  {
   "cell_type": "code",
   "execution_count": 463,
   "id": "9111a710-a1e5-43a5-af5a-4719e8ae16f9",
   "metadata": {},
   "outputs": [
    {
     "data": {
      "text/html": [
       "<div>\n",
       "<style scoped>\n",
       "    .dataframe tbody tr th:only-of-type {\n",
       "        vertical-align: middle;\n",
       "    }\n",
       "\n",
       "    .dataframe tbody tr th {\n",
       "        vertical-align: top;\n",
       "    }\n",
       "\n",
       "    .dataframe thead th {\n",
       "        text-align: right;\n",
       "    }\n",
       "</style>\n",
       "<table border=\"1\" class=\"dataframe\">\n",
       "  <thead>\n",
       "    <tr style=\"text-align: right;\">\n",
       "      <th></th>\n",
       "      <th>Airline_Name</th>\n",
       "      <th>Review_Date</th>\n",
       "      <th>Rating</th>\n",
       "      <th>Comment</th>\n",
       "      <th>Reviewer_Name</th>\n",
       "      <th>Reviewer_Country</th>\n",
       "      <th>Aircraft</th>\n",
       "      <th>Travel_Type</th>\n",
       "      <th>Seat_Type</th>\n",
       "      <th>Route</th>\n",
       "      <th>...</th>\n",
       "      <th>Recommended</th>\n",
       "      <th>Verified</th>\n",
       "      <th>Seat_Rating</th>\n",
       "      <th>Cabin_staff_service_Rating</th>\n",
       "      <th>Food_Beverages_Rating</th>\n",
       "      <th>Inflight_Rating</th>\n",
       "      <th>Ground_service_Rating</th>\n",
       "      <th>Wifi_connectivity_Rating</th>\n",
       "      <th>Value_Rating</th>\n",
       "      <th>Full_review</th>\n",
       "    </tr>\n",
       "  </thead>\n",
       "  <tbody>\n",
       "    <tr>\n",
       "      <th>0</th>\n",
       "      <td>British Airways</td>\n",
       "      <td>2024-03-26</td>\n",
       "      <td>8.0</td>\n",
       "      <td>“didn't find the crew particularly welcoming”</td>\n",
       "      <td>Troy Robinson</td>\n",
       "      <td>United Kingdom</td>\n",
       "      <td>Boeing 777</td>\n",
       "      <td>Business</td>\n",
       "      <td>Business Class</td>\n",
       "      <td>London to Tokyo</td>\n",
       "      <td>...</td>\n",
       "      <td>YES</td>\n",
       "      <td>Yes</td>\n",
       "      <td>5.0</td>\n",
       "      <td>2.0</td>\n",
       "      <td>5.0</td>\n",
       "      <td>5.0</td>\n",
       "      <td>3.0</td>\n",
       "      <td>NaN</td>\n",
       "      <td>4</td>\n",
       "      <td>A last minute business trip to HND, a route I ...</td>\n",
       "    </tr>\n",
       "    <tr>\n",
       "      <th>1</th>\n",
       "      <td>British Airways</td>\n",
       "      <td>2024-03-26</td>\n",
       "      <td>5.0</td>\n",
       "      <td>\"I would say disappointing\"</td>\n",
       "      <td>R Norton</td>\n",
       "      <td>United Kingdom</td>\n",
       "      <td>A320</td>\n",
       "      <td>Business</td>\n",
       "      <td>Economy Class</td>\n",
       "      <td>Lisbon to London</td>\n",
       "      <td>...</td>\n",
       "      <td>YES</td>\n",
       "      <td>Yes</td>\n",
       "      <td>4.0</td>\n",
       "      <td>3.0</td>\n",
       "      <td>NaN</td>\n",
       "      <td>NaN</td>\n",
       "      <td>1.0</td>\n",
       "      <td>NaN</td>\n",
       "      <td>3</td>\n",
       "      <td>Overall I would say disappointing. Due to BA s...</td>\n",
       "    </tr>\n",
       "    <tr>\n",
       "      <th>2</th>\n",
       "      <td>British Airways</td>\n",
       "      <td>2024-03-25</td>\n",
       "      <td>10.0</td>\n",
       "      <td>\"Exceptional flight\"</td>\n",
       "      <td>Paul Lee</td>\n",
       "      <td>United Kingdom</td>\n",
       "      <td>Boeing 777</td>\n",
       "      <td>Couple Leisure</td>\n",
       "      <td>Business Class</td>\n",
       "      <td>London to Delhi</td>\n",
       "      <td>...</td>\n",
       "      <td>YES</td>\n",
       "      <td>No</td>\n",
       "      <td>5.0</td>\n",
       "      <td>5.0</td>\n",
       "      <td>5.0</td>\n",
       "      <td>5.0</td>\n",
       "      <td>5.0</td>\n",
       "      <td>NaN</td>\n",
       "      <td>5</td>\n",
       "      <td>LHR to Delhi in Business. Exceptional flight. ...</td>\n",
       "    </tr>\n",
       "    <tr>\n",
       "      <th>3</th>\n",
       "      <td>British Airways</td>\n",
       "      <td>2024-03-25</td>\n",
       "      <td>9.0</td>\n",
       "      <td>\"Cabin crew attentive and bubbly\"</td>\n",
       "      <td>Paul Lee</td>\n",
       "      <td>United Kingdom</td>\n",
       "      <td>A320</td>\n",
       "      <td>Couple Leisure</td>\n",
       "      <td>Economy Class</td>\n",
       "      <td>London to Milan</td>\n",
       "      <td>...</td>\n",
       "      <td>YES</td>\n",
       "      <td>No</td>\n",
       "      <td>5.0</td>\n",
       "      <td>5.0</td>\n",
       "      <td>5.0</td>\n",
       "      <td>NaN</td>\n",
       "      <td>4.0</td>\n",
       "      <td>NaN</td>\n",
       "      <td>5</td>\n",
       "      <td>Efficient and Smooth flight from start to fini...</td>\n",
       "    </tr>\n",
       "    <tr>\n",
       "      <th>4</th>\n",
       "      <td>British Airways</td>\n",
       "      <td>2024-03-25</td>\n",
       "      <td>3.0</td>\n",
       "      <td>“a terrible and unnecessary experience”</td>\n",
       "      <td>Peter Buchanan</td>\n",
       "      <td>United Kingdom</td>\n",
       "      <td>NaN</td>\n",
       "      <td>Couple Leisure</td>\n",
       "      <td>Economy Class</td>\n",
       "      <td>Madrid to London Heathrow</td>\n",
       "      <td>...</td>\n",
       "      <td>NO</td>\n",
       "      <td>Yes</td>\n",
       "      <td>3.0</td>\n",
       "      <td>3.0</td>\n",
       "      <td>NaN</td>\n",
       "      <td>NaN</td>\n",
       "      <td>3.0</td>\n",
       "      <td>NaN</td>\n",
       "      <td>2</td>\n",
       "      <td>Was told we can not take hand luggage onto the...</td>\n",
       "    </tr>\n",
       "  </tbody>\n",
       "</table>\n",
       "<p>5 rows × 21 columns</p>\n",
       "</div>"
      ],
      "text/plain": [
       "      Airline_Name Review_Date  Rating  \\\n",
       "0  British Airways  2024-03-26     8.0   \n",
       "1  British Airways  2024-03-26     5.0   \n",
       "2  British Airways  2024-03-25    10.0   \n",
       "3  British Airways  2024-03-25     9.0   \n",
       "4  British Airways  2024-03-25     3.0   \n",
       "\n",
       "                                         Comment   Reviewer_Name  \\\n",
       "0  “didn't find the crew particularly welcoming”   Troy Robinson   \n",
       "1                    \"I would say disappointing\"        R Norton   \n",
       "2                           \"Exceptional flight\"        Paul Lee   \n",
       "3              \"Cabin crew attentive and bubbly\"        Paul Lee   \n",
       "4        “a terrible and unnecessary experience”  Peter Buchanan   \n",
       "\n",
       "  Reviewer_Country    Aircraft     Travel_Type       Seat_Type  \\\n",
       "0   United Kingdom  Boeing 777        Business  Business Class   \n",
       "1   United Kingdom        A320        Business   Economy Class   \n",
       "2   United Kingdom  Boeing 777  Couple Leisure  Business Class   \n",
       "3   United Kingdom        A320  Couple Leisure   Economy Class   \n",
       "4   United Kingdom         NaN  Couple Leisure   Economy Class   \n",
       "\n",
       "                       Route  ... Recommended Verified Seat_Rating  \\\n",
       "0            London to Tokyo  ...         YES      Yes         5.0   \n",
       "1          Lisbon to London   ...         YES      Yes         4.0   \n",
       "2            London to Delhi  ...         YES       No         5.0   \n",
       "3            London to Milan  ...         YES       No         5.0   \n",
       "4  Madrid to London Heathrow  ...          NO      Yes         3.0   \n",
       "\n",
       "   Cabin_staff_service_Rating  Food_Beverages_Rating  Inflight_Rating  \\\n",
       "0                         2.0                    5.0              5.0   \n",
       "1                         3.0                    NaN              NaN   \n",
       "2                         5.0                    5.0              5.0   \n",
       "3                         5.0                    5.0              NaN   \n",
       "4                         3.0                    NaN              NaN   \n",
       "\n",
       "   Ground_service_Rating  Wifi_connectivity_Rating  Value_Rating  \\\n",
       "0                    3.0                       NaN             4   \n",
       "1                    1.0                       NaN             3   \n",
       "2                    5.0                       NaN             5   \n",
       "3                    4.0                       NaN             5   \n",
       "4                    3.0                       NaN             2   \n",
       "\n",
       "                                         Full_review  \n",
       "0  A last minute business trip to HND, a route I ...  \n",
       "1  Overall I would say disappointing. Due to BA s...  \n",
       "2  LHR to Delhi in Business. Exceptional flight. ...  \n",
       "3  Efficient and Smooth flight from start to fini...  \n",
       "4  Was told we can not take hand luggage onto the...  \n",
       "\n",
       "[5 rows x 21 columns]"
      ]
     },
     "execution_count": 463,
     "metadata": {},
     "output_type": "execute_result"
    }
   ],
   "source": [
    "df = pd.read_csv('Data/british_airways.csv')\n",
    "pd.set_option('display.max.rows',21)\n",
    "df.head()"
   ]
  },
  {
   "cell_type": "markdown",
   "id": "dcf1d907-8262-412b-9a86-42baf878894c",
   "metadata": {
    "jp-MarkdownHeadingCollapsed": true
   },
   "source": [
    "### Data Inspection"
   ]
  },
  {
   "cell_type": "code",
   "execution_count": 464,
   "id": "5f3be81f-c341-44df-b107-8e71e57754fa",
   "metadata": {},
   "outputs": [
    {
     "data": {
      "text/plain": [
       "(3776, 21)"
      ]
     },
     "execution_count": 464,
     "metadata": {},
     "output_type": "execute_result"
    }
   ],
   "source": [
    "df.shape"
   ]
  },
  {
   "cell_type": "code",
   "execution_count": 465,
   "id": "695a4f71-bee1-44a2-92a0-09ad9f03905f",
   "metadata": {},
   "outputs": [],
   "source": [
    "df.drop(columns=['Airline_Name'],inplace=True)"
   ]
  },
  {
   "cell_type": "code",
   "execution_count": 466,
   "id": "1420381c-4b09-45c6-8d3f-d1578f95a3fb",
   "metadata": {},
   "outputs": [
    {
     "name": "stdout",
     "output_type": "stream",
     "text": [
      "<class 'pandas.core.frame.DataFrame'>\n",
      "RangeIndex: 3776 entries, 0 to 3775\n",
      "Data columns (total 20 columns):\n",
      " #   Column                      Non-Null Count  Dtype  \n",
      "---  ------                      --------------  -----  \n",
      " 0   Review_Date                 3776 non-null   object \n",
      " 1   Rating                      3769 non-null   float64\n",
      " 2   Comment                     3776 non-null   object \n",
      " 3   Reviewer_Name               3776 non-null   object \n",
      " 4   Reviewer_Country            3776 non-null   object \n",
      " 5   Aircraft                    1968 non-null   object \n",
      " 6   Travel_Type                 3005 non-null   object \n",
      " 7   Seat_Type                   3773 non-null   object \n",
      " 8   Route                       3001 non-null   object \n",
      " 9   Date_Flown                  2998 non-null   object \n",
      " 10  Recommended                 3776 non-null   object \n",
      " 11  Verified                    3776 non-null   object \n",
      " 12  Seat_Rating                 3656 non-null   float64\n",
      " 13  Cabin_staff_service_Rating  3644 non-null   float64\n",
      " 14  Food_Beverages_Rating       3373 non-null   float64\n",
      " 15  Inflight_Rating             2601 non-null   float64\n",
      " 16  Ground_service_Rating       2928 non-null   float64\n",
      " 17  Wifi_connectivity_Rating    636 non-null    float64\n",
      " 18  Value_Rating                3776 non-null   int64  \n",
      " 19  Full_review                 3776 non-null   object \n",
      "dtypes: float64(7), int64(1), object(12)\n",
      "memory usage: 590.1+ KB\n"
     ]
    }
   ],
   "source": [
    "df.info()"
   ]
  },
  {
   "cell_type": "code",
   "execution_count": 467,
   "id": "c98886a8-5f4a-408f-ac3c-40b6876d4ee9",
   "metadata": {},
   "outputs": [
    {
     "data": {
      "text/plain": [
       "Review_Date                    object\n",
       "Rating                        float64\n",
       "Comment                        object\n",
       "Reviewer_Name                  object\n",
       "Reviewer_Country               object\n",
       "Aircraft                       object\n",
       "Travel_Type                    object\n",
       "Seat_Type                      object\n",
       "Route                          object\n",
       "Date_Flown                     object\n",
       "Recommended                    object\n",
       "Verified                       object\n",
       "Seat_Rating                   float64\n",
       "Cabin_staff_service_Rating    float64\n",
       "Food_Beverages_Rating         float64\n",
       "Inflight_Rating               float64\n",
       "Ground_service_Rating         float64\n",
       "Wifi_connectivity_Rating      float64\n",
       "Value_Rating                    int64\n",
       "Full_review                    object\n",
       "dtype: object"
      ]
     },
     "execution_count": 467,
     "metadata": {},
     "output_type": "execute_result"
    }
   ],
   "source": [
    "df.dtypes"
   ]
  },
  {
   "cell_type": "code",
   "execution_count": 468,
   "id": "93a43c6c-e4da-44d7-81f7-56f2de45bc13",
   "metadata": {},
   "outputs": [
    {
     "data": {
      "text/html": [
       "<div>\n",
       "<style scoped>\n",
       "    .dataframe tbody tr th:only-of-type {\n",
       "        vertical-align: middle;\n",
       "    }\n",
       "\n",
       "    .dataframe tbody tr th {\n",
       "        vertical-align: top;\n",
       "    }\n",
       "\n",
       "    .dataframe thead th {\n",
       "        text-align: right;\n",
       "    }\n",
       "</style>\n",
       "<table border=\"1\" class=\"dataframe\">\n",
       "  <thead>\n",
       "    <tr style=\"text-align: right;\">\n",
       "      <th></th>\n",
       "      <th>Rating</th>\n",
       "      <th>Seat_Rating</th>\n",
       "      <th>Cabin_staff_service_Rating</th>\n",
       "      <th>Food_Beverages_Rating</th>\n",
       "      <th>Inflight_Rating</th>\n",
       "      <th>Ground_service_Rating</th>\n",
       "      <th>Wifi_connectivity_Rating</th>\n",
       "      <th>Value_Rating</th>\n",
       "    </tr>\n",
       "  </thead>\n",
       "  <tbody>\n",
       "    <tr>\n",
       "      <th>count</th>\n",
       "      <td>3769.000000</td>\n",
       "      <td>3656.000000</td>\n",
       "      <td>3644.000000</td>\n",
       "      <td>3373.000000</td>\n",
       "      <td>2601.000000</td>\n",
       "      <td>2928.000000</td>\n",
       "      <td>636.000000</td>\n",
       "      <td>3776.000000</td>\n",
       "    </tr>\n",
       "    <tr>\n",
       "      <th>mean</th>\n",
       "      <td>4.742372</td>\n",
       "      <td>2.877188</td>\n",
       "      <td>3.257684</td>\n",
       "      <td>2.719834</td>\n",
       "      <td>2.647828</td>\n",
       "      <td>2.779030</td>\n",
       "      <td>1.924528</td>\n",
       "      <td>2.691472</td>\n",
       "    </tr>\n",
       "    <tr>\n",
       "      <th>std</th>\n",
       "      <td>3.178302</td>\n",
       "      <td>1.363774</td>\n",
       "      <td>1.490480</td>\n",
       "      <td>1.440213</td>\n",
       "      <td>1.409775</td>\n",
       "      <td>1.458459</td>\n",
       "      <td>1.344793</td>\n",
       "      <td>1.476488</td>\n",
       "    </tr>\n",
       "    <tr>\n",
       "      <th>min</th>\n",
       "      <td>1.000000</td>\n",
       "      <td>1.000000</td>\n",
       "      <td>1.000000</td>\n",
       "      <td>0.000000</td>\n",
       "      <td>0.000000</td>\n",
       "      <td>1.000000</td>\n",
       "      <td>1.000000</td>\n",
       "      <td>0.000000</td>\n",
       "    </tr>\n",
       "    <tr>\n",
       "      <th>25%</th>\n",
       "      <td>2.000000</td>\n",
       "      <td>2.000000</td>\n",
       "      <td>2.000000</td>\n",
       "      <td>1.000000</td>\n",
       "      <td>1.000000</td>\n",
       "      <td>1.000000</td>\n",
       "      <td>1.000000</td>\n",
       "      <td>1.000000</td>\n",
       "    </tr>\n",
       "    <tr>\n",
       "      <th>50%</th>\n",
       "      <td>4.000000</td>\n",
       "      <td>3.000000</td>\n",
       "      <td>3.000000</td>\n",
       "      <td>3.000000</td>\n",
       "      <td>3.000000</td>\n",
       "      <td>3.000000</td>\n",
       "      <td>1.000000</td>\n",
       "      <td>3.000000</td>\n",
       "    </tr>\n",
       "    <tr>\n",
       "      <th>75%</th>\n",
       "      <td>8.000000</td>\n",
       "      <td>4.000000</td>\n",
       "      <td>5.000000</td>\n",
       "      <td>4.000000</td>\n",
       "      <td>4.000000</td>\n",
       "      <td>4.000000</td>\n",
       "      <td>3.000000</td>\n",
       "      <td>4.000000</td>\n",
       "    </tr>\n",
       "    <tr>\n",
       "      <th>max</th>\n",
       "      <td>10.000000</td>\n",
       "      <td>5.000000</td>\n",
       "      <td>5.000000</td>\n",
       "      <td>5.000000</td>\n",
       "      <td>5.000000</td>\n",
       "      <td>5.000000</td>\n",
       "      <td>5.000000</td>\n",
       "      <td>5.000000</td>\n",
       "    </tr>\n",
       "  </tbody>\n",
       "</table>\n",
       "</div>"
      ],
      "text/plain": [
       "            Rating  Seat_Rating  Cabin_staff_service_Rating  \\\n",
       "count  3769.000000  3656.000000                 3644.000000   \n",
       "mean      4.742372     2.877188                    3.257684   \n",
       "std       3.178302     1.363774                    1.490480   \n",
       "min       1.000000     1.000000                    1.000000   \n",
       "25%       2.000000     2.000000                    2.000000   \n",
       "50%       4.000000     3.000000                    3.000000   \n",
       "75%       8.000000     4.000000                    5.000000   \n",
       "max      10.000000     5.000000                    5.000000   \n",
       "\n",
       "       Food_Beverages_Rating  Inflight_Rating  Ground_service_Rating  \\\n",
       "count            3373.000000      2601.000000            2928.000000   \n",
       "mean                2.719834         2.647828               2.779030   \n",
       "std                 1.440213         1.409775               1.458459   \n",
       "min                 0.000000         0.000000               1.000000   \n",
       "25%                 1.000000         1.000000               1.000000   \n",
       "50%                 3.000000         3.000000               3.000000   \n",
       "75%                 4.000000         4.000000               4.000000   \n",
       "max                 5.000000         5.000000               5.000000   \n",
       "\n",
       "       Wifi_connectivity_Rating  Value_Rating  \n",
       "count                636.000000   3776.000000  \n",
       "mean                   1.924528      2.691472  \n",
       "std                    1.344793      1.476488  \n",
       "min                    1.000000      0.000000  \n",
       "25%                    1.000000      1.000000  \n",
       "50%                    1.000000      3.000000  \n",
       "75%                    3.000000      4.000000  \n",
       "max                    5.000000      5.000000  "
      ]
     },
     "execution_count": 468,
     "metadata": {},
     "output_type": "execute_result"
    }
   ],
   "source": [
    "df.describe()"
   ]
  },
  {
   "cell_type": "code",
   "execution_count": 469,
   "id": "076c1b4e-d1b6-475f-964c-5adc82efeeb1",
   "metadata": {},
   "outputs": [
    {
     "data": {
      "text/html": [
       "<div>\n",
       "<style scoped>\n",
       "    .dataframe tbody tr th:only-of-type {\n",
       "        vertical-align: middle;\n",
       "    }\n",
       "\n",
       "    .dataframe tbody tr th {\n",
       "        vertical-align: top;\n",
       "    }\n",
       "\n",
       "    .dataframe thead th {\n",
       "        text-align: right;\n",
       "    }\n",
       "</style>\n",
       "<table border=\"1\" class=\"dataframe\">\n",
       "  <thead>\n",
       "    <tr style=\"text-align: right;\">\n",
       "      <th></th>\n",
       "      <th>Review_Date</th>\n",
       "      <th>Comment</th>\n",
       "      <th>Reviewer_Name</th>\n",
       "      <th>Reviewer_Country</th>\n",
       "      <th>Aircraft</th>\n",
       "      <th>Travel_Type</th>\n",
       "      <th>Seat_Type</th>\n",
       "      <th>Route</th>\n",
       "      <th>Date_Flown</th>\n",
       "      <th>Recommended</th>\n",
       "      <th>Verified</th>\n",
       "      <th>Full_review</th>\n",
       "    </tr>\n",
       "  </thead>\n",
       "  <tbody>\n",
       "    <tr>\n",
       "      <th>count</th>\n",
       "      <td>3776</td>\n",
       "      <td>3776</td>\n",
       "      <td>3776</td>\n",
       "      <td>3776</td>\n",
       "      <td>1968</td>\n",
       "      <td>3005</td>\n",
       "      <td>3773</td>\n",
       "      <td>3001</td>\n",
       "      <td>2998</td>\n",
       "      <td>3776</td>\n",
       "      <td>3776</td>\n",
       "      <td>3776</td>\n",
       "    </tr>\n",
       "    <tr>\n",
       "      <th>unique</th>\n",
       "      <td>1876</td>\n",
       "      <td>2752</td>\n",
       "      <td>2888</td>\n",
       "      <td>74</td>\n",
       "      <td>205</td>\n",
       "      <td>4</td>\n",
       "      <td>4</td>\n",
       "      <td>1632</td>\n",
       "      <td>116</td>\n",
       "      <td>2</td>\n",
       "      <td>2</td>\n",
       "      <td>3670</td>\n",
       "    </tr>\n",
       "    <tr>\n",
       "      <th>top</th>\n",
       "      <td>2015-01-19</td>\n",
       "      <td>British Airways customer review</td>\n",
       "      <td>David Ellis</td>\n",
       "      <td>United Kingdom</td>\n",
       "      <td>A320</td>\n",
       "      <td>Couple Leisure</td>\n",
       "      <td>Economy Class</td>\n",
       "      <td>London to Johannesburg</td>\n",
       "      <td>August 2015</td>\n",
       "      <td>NO</td>\n",
       "      <td>No</td>\n",
       "      <td>LHR to DXB on November 6 an overnight relative...</td>\n",
       "    </tr>\n",
       "    <tr>\n",
       "      <th>freq</th>\n",
       "      <td>26</td>\n",
       "      <td>956</td>\n",
       "      <td>45</td>\n",
       "      <td>2364</td>\n",
       "      <td>379</td>\n",
       "      <td>1020</td>\n",
       "      <td>1957</td>\n",
       "      <td>18</td>\n",
       "      <td>83</td>\n",
       "      <td>2243</td>\n",
       "      <td>2569</td>\n",
       "      <td>3</td>\n",
       "    </tr>\n",
       "  </tbody>\n",
       "</table>\n",
       "</div>"
      ],
      "text/plain": [
       "       Review_Date                          Comment Reviewer_Name  \\\n",
       "count         3776                             3776          3776   \n",
       "unique        1876                             2752          2888   \n",
       "top     2015-01-19  British Airways customer review   David Ellis   \n",
       "freq            26                              956            45   \n",
       "\n",
       "       Reviewer_Country Aircraft     Travel_Type      Seat_Type  \\\n",
       "count              3776     1968            3005           3773   \n",
       "unique               74      205               4              4   \n",
       "top      United Kingdom     A320  Couple Leisure  Economy Class   \n",
       "freq               2364      379            1020           1957   \n",
       "\n",
       "                         Route   Date_Flown Recommended Verified  \\\n",
       "count                     3001         2998        3776     3776   \n",
       "unique                    1632          116           2        2   \n",
       "top     London to Johannesburg  August 2015          NO       No   \n",
       "freq                        18           83        2243     2569   \n",
       "\n",
       "                                              Full_review  \n",
       "count                                                3776  \n",
       "unique                                               3670  \n",
       "top     LHR to DXB on November 6 an overnight relative...  \n",
       "freq                                                    3  "
      ]
     },
     "execution_count": 469,
     "metadata": {},
     "output_type": "execute_result"
    }
   ],
   "source": [
    "df.describe(include='object')"
   ]
  },
  {
   "cell_type": "markdown",
   "id": "b40f8512-91c9-4404-ac3d-d3b10ad64ff7",
   "metadata": {
    "jp-MarkdownHeadingCollapsed": true
   },
   "source": [
    "### Typecasting Review_Date to Date"
   ]
  },
  {
   "cell_type": "code",
   "execution_count": 470,
   "id": "e5b088fe-45a0-4a63-b9d4-35a0c6039940",
   "metadata": {},
   "outputs": [],
   "source": [
    "df['Review_Date'] = pd.to_datetime(df['Review_Date'])\n",
    "df['Date_Flown'] = pd.to_datetime(df['Date_Flown'])"
   ]
  },
  {
   "cell_type": "code",
   "execution_count": 471,
   "id": "ccdbd4ab-03a6-4a00-9c7c-db1b19c8f603",
   "metadata": {},
   "outputs": [
    {
     "data": {
      "text/plain": [
       "(dtype('<M8[ns]'), dtype('<M8[ns]'))"
      ]
     },
     "execution_count": 471,
     "metadata": {},
     "output_type": "execute_result"
    }
   ],
   "source": [
    "df['Review_Date'].dtype,df['Date_Flown'].dtype"
   ]
  },
  {
   "cell_type": "code",
   "execution_count": 472,
   "id": "786e1eeb-2887-42b6-a5ff-809848469a2a",
   "metadata": {
    "scrolled": true
   },
   "outputs": [
    {
     "data": {
      "text/plain": [
       "Review_Date                    0.00\n",
       "Rating                         0.19\n",
       "Comment                        0.00\n",
       "Reviewer_Name                  0.00\n",
       "Reviewer_Country               0.00\n",
       "Aircraft                      47.88\n",
       "Travel_Type                   20.42\n",
       "Seat_Type                      0.08\n",
       "Route                         20.52\n",
       "Date_Flown                    20.60\n",
       "Recommended                    0.00\n",
       "Verified                       0.00\n",
       "Seat_Rating                    3.18\n",
       "Cabin_staff_service_Rating     3.50\n",
       "Food_Beverages_Rating         10.67\n",
       "Inflight_Rating               31.12\n",
       "Ground_service_Rating         22.46\n",
       "Wifi_connectivity_Rating      83.16\n",
       "Value_Rating                   0.00\n",
       "Full_review                    0.00\n",
       "dtype: float64"
      ]
     },
     "execution_count": 472,
     "metadata": {},
     "output_type": "execute_result"
    }
   ],
   "source": [
    "round((df.isnull().sum() / df.shape[0])*100,2)"
   ]
  },
  {
   "cell_type": "code",
   "execution_count": 473,
   "id": "2e38733e-3fb4-400d-9a8c-b7a9e71cbeac",
   "metadata": {},
   "outputs": [],
   "source": [
    "df.drop(columns=['Wifi_connectivity_Rating'],inplace=True) # 83% Null Values are present"
   ]
  },
  {
   "cell_type": "markdown",
   "id": "6c8006f0-745f-4a1f-8626-1302dabf000b",
   "metadata": {
    "jp-MarkdownHeadingCollapsed": true
   },
   "source": [
    "### Handling Null Values"
   ]
  },
  {
   "cell_type": "markdown",
   "id": "c06000fe-582a-4121-8b8f-b22033a9fce1",
   "metadata": {},
   "source": [
    "1. If Null Value Percentage <10% then use direct imputation Technique with Median for Num & Mode for Categorical"
   ]
  },
  {
   "cell_type": "code",
   "execution_count": 474,
   "id": "8e10e1f7-cec4-4d2f-9bd1-61ad577fea7f",
   "metadata": {},
   "outputs": [],
   "source": [
    "def impute_num_null_values(col):\n",
    "    '''\n",
    "    Replacing NULL values with Median which is robust to outliers\n",
    "    '''\n",
    "    df[col].fillna(df[col].median(),inplace=True) "
   ]
  },
  {
   "cell_type": "code",
   "execution_count": 475,
   "id": "8953ec62-d701-4db6-9057-f3ad65c1f3c2",
   "metadata": {},
   "outputs": [],
   "source": [
    "def impute_cat_null_values(col):\n",
    "    '''\n",
    "    Replacing NULL values with Mode which is more approproiate for Categorical Values\n",
    "    '''\n",
    "    df[col].fillna(df[col].mode()[0],inplace=True) "
   ]
  },
  {
   "cell_type": "code",
   "execution_count": 476,
   "id": "0c57dc7d-c9b5-4658-a0ba-81d3fbf2b3c4",
   "metadata": {},
   "outputs": [],
   "source": [
    "impute_num_null_values('Rating')"
   ]
  },
  {
   "cell_type": "code",
   "execution_count": 477,
   "id": "60ffaf0f-26ac-4e58-9a2c-ce51986a2194",
   "metadata": {
    "scrolled": true
   },
   "outputs": [
    {
     "data": {
      "text/plain": [
       "0"
      ]
     },
     "execution_count": 477,
     "metadata": {},
     "output_type": "execute_result"
    }
   ],
   "source": [
    "df['Rating'].isnull().sum()"
   ]
  },
  {
   "cell_type": "code",
   "execution_count": 478,
   "id": "0118d122-5435-4e66-82ad-25ff449810a0",
   "metadata": {},
   "outputs": [
    {
     "data": {
      "text/plain": [
       "Review_Date                    0.00\n",
       "Rating                         0.00\n",
       "Comment                        0.00\n",
       "Reviewer_Name                  0.00\n",
       "Reviewer_Country               0.00\n",
       "Aircraft                      47.88\n",
       "Travel_Type                   20.42\n",
       "Seat_Type                      0.08\n",
       "Route                         20.52\n",
       "Date_Flown                    20.60\n",
       "Recommended                    0.00\n",
       "Verified                       0.00\n",
       "Seat_Rating                    3.18\n",
       "Cabin_staff_service_Rating     3.50\n",
       "Food_Beverages_Rating         10.67\n",
       "Inflight_Rating               31.12\n",
       "Ground_service_Rating         22.46\n",
       "Value_Rating                   0.00\n",
       "Full_review                    0.00\n",
       "dtype: float64"
      ]
     },
     "execution_count": 478,
     "metadata": {},
     "output_type": "execute_result"
    }
   ],
   "source": [
    "round((df.isnull().sum() / df.shape[0])*100,2)"
   ]
  },
  {
   "cell_type": "code",
   "execution_count": 479,
   "id": "928499ef-6d18-493c-88bc-2795e2888094",
   "metadata": {},
   "outputs": [
    {
     "data": {
      "text/plain": [
       "778"
      ]
     },
     "execution_count": 479,
     "metadata": {},
     "output_type": "execute_result"
    }
   ],
   "source": [
    "df['Date_Flown'].isnull().sum()"
   ]
  },
  {
   "cell_type": "code",
   "execution_count": 480,
   "id": "423ac86f-c553-45f4-ad9e-c8ade2542ef4",
   "metadata": {},
   "outputs": [],
   "source": [
    "df.dropna(subset=['Date_Flown'],inplace=True)"
   ]
  },
  {
   "cell_type": "code",
   "execution_count": 481,
   "id": "72e05907-cd8f-4f21-b604-851805efef67",
   "metadata": {},
   "outputs": [
    {
     "data": {
      "text/plain": [
       "0"
      ]
     },
     "execution_count": 481,
     "metadata": {},
     "output_type": "execute_result"
    }
   ],
   "source": [
    "df['Date_Flown'].isnull().sum()"
   ]
  },
  {
   "cell_type": "markdown",
   "id": "a835d69b-ef29-444a-8059-c1cb2f145ffb",
   "metadata": {},
   "source": [
    "### Route Handling"
   ]
  },
  {
   "cell_type": "code",
   "execution_count": 482,
   "id": "b242f190-efff-468e-af8d-88565caec92a",
   "metadata": {},
   "outputs": [
    {
     "data": {
      "text/plain": [
       "5"
      ]
     },
     "execution_count": 482,
     "metadata": {},
     "output_type": "execute_result"
    }
   ],
   "source": [
    "df['Route'].isnull().sum()"
   ]
  },
  {
   "cell_type": "code",
   "execution_count": 483,
   "id": "28435679-0992-40d1-aa81-65c71c70bf8b",
   "metadata": {},
   "outputs": [],
   "source": [
    "df.dropna(subset=['Route'],inplace=True)"
   ]
  },
  {
   "cell_type": "code",
   "execution_count": 484,
   "id": "d720457f-e1f8-4e84-b3ae-be3fcc13c892",
   "metadata": {},
   "outputs": [
    {
     "data": {
      "text/plain": [
       "0"
      ]
     },
     "execution_count": 484,
     "metadata": {},
     "output_type": "execute_result"
    }
   ],
   "source": [
    "df['Route'].isnull().sum()"
   ]
  },
  {
   "cell_type": "code",
   "execution_count": 485,
   "id": "882c57bb-5172-42a3-82a2-e86e5cb73e5e",
   "metadata": {},
   "outputs": [],
   "source": [
    "for index,row in df.iterrows():\n",
    "    temp = row['Route'].split(' to',1)\n",
    "    df.at[index, 'From'] = temp[0].strip()\n",
    "    df.at[index, 'To'] = temp[-1].strip()"
   ]
  },
  {
   "cell_type": "code",
   "execution_count": 486,
   "id": "963310c6-1e41-4799-b506-8ad285a4ad8f",
   "metadata": {},
   "outputs": [
    {
     "data": {
      "text/html": [
       "<div>\n",
       "<style scoped>\n",
       "    .dataframe tbody tr th:only-of-type {\n",
       "        vertical-align: middle;\n",
       "    }\n",
       "\n",
       "    .dataframe tbody tr th {\n",
       "        vertical-align: top;\n",
       "    }\n",
       "\n",
       "    .dataframe thead th {\n",
       "        text-align: right;\n",
       "    }\n",
       "</style>\n",
       "<table border=\"1\" class=\"dataframe\">\n",
       "  <thead>\n",
       "    <tr style=\"text-align: right;\">\n",
       "      <th></th>\n",
       "      <th>Review_Date</th>\n",
       "      <th>Rating</th>\n",
       "      <th>Comment</th>\n",
       "      <th>Reviewer_Name</th>\n",
       "      <th>Reviewer_Country</th>\n",
       "      <th>Aircraft</th>\n",
       "      <th>Travel_Type</th>\n",
       "      <th>Seat_Type</th>\n",
       "      <th>Route</th>\n",
       "      <th>Date_Flown</th>\n",
       "      <th>...</th>\n",
       "      <th>Verified</th>\n",
       "      <th>Seat_Rating</th>\n",
       "      <th>Cabin_staff_service_Rating</th>\n",
       "      <th>Food_Beverages_Rating</th>\n",
       "      <th>Inflight_Rating</th>\n",
       "      <th>Ground_service_Rating</th>\n",
       "      <th>Value_Rating</th>\n",
       "      <th>Full_review</th>\n",
       "      <th>From</th>\n",
       "      <th>To</th>\n",
       "    </tr>\n",
       "  </thead>\n",
       "  <tbody>\n",
       "    <tr>\n",
       "      <th>0</th>\n",
       "      <td>2024-03-26</td>\n",
       "      <td>8.0</td>\n",
       "      <td>“didn't find the crew particularly welcoming”</td>\n",
       "      <td>Troy Robinson</td>\n",
       "      <td>United Kingdom</td>\n",
       "      <td>Boeing 777</td>\n",
       "      <td>Business</td>\n",
       "      <td>Business Class</td>\n",
       "      <td>London to Tokyo</td>\n",
       "      <td>2024-03-01</td>\n",
       "      <td>...</td>\n",
       "      <td>Yes</td>\n",
       "      <td>5.0</td>\n",
       "      <td>2.0</td>\n",
       "      <td>5.0</td>\n",
       "      <td>5.0</td>\n",
       "      <td>3.0</td>\n",
       "      <td>4</td>\n",
       "      <td>A last minute business trip to HND, a route I ...</td>\n",
       "      <td>London</td>\n",
       "      <td>Tokyo</td>\n",
       "    </tr>\n",
       "    <tr>\n",
       "      <th>1</th>\n",
       "      <td>2024-03-26</td>\n",
       "      <td>5.0</td>\n",
       "      <td>\"I would say disappointing\"</td>\n",
       "      <td>R Norton</td>\n",
       "      <td>United Kingdom</td>\n",
       "      <td>A320</td>\n",
       "      <td>Business</td>\n",
       "      <td>Economy Class</td>\n",
       "      <td>Lisbon to London</td>\n",
       "      <td>2024-03-01</td>\n",
       "      <td>...</td>\n",
       "      <td>Yes</td>\n",
       "      <td>4.0</td>\n",
       "      <td>3.0</td>\n",
       "      <td>NaN</td>\n",
       "      <td>NaN</td>\n",
       "      <td>1.0</td>\n",
       "      <td>3</td>\n",
       "      <td>Overall I would say disappointing. Due to BA s...</td>\n",
       "      <td>Lisbon</td>\n",
       "      <td>London</td>\n",
       "    </tr>\n",
       "    <tr>\n",
       "      <th>2</th>\n",
       "      <td>2024-03-25</td>\n",
       "      <td>10.0</td>\n",
       "      <td>\"Exceptional flight\"</td>\n",
       "      <td>Paul Lee</td>\n",
       "      <td>United Kingdom</td>\n",
       "      <td>Boeing 777</td>\n",
       "      <td>Couple Leisure</td>\n",
       "      <td>Business Class</td>\n",
       "      <td>London to Delhi</td>\n",
       "      <td>2024-02-01</td>\n",
       "      <td>...</td>\n",
       "      <td>No</td>\n",
       "      <td>5.0</td>\n",
       "      <td>5.0</td>\n",
       "      <td>5.0</td>\n",
       "      <td>5.0</td>\n",
       "      <td>5.0</td>\n",
       "      <td>5</td>\n",
       "      <td>LHR to Delhi in Business. Exceptional flight. ...</td>\n",
       "      <td>London</td>\n",
       "      <td>Delhi</td>\n",
       "    </tr>\n",
       "    <tr>\n",
       "      <th>3</th>\n",
       "      <td>2024-03-25</td>\n",
       "      <td>9.0</td>\n",
       "      <td>\"Cabin crew attentive and bubbly\"</td>\n",
       "      <td>Paul Lee</td>\n",
       "      <td>United Kingdom</td>\n",
       "      <td>A320</td>\n",
       "      <td>Couple Leisure</td>\n",
       "      <td>Economy Class</td>\n",
       "      <td>London to Milan</td>\n",
       "      <td>2024-03-01</td>\n",
       "      <td>...</td>\n",
       "      <td>No</td>\n",
       "      <td>5.0</td>\n",
       "      <td>5.0</td>\n",
       "      <td>5.0</td>\n",
       "      <td>NaN</td>\n",
       "      <td>4.0</td>\n",
       "      <td>5</td>\n",
       "      <td>Efficient and Smooth flight from start to fini...</td>\n",
       "      <td>London</td>\n",
       "      <td>Milan</td>\n",
       "    </tr>\n",
       "    <tr>\n",
       "      <th>4</th>\n",
       "      <td>2024-03-25</td>\n",
       "      <td>3.0</td>\n",
       "      <td>“a terrible and unnecessary experience”</td>\n",
       "      <td>Peter Buchanan</td>\n",
       "      <td>United Kingdom</td>\n",
       "      <td>NaN</td>\n",
       "      <td>Couple Leisure</td>\n",
       "      <td>Economy Class</td>\n",
       "      <td>Madrid to London Heathrow</td>\n",
       "      <td>2024-03-01</td>\n",
       "      <td>...</td>\n",
       "      <td>Yes</td>\n",
       "      <td>3.0</td>\n",
       "      <td>3.0</td>\n",
       "      <td>NaN</td>\n",
       "      <td>NaN</td>\n",
       "      <td>3.0</td>\n",
       "      <td>2</td>\n",
       "      <td>Was told we can not take hand luggage onto the...</td>\n",
       "      <td>Madrid</td>\n",
       "      <td>London Heathrow</td>\n",
       "    </tr>\n",
       "  </tbody>\n",
       "</table>\n",
       "<p>5 rows × 21 columns</p>\n",
       "</div>"
      ],
      "text/plain": [
       "  Review_Date  Rating                                        Comment  \\\n",
       "0  2024-03-26     8.0  “didn't find the crew particularly welcoming”   \n",
       "1  2024-03-26     5.0                    \"I would say disappointing\"   \n",
       "2  2024-03-25    10.0                           \"Exceptional flight\"   \n",
       "3  2024-03-25     9.0              \"Cabin crew attentive and bubbly\"   \n",
       "4  2024-03-25     3.0        “a terrible and unnecessary experience”   \n",
       "\n",
       "    Reviewer_Name Reviewer_Country    Aircraft     Travel_Type  \\\n",
       "0   Troy Robinson   United Kingdom  Boeing 777        Business   \n",
       "1        R Norton   United Kingdom        A320        Business   \n",
       "2        Paul Lee   United Kingdom  Boeing 777  Couple Leisure   \n",
       "3        Paul Lee   United Kingdom        A320  Couple Leisure   \n",
       "4  Peter Buchanan   United Kingdom         NaN  Couple Leisure   \n",
       "\n",
       "        Seat_Type                      Route Date_Flown  ... Verified  \\\n",
       "0  Business Class            London to Tokyo 2024-03-01  ...      Yes   \n",
       "1   Economy Class          Lisbon to London  2024-03-01  ...      Yes   \n",
       "2  Business Class            London to Delhi 2024-02-01  ...       No   \n",
       "3   Economy Class            London to Milan 2024-03-01  ...       No   \n",
       "4   Economy Class  Madrid to London Heathrow 2024-03-01  ...      Yes   \n",
       "\n",
       "  Seat_Rating  Cabin_staff_service_Rating  Food_Beverages_Rating  \\\n",
       "0         5.0                         2.0                    5.0   \n",
       "1         4.0                         3.0                    NaN   \n",
       "2         5.0                         5.0                    5.0   \n",
       "3         5.0                         5.0                    5.0   \n",
       "4         3.0                         3.0                    NaN   \n",
       "\n",
       "   Inflight_Rating  Ground_service_Rating  Value_Rating  \\\n",
       "0              5.0                    3.0             4   \n",
       "1              NaN                    1.0             3   \n",
       "2              5.0                    5.0             5   \n",
       "3              NaN                    4.0             5   \n",
       "4              NaN                    3.0             2   \n",
       "\n",
       "                                         Full_review    From               To  \n",
       "0  A last minute business trip to HND, a route I ...  London            Tokyo  \n",
       "1  Overall I would say disappointing. Due to BA s...  Lisbon           London  \n",
       "2  LHR to Delhi in Business. Exceptional flight. ...  London            Delhi  \n",
       "3  Efficient and Smooth flight from start to fini...  London            Milan  \n",
       "4  Was told we can not take hand luggage onto the...  Madrid  London Heathrow  \n",
       "\n",
       "[5 rows x 21 columns]"
      ]
     },
     "execution_count": 486,
     "metadata": {},
     "output_type": "execute_result"
    }
   ],
   "source": [
    "df.head()"
   ]
  },
  {
   "cell_type": "code",
   "execution_count": 487,
   "id": "74a1f1a4-bf7f-492b-90aa-21877ab847bc",
   "metadata": {},
   "outputs": [
    {
     "data": {
      "text/plain": [
       "Review_Date                    0.00\n",
       "Rating                         0.00\n",
       "Comment                        0.00\n",
       "Reviewer_Name                  0.00\n",
       "Reviewer_Country               0.00\n",
       "Aircraft                      34.48\n",
       "Travel_Type                    0.10\n",
       "Seat_Type                      0.03\n",
       "Route                          0.00\n",
       "Date_Flown                     0.00\n",
       "Recommended                    0.00\n",
       "Verified                       0.00\n",
       "Seat_Rating                    3.91\n",
       "Cabin_staff_service_Rating     4.31\n",
       "Food_Beverages_Rating         13.33\n",
       "Inflight_Rating               39.12\n",
       "Ground_service_Rating          2.31\n",
       "Value_Rating                   0.00\n",
       "Full_review                    0.00\n",
       "From                           0.00\n",
       "To                             0.00\n",
       "dtype: float64"
      ]
     },
     "execution_count": 487,
     "metadata": {},
     "output_type": "execute_result"
    }
   ],
   "source": [
    "round((df.isnull().sum() / df.shape[0])*100,2)"
   ]
  },
  {
   "cell_type": "code",
   "execution_count": 488,
   "id": "e77d7c29-6573-4b4b-a620-27013fbeaf04",
   "metadata": {},
   "outputs": [
    {
     "data": {
      "text/plain": [
       "array(['London', 'Lisbon', 'Madrid', 'London Heathrow', 'Montreal',\n",
       "       'Paphos', 'Barbados', 'Toronto', 'Copenhagen', 'Los Angeles',\n",
       "       'Singapore', 'Cyprus', 'Heathrow', 'Sydney', 'Pisa', 'Malaga',\n",
       "       'Phoenix', 'Austin, TX', 'Athens', 'London Gatwick', 'Boston',\n",
       "       'Sao Paulo', 'Dusseldorf (DUS)', 'Cairo', 'Dublin', 'Glasgow',\n",
       "       'Vancouver', 'Rome', 'Gatwick', 'Istanbul', 'Indianapolis',\n",
       "       'Gran Canaria', 'Belfast City', 'Cape Town', 'Miami',\n",
       "       'Johannesburg', 'Palma de Mallorca', 'Zürich', 'Brussels',\n",
       "       'Bucharest', 'Manchester', 'Seville', 'London Heatrow',\n",
       "       'Anchorage', 'Seattle', 'Malta', 'San Francisco', 'İstanbul',\n",
       "       'Geneva', 'Istanbul via London', 'Porto', 'Catania', 'Berlin',\n",
       "       'Atlanta', 'Chicago', 'Milan', 'Dallas', 'Prague', 'San Diego',\n",
       "       'Hamburg', 'Kuwait', 'Frankfurt', 'Mumbai', 'Houston',\n",
       "       'New York JFK', 'Tenerife', 'Newark', 'LHR', 'Delhi', 'Larnaca',\n",
       "       'Washington', 'Edinburgh', 'Keflavik', 'Gibraltar', 'Rhodes',\n",
       "       'Barcelona', 'Inverness', 'London City Airport', 'Amsterdam',\n",
       "       'Dalaman', 'Newcastle', 'Amman', 'Chennai', 'Kingston', 'Dubai',\n",
       "       'New Orleans', 'London City', 'Marseille', 'Tokyo', 'Santiago',\n",
       "       'Sydney via Singapore', 'Nice', 'Las Vegas', 'New York', 'Sweden',\n",
       "       'Bangalore', 'Hong Kong', 'Santorini', 'Faro', 'Belfast',\n",
       "       'Mexico City', 'Marrakech', 'Munich', 'Zagreb', 'Portland',\n",
       "       'London Singapore', 'Lyon', 'Oslo', 'Islamabad', 'Palma', 'Vienna',\n",
       "       'Doha', 'Denver', 'Amman Jordan', 'Dusseldorf', 'Baltimore',\n",
       "       'Orlando', 'Jersey', 'Gothenburg', 'Tel Aviv', 'Dallas Ft Worth',\n",
       "       'Accra', 'Nairobi', 'Venice', 'Edmonton', 'Paris CDG', 'Cancun',\n",
       "       'Dallas Fort-Worth', 'Zurich', 'Bridgetown', 'Dubrovnik',\n",
       "       'Columbus', 'Basel', 'São Paulo', 'Riyadh', 'Austin', 'Male',\n",
       "       'Montréal', 'Durban', 'Warsaw', 'Washington DC', 'Stockholm',\n",
       "       'Abuja', 'Mykonos', 'Washington Dulles', 'Moscow', 'Preveza',\n",
       "       'Aberdeen', 'Ottawa', 'Antigua', 'Sofia', 'London-Heathrow',\n",
       "       'Nashville', 'Paris', 'Rio de Janeiro', 'Orlando, Florida',\n",
       "       'San Jose', 'Rio De Janeiro', 'Budapest', 'Toulouse', 'doha',\n",
       "       'Tirana', 'Bordeaux', 'Seychelles', 'Jeddah', 'Hyderabad',\n",
       "       'Kuala Lumpur', 'Buenos Aires', 'Bari', 'Abu Dhabi', 'Calgary',\n",
       "       'Kos', 'Cephalonia', 'Mahe', 'Johannesburg OR Tambo', 'Grenada',\n",
       "       'Rotterdam', 'Lima', 'Rome Fiumicino', 'St Lucia',\n",
       "       'Leeds Bradford', 'Cologne', 'Tampa', 'Tokyo Narita', 'Bermuda',\n",
       "       'Stuttgart', 'Nassau', 'St Petersburg', 'Bangkok', 'Brindisi',\n",
       "       'Heraklion', 'Philadelphia', 'HKG', 'Edinburgh-Florence', 'Turin',\n",
       "       'GIG', 'Florence', 'Naples', 'Fort Lauderdale', 'Beijing',\n",
       "       'Edimbourgh', 'Rio de Janiero', 'Reykjavik', 'San Jose, CA',\n",
       "       'Saint Lucia', 'Funchal', 'Berlin Tegel', 'Bologna',\n",
       "       'Seoul Incheon', 'Oakland', 'Düsseldorf', 'Tokyo Haneda',\n",
       "       'Shanghai', 'Grand Cayman', 'Port of Spain', 'Kalamata',\n",
       "       'Zakinthos', 'Salzburg', 'Bergen', 'Krakow', 'Mauritius', 'Corfu',\n",
       "       'Leeds', 'Valencia', 'Luxembourg', 'Seoul', 'Madeira',\n",
       "       'Manchester, UK', 'Bahrain', 'London LGW', 'Punta Cana',\n",
       "       'Stavanger', 'ORY', 'GOT', 'Tehran', 'LBA', 'TPA', 'LAX', 'SOF',\n",
       "       'IAD', 'YVR', 'LGW', 'MAD', 'MLA', 'SFO', 'CDG', 'BKK', 'GLA',\n",
       "       'LED', 'PVG', 'JFK', 'ATH', 'FUE', 'IAH', 'KUL', 'MAN', 'MIA',\n",
       "       'SYD', 'YYZ', 'ARN', 'IKA', 'CUN', 'DXB', 'BUD', 'FRA', 'BWI',\n",
       "       'KBP', 'UVF', 'SAN', 'DFW', 'CTU', 'NBO', 'SEA', 'SIN', 'MAA',\n",
       "       'TLV', 'RAK', 'AMS', 'DUS', 'JNB', 'CPT', 'BCN', 'LIS', 'DUB',\n",
       "       'MRU', 'LCA', 'ICN', 'KWI', 'EDI', 'CNX', 'HND', 'BRI', 'PMI',\n",
       "       'AGP', 'DBV', 'YYC', 'LCY', 'LAS', 'BOS', 'SJO', 'MEL', 'SJC',\n",
       "       'BAH', 'ATL', 'AUH', 'NAP', 'OPO', 'MUC', 'VIE', 'PRG', 'PHX',\n",
       "       'TXL', 'WAW', 'PHL', 'ABV', 'ZRH', 'MEX', 'DOH', 'GRU', 'BLR',\n",
       "       'ABZ', 'BSL', 'MXP', 'GVA', 'MRS', 'NCL', 'NAS', 'BGI', 'IBZ',\n",
       "       'LYS', 'PSA', 'ACC', 'OSL', 'ORD', 'FCO', 'GIB', 'PEK', 'RUH',\n",
       "       'CPH', 'SVQ', 'IST', 'TRN', 'AUS', 'HEL', 'PUJ', 'VCE',\n",
       "       'LHR - EDI', 'OUL', 'OTP', 'MCO', 'FNC', 'iAH', 'NCE',\n",
       "       'YVR-LIS via LHR', 'JED', 'YUL', 'Hannover', 'Kiev', 'SSH',\n",
       "       'Heathrow (London)', 'Fuereventura', 'lgw', 'St Kitts', 'DME',\n",
       "       'Lebanon', 'MAN-LHR', 'Istambul', 'Verona', 'LHR-BOM',\n",
       "       'Vancouver Canada', 'CAI', 'Helsinki', 'LHR-DEN', 'ORD-LHR',\n",
       "       'LHR-GLA', 'GLA-LHR'], dtype=object)"
      ]
     },
     "execution_count": 488,
     "metadata": {},
     "output_type": "execute_result"
    }
   ],
   "source": [
    "df['From'].unique()"
   ]
  },
  {
   "cell_type": "code",
   "execution_count": 489,
   "id": "6d8026e9-b908-4702-b226-1b7121d1b8e4",
   "metadata": {},
   "outputs": [],
   "source": [
    "df['From'].replace({\n",
    "    'UK': 'Unknown',\n",
    "    'BAH': 'Bahrain',\n",
    "    'LGW': 'London Gatwick',\n",
    "    'PUJ': 'Punta Cana',\n",
    "    'SVG': 'Stavanger',\n",
    "    'ORY': 'Paris Orly',\n",
    "    'GOT': 'Gothenburg Landvetter',\n",
    "    'IKA': 'Tehran',\n",
    "    'LBA': 'Leeds Bradford',\n",
    "    'TPA': 'Tampa',\n",
    "    'LAX': 'Los Angeles',\n",
    "    'SOF': 'Sofia',\n",
    "    'IAD': 'Washington Dulles',\n",
    "    'YVR': 'Vancouver',\n",
    "    'MAD': 'Madrid',\n",
    "    'MLA': 'Malta',\n",
    "    'SFO': 'San Francisco',\n",
    "    'CDG': 'Paris Charles de Gaulle',\n",
    "    'BKK': 'Bangkok',\n",
    "    'GLA': 'Glasgow',\n",
    "    'LED': 'Saint Petersburg',\n",
    "    'PVG': 'Shanghai Pudong',\n",
    "    'JFK': 'New York JFK',\n",
    "    'ATH': 'Athens',\n",
    "    'FUE': 'Fuerteventura',\n",
    "    'IAH': 'Houston',\n",
    "    'KUL': 'Kuala Lumpur',\n",
    "    'MAN': 'Manchester',\n",
    "    'MIA': 'Miami',\n",
    "    'SYD': 'Sydney',\n",
    "    'YYZ': 'Toronto Pearson',\n",
    "    'ARN': 'Stockholm Arlanda',\n",
    "    'CUN': 'Cancún',\n",
    "    'DXB': 'Dubai',\n",
    "    'BUD': 'Budapest',\n",
    "    'FRA': 'Frankfurt',\n",
    "    'BWI': 'Baltimore/Washington',\n",
    "    'KBP': 'Kyiv Boryspil',\n",
    "    'UVF': 'Saint Lucia',\n",
    "    'SAN': 'San Diego',\n",
    "    'DFW': 'Dallas/Fort Worth',\n",
    "    'CTU': 'Chengdu',\n",
    "    'NBO': 'Nairobi',\n",
    "    'SEA': 'Seattle-Tacoma',\n",
    "    'SIN': 'Singapore Changi',\n",
    "    'MAA': 'Chennai',\n",
    "    'TLV': 'Tel Aviv Ben Gurion',\n",
    "    'RAK': 'Marrakesh Menara',\n",
    "    'AMS': 'Amsterdam Schiphol',\n",
    "    'DUS': 'Düsseldorf',\n",
    "    'JNB': 'Johannesburg',\n",
    "    'CPT': 'Cape Town',\n",
    "    'BCN': 'Barcelona El Prat',\n",
    "    'LIS': 'Lisbon',\n",
    "    'DUB': 'Dublin',\n",
    "    'MRU': 'Mauritius',\n",
    "    'LCA': 'Larnaca',\n",
    "    'ICN': 'Seoul Incheon',\n",
    "    'KWI': 'Kuwait',\n",
    "    'EDI': 'Edinburgh',\n",
    "    'CNX': 'Chiang Mai',\n",
    "    'HND': 'Tokyo Haneda',\n",
    "    'BRI': 'Bari',\n",
    "    'PMI': 'Palma de Mallorca',\n",
    "    'AGP': 'Málaga',\n",
    "    'DBV': 'Dubrovnik',\n",
    "    'YYC': 'Calgary',\n",
    "    'LCY': 'London City',\n",
    "    'LAS': 'Las Vegas McCarran',\n",
    "    'BOS': 'Boston Logan',\n",
    "    'SJO': 'San José Juan Santamaría',\n",
    "    'MEL': 'Melbourne',\n",
    "    'SJC': 'San Jose Mineta',\n",
    "    'ATL': 'Atlanta Hartsfield-Jackson',\n",
    "    'AUH': 'Abu Dhabi',\n",
    "    'NAP': 'Naples',\n",
    "    'OPO': 'Porto',\n",
    "    'MUC': 'Munich',\n",
    "    'VIE': 'Vienna',\n",
    "    'PRG': 'Prague Václav Havel',\n",
    "    'PHX': 'Phoenix Sky Harbor',\n",
    "    'TXL': 'Berlin Tegel',\n",
    "    'WAW': 'Warsaw Chopin',\n",
    "    'PHL': 'Philadelphia',\n",
    "    'ABV': 'Abuja Nnamdi Azikiwe',\n",
    "    'ZRH': 'Zurich',\n",
    "    'MEX': 'Mexico City',\n",
    "    'DOH': 'Doha Hamad',\n",
    "    'GRU': 'São Paulo Guarulhos',\n",
    "    'BLR': 'Bangalore Kempegowda',\n",
    "    'ABZ': 'Aberdeen',\n",
    "    'BSL': 'Basel EuroAirport',\n",
    "    'MXP': 'Milan Malpensa',\n",
    "    'GVA': 'Geneva',\n",
    "    'MRS': 'Marseille Provence',\n",
    "    'NCL': 'Newcastle',\n",
    "    'NAS': 'Nassau Lynden Pindling',\n",
    "    'BGI': 'Bridgetown Grantley Adams',\n",
    "    'IBZ': 'Ibiza',\n",
    "    'LYS': 'Lyon Saint-Exupéry',\n",
    "    'PSA': 'Pisa Galileo Galilei',\n",
    "    'ACC': 'Accra Kotoka',\n",
    "    'OSL': 'Oslo Gardermoen',\n",
    "    'ORD': 'Chicago O\\'Hare',\n",
    "    'FCO': 'Rome Fiumicino',\n",
    "    'GIB': 'Gibraltar',\n",
    "    'PEK': 'Beijing Capital',\n",
    "    'RUH': 'Riyadh King Khalid',\n",
    "    'CPH': 'Copenhagen',\n",
    "    'SVQ': 'Seville',\n",
    "    'IST': 'Istanbul',\n",
    "    'TRN': 'Turin',\n",
    "    'AUS': 'Austin-Bergstrom',\n",
    "    'HEL': 'Helsinki-Vantaa',\n",
    "    'PUJ': 'Punta Cana',\n",
    "    'VCE': 'Venice Marco Polo',\n",
    "    'LHR - EDI': 'London Heathrow to Edinburgh',\n",
    "    'OUL': 'Oulu',\n",
    "    'OTP': 'Bucharest Henri Coandă',\n",
    "    'MCO': 'Orlando',\n",
    "    'FNC': 'Portugal',\n",
    "    'iAH': 'Houston',  \n",
    "    'NCE': 'France',  \n",
    "    'YVR-LIS via LHR': 'Richmond, Canada',  \n",
    "    'JED': 'Jeddah',  \n",
    "    'YUL': 'Dorval, Canada',  \n",
    "    'Hannover': 'Germany',\n",
    "    'Kiev': 'Ukraine',\n",
    "    'SSH': 'Sharm el-Sheikh, Egypt',  \n",
    "    'Heathrow (London)': 'London',\n",
    "    'Fuereventura': 'Spain',\n",
    "    'lgw': 'London', \n",
    "    'St Kitts': 'Saint Kitts and Nevis',\n",
    "    'DME': 'Moscow',  \n",
    "    'Lebanon': 'Lebanon',  \n",
    "    'MAN-LHR': 'Manchester',\n",
    "    'Istambul': 'Istambul',  \n",
    "    'Verona': 'Verona',\n",
    "    'LHR-BOM': 'London',\n",
    "    'Vancouver Canada': 'Vancouver',\n",
    "    'CAI': 'Egypt',\n",
    "    'Helsinki': 'Helsinki',\n",
    "    'LHR-DEN': 'London',  \n",
    "    'ORD-LHR': 'Chicago',  \n",
    "    'LHR-GLA': 'London',\n",
    "    'GLA-LHR': 'London'\n",
    "},inplace=True)"
   ]
  },
  {
   "cell_type": "code",
   "execution_count": 490,
   "id": "c4d980fd-476a-4898-8712-158d4eb2fe83",
   "metadata": {},
   "outputs": [
    {
     "data": {
      "text/plain": [
       "array(['Tokyo', 'London', 'Delhi', 'Milan', 'London Heathrow', 'Toulouse',\n",
       "       'Venice via London Heathrow', 'Houston', 'Brussels',\n",
       "       'London heathrow', 'Mumbai via London', 'Port of Spain via London',\n",
       "       'Sydney', 'Auckland via Sydney', 'Mexico City', 'Oslo',\n",
       "       'Porto via Singapore / London', 'Lisbon',\n",
       "       'London via Buenos Aires', 'Lisbon via London', 'Istanbul',\n",
       "       'Shannon, Ireland via Austin', 'San Francisco', 'Casablanca',\n",
       "       'Glasgow', 'Berlin', 'Miami', 'Cancun', 'Warsaw',\n",
       "       'Düsseldorf via London', 'Hong Kong', 'Miami (MIA)', 'Madrid',\n",
       "       'New York', 'Geneva', 'St Lucia', 'Houston via London Heathrow',\n",
       "       'Stockholm', 'Mumbai via London Heathrow', 'London Gatwick',\n",
       "       'Atlanta via London Heathrow', 'Portland', 'Frankfurt',\n",
       "       'Manchester via Heathrow', 'Singapore', 'Las Palmas',\n",
       "       'San Francisco via London Heathrow', 'Gatwick', 'Johannesburg',\n",
       "       'Tokyo Haneda via London', 'Stuttgart', 'Dublin',\n",
       "       'Manchester via London', 'Cape Town via London', 'Atlanta',\n",
       "       'Antalya', 'Heathrow via Barcelona', 'Gibraltar', 'Philadelphia',\n",
       "       'Cairo', 'Porto via Heathrow', 'Amsterdam', 'Austin',\n",
       "       'Istanbul via London', 'Punta Cana', 'Venice',\n",
       "       'Glasgow via London', 'New York JFK', 'Marseille', 'Munich',\n",
       "       'San Jose via London', 'Dubrovnik via Heathrow', 'Seville',\n",
       "       'Dublin via London Heathrow', 'San Francisco via London',\n",
       "       'Marseille via London', 'Las Vegas via London', 'Los Angeles',\n",
       "       'Porto', 'Dalaman', 'Milan via London', 'Vancouver via London',\n",
       "       'Santiago', 'Faro', 'London City', 'Keflavik', 'Malaga via London',\n",
       "       'Rome via London', 'Malaga', 'LAX', 'Paris', 'Algiers', 'Vienna',\n",
       "       'Warsaw via London', 'Lyon', 'Montpelier', 'Mumbai',\n",
       "       'Los Angeles via London', 'Rhodes', 'Las Vegas via Heathrow',\n",
       "       'Edinburgh', 'Cape Town', 'Ibiza', 'Naples', 'Keflavik via London',\n",
       "       'Amman', 'Bodrum', 'Washington', 'Kalamata', 'Funchal',\n",
       "       'Seattle via London Heathrow', 'Dallas via London',\n",
       "       'Nice via London', 'Edinburgh via Heathrow',\n",
       "       'Durban via London Heathrow', 'Barcelona via London',\n",
       "       'Cairo via London', 'Santorini', 'Larnaca', 'Madrid via London',\n",
       "       'Valencia', 'Nice', 'Dallas', 'Belfast', 'London via Singapore',\n",
       "       'Barcelona', 'Zagreb via London', 'Toronto via London,', 'Denver',\n",
       "       'Los Angeles via London Heathrow', 'Belfast via London',\n",
       "       'Heathrow', 'Copenhagen', 'Malta', 'Chicago via London',\n",
       "       'Amsterdam via London', 'Lanzarote', 'Marrakech',\n",
       "       'Munich via London', 'Nassau via London', 'Belfast City',\n",
       "       'Dubrovnik', 'Orlando via Heathrow', 'Dubai', 'Arlanda Stockholm',\n",
       "       'Tel Aviv via Heathrow', 'Milan Malpensa', 'Las Vegas',\n",
       "       'London Singapore', 'Buenos Aires', 'Vancouver', 'Male',\n",
       "       'Alicante', 'Tel Aviv', 'Athens Greece', 'Chicago',\n",
       "       'Vancouver via Heathrow', 'San francisco', 'Barbados',\n",
       "       'Delhi via London', 'Bangkok via Doha', 'Phoenix', 'Rome',\n",
       "       'Boston', 'Prague', 'Edinburgh via London Heathrow',\n",
       "       'Budapest via London', 'London UK (Heathrow)',\n",
       "       'London via Los Angeles', 'Bologna via London', 'Nairobi',\n",
       "       'Jersey', 'Jersey via London', 'Tampa', 'Manchester', 'Tenerife',\n",
       "       'Seattle via London', 'Manila via Singapore',\n",
       "       'Thessaloniki via London', 'Dublin via London', 'Marrakesh',\n",
       "       'New York via London', 'Washington via London', 'Reykjavik',\n",
       "       'Toronto', 'Baltimore via London Heathrow', 'Montreal via London',\n",
       "       'Santorini via Toronto / London', 'san Francisco',\n",
       "       'Hamburg via London', 'Toulouse via London', 'Thira',\n",
       "       'Manchester via Gatwick', 'Toronto via London',\n",
       "       'Zurich via London', 'Nairobi via Chicago / London', 'Mauritius',\n",
       "       'Johannesburg via London', 'Milan Malpensa via London', 'Aberdeen',\n",
       "       'Durban', 'Paris via London', 'Bologna', 'London via Dublin',\n",
       "       'Dubai via London', 'Sofia', 'Boston via London', 'Athens',\n",
       "       'Belfast via Heathrow', 'Orlando', 'Newcastle via London',\n",
       "       'Detroit via London', 'London Heaathrow', 'Moscow via London',\n",
       "       'Portland via London / Seattle', 'Paris CDG', 'Tenerife South',\n",
       "       'Mexico', 'Cayman Islands', 'Aberdeen via Heathrow',\n",
       "       'Tenerife south', 'Sao Paulo via London', 'Tirana London',\n",
       "       'Catania', 'Moscow Domodedovo', 'Corfu', 'Budapest via Heathrow',\n",
       "       'Bangalore via London', 'Accra', 'Preveza', 'Ahmedabad',\n",
       "       'Maldives', 'Lahore', 'Bangalore', 'London-Heathrow',\n",
       "       'Edinburgh via London', 'Seville via Miami / Madrid', 'Budapest',\n",
       "       'London via Chicago', 'Buenos Aires via London', 'Beijing',\n",
       "       'Seattle', 'Melbourne via London / Singapore',\n",
       "       'Stockholm via London', 'London Heathrow via Copenhagen',\n",
       "       'Bangkok', 'Accra, Ghana', 'Geneva via London', 'Tirana',\n",
       "       'Bucharest', 'Rio De Janeiro', 'Billund via London',\n",
       "       'Brussels via London', 'Toulouse via Singapore / London',\n",
       "       'Barbados via Gatwick', 'Sydney via Singapore', 'Bridgetown',\n",
       "       'Bangkok via London', 'Oslo via London', 'Berlin via London',\n",
       "       'londonDoha to London', 'Salzburg', 'Seychelles',\n",
       "       'Barcelona via London Heathrow', 'Abu Dhabi', 'Newcastle',\n",
       "       'Gothenburg via London', 'Kuala Lumpur', 'Berlin Tegel',\n",
       "       'Tel Aviv via London', 'Kefalonia', 'Abuja Nigeria', 'Gothenburg',\n",
       "       'Tampa via Gatwick', 'St Petersburgh', 'Kuala Lumpur via London',\n",
       "       'Mauritius via London', 'Shanghai', 'Copenhagen via London',\n",
       "       'San Jose Costa Rica', 'Pisa London Heathrow', 'Venice Marco Polo',\n",
       "       'Inverness', 'Kuwait via London', 'Durban via London',\n",
       "       'Larnaca via London', 'Olbia', 'Abu Dhabi via London Heathrow',\n",
       "       'Bermuda', 'Cagliari', 'Dusseldorf', 'Seoul',\n",
       "       'Delhi via London Heathrow', 'Atlanta via London', 'Nashville',\n",
       "       'Bengaluru', 'Leeds via Johannesburg / Heathrow',\n",
       "       'Auckland via Singapore', 'Chennai', 'Zurich', 'Calgary', 'Doha',\n",
       "       'Pisa', 'Tokyo Narita', 'Abu Dhabi via Heathrow', 'Larnaca Cyprus',\n",
       "       'Venice via London', 'Florence', 'Tokyo Haneda', 'Billund',\n",
       "       'Frankfurt via London', 'Philadelphia via London',\n",
       "       'Bangalore via Heathrow', 'London via Geneva', 'Miami via London',\n",
       "       'Amsterdam via London Heathrow', 'London Heathrow to Los Angeles',\n",
       "       'Fort Lauderdale', 'Mexico City via London', 'Accra via London',\n",
       "       'Hannover via London', 'Nairobi via London',\n",
       "       'San Fransisco via Heathrow', 'Leeds via London Heathrow',\n",
       "       'Newark via London', 'Brindisi', 'Düsseldorf', 'Paphos',\n",
       "       'Santiago de Chile', 'Seattle Tacoma', 'Tirana Rinas', 'Murcia',\n",
       "       'Abu Dhabi via London', 'Denver via London', 'LHR', 'Hamburg',\n",
       "       'Edinburgh-Florence', 'Tehran', 'Rome via London Heathrow',\n",
       "       'Baltimore', 'San Jose', 'Bucharest via London', 'London Cuty',\n",
       "       'Mahon', 'Newark', 'Prague via London', 'Montreal',\n",
       "       'Shanghai via London', 'Sao Paulo', 'Moscow',\n",
       "       'Lagos via London Heathrow', 'Muscat', 'Madeira',\n",
       "       'Hong Kong via London', 'Helsinki', 'Delhi Airport',\n",
       "       'Chennai via London', 'Bombay', 'Gothenburg via London Heathrow',\n",
       "       'Hyderabad via London', 'Hyderabad via London Heathrow',\n",
       "       'Duesseldorf', 'Lisbon via Heathrow', 'Paris Orly',\n",
       "       'Madrid via London Heathrow', 'Tobago', 'Turin', 'Rome Fiumicino',\n",
       "       'Basel', 'Verona', 'Seoul Incheon', 'Bahrain', 'Victoria Falls',\n",
       "       'Tampa via Heathrow/Gatwick', 'Nassau via Heathrow', 'Bari',\n",
       "       'Geneva via London Heathrow', 'Doha via London',\n",
       "       'Gatwick via St. Lucia', 'Bilbao', 'Kraków', 'Abuja, Nigeria',\n",
       "       'Biarritz', 'Zakinthos', 'Bristol', 'Munich via Heathrow',\n",
       "       'Tallinn', 'Zagreb', 'Genoa', 'Durban via London / Johannesburg',\n",
       "       'Luxembourg via London', 'Copenhagen via Heathrow', 'Antigua',\n",
       "       'Geneva via Heathrow', 'Bordeaux', 'Sofia via London',\n",
       "       'Rome via Heathrow', 'Tirana via Gatwick', 'Dallas via Heathrow',\n",
       "       'Bergen', 'Lima', 'Houston via London', 'Tokyo via London', 'TXL',\n",
       "       'Bergerac', 'Billund, Denmark', 'Chicago via Heathrow',\n",
       "       'Dublin via london', 'Stockholm Arlanda', 'Mexico via London',\n",
       "       'IST', 'JFK via LHR', 'New Delhi', 'New Orleans',\n",
       "       'Gibraltar via Heathrow', 'Grenada', 'Cape Town via Gatwick',\n",
       "       'Athens via Heathrow', 'Innsbruck', 'GVA', 'SFO/PHX via LHR',\n",
       "       'St Lucia via Gatwick', 'Luanda via Heathrow', 'YVR',\n",
       "       \"Chicago O'Hare\", 'Rio de Janeiro', 'ATH via LGW', 'SFO',\n",
       "       'Paris via Heathrow', 'IAD', 'HKG', 'NCE via LHR', 'BCN via LHR',\n",
       "       'MXP', 'BGI', 'PHL', 'LGW', 'Abuja', 'CPT', 'ORD', 'JNB via LHR',\n",
       "       'PHX', 'DXB', 'CDG via LHR', 'KUL', 'CUN', 'ZRH via LHR', 'DFW',\n",
       "       'PRG', 'AMM', 'FCO', 'LAX via LHR', 'LAS via LHR', 'BKK via LHR',\n",
       "       'LIM', 'DEN via LHR', 'YUL via LHR', 'SAN via LHR', 'TPA',\n",
       "       'CPT via LHR', 'YYZ via LHR', 'CPH', 'ANU', 'BFS via LHR',\n",
       "       'MAN via LHR', 'EDI', 'EZE', 'BKK', 'DEL via LHR', 'SVQ via LHR',\n",
       "       'BOM via LHR', 'AUS', 'PVG via LHR', 'MCO', 'SEA', 'MAN', 'UVF',\n",
       "       'LHR via SIN', 'YYC', 'LIS', 'MAD', 'SYD', 'ARN', 'ZRH', 'MRU',\n",
       "       'BHD', 'YYZ', 'SIN', 'BOS via LHR', 'DEL', 'KBP', 'LAS',\n",
       "       'LHR via LAD & ABV', 'IAH', 'DME', 'BWI', 'DUR', 'MIA', 'ALC',\n",
       "       'LCY', 'CLT via LHR', 'BOS', 'VLC', 'SVQ via MAD', 'JFK', 'OTP',\n",
       "       'CPT via JNB', 'AGP', 'EDI via LHR', 'BRU', 'LHR via BKK',\n",
       "       'ATH via LHR', 'MLA', 'NCE', 'ICN', 'PRG via LHR', 'BUD',\n",
       "       'NBO via LHR', 'FCO via LHR', 'DEN', 'DUB via LHR', 'LIS via LHR',\n",
       "       'ATL', 'DUS via LHR', 'BGO', 'ZRH via LCY', 'SIN via SYD', 'AMS',\n",
       "       'OPO', 'KGS', 'JNB', 'GVA via LHR', 'ATH', 'BIO', 'PER via SIN',\n",
       "       'KRK', 'LCA', 'DUB', 'DBV', 'SVO', 'OPO via LGW', 'MUC', 'PVG',\n",
       "       'SIN via LHR', 'GLA', 'RAK', 'BOS, SEA to LHR', 'CDG', 'YUL',\n",
       "       'SXF via LHR', 'SFO via PHL', 'AMS via LHR', 'BWI via LHR', 'NAS',\n",
       "       'CDG via BAH / LHR', 'KUL via LHR', 'FLR', 'SFO via LHR',\n",
       "       'MEX via LHR', 'BKK via KUL', 'EBB via LHR', 'SVQ', 'EWR',\n",
       "       'MCI via ORD', 'FAO', 'SAN', 'PFO', 'STR', 'PHL via LHR',\n",
       "       'INV via LHR', 'PUJ', 'BDA', 'IOM', 'GRU via LHR', 'BOM', 'WAW',\n",
       "       'BCN', 'CTA', 'FNC', 'BSL', 'ORD via LHR', 'JTR', 'IBZ',\n",
       "       'DXB via LHR', 'HKG via LHR', 'GRU', 'NBO', 'LHR via BAH', 'PEK',\n",
       "       'RTM', 'TXL via LHR', 'PSA', 'SEL via LHR', 'GIG', 'ACC via LHR',\n",
       "       'HEL', 'MAA', 'LHR via HEL', 'GIG via LHR', 'TLV via LHR', 'NAP',\n",
       "       'MIa', 'MLE', 'SFO via EDI', 'SZG', 'LHR via MIA', 'JED', 'MEX',\n",
       "       'YVR-LIS via LHR', 'NCL via LHR', 'NCL', 'MUC via LHR', 'SSH',\n",
       "       'Sydney via LHR', 'BRU via LHR', 'BNE via SIN', 'Krakow',\n",
       "       'Hannover', 'Dublin via LHR', 'Luanda', 'PEK via LHR',\n",
       "       'AUH via LHR', 'Chengdu', 'JFK (New York City)', 'St Kitts',\n",
       "       'Haneda', 'Cancun via Madrid', 'SYD via SIN', 'SVO via LHR',\n",
       "       'MIA via London', 'alicante', 'GIB', 'Gatwick via Antigua',\n",
       "       'JFK via SNN', 'OSL', 'Granada', 'Paris via LHR',\n",
       "       'Cape Town via LHR', 'IAD via LHR', 'Denver via LHR', 'Rome FCO',\n",
       "       'Milan via LHR', 'Manchester via LHR', 'New York via LHR',\n",
       "       'Boston via Heathrow', 'Kuala lumpur', 'Jeddah', 'Phoenix via LHR',\n",
       "       'Nassau', 'Vancouver via London Heathrow', 'DME via LGW / LHR',\n",
       "       'GLA via LHR', 'Orlando via Miami', 'Lisbon via LHR',\n",
       "       'San Fran via London', 'Zurich via LHR', 'Dublin via Heathrow',\n",
       "       'MAN-LHR', 'Entebbe', 'Tampa International', 'LHR-BOM',\n",
       "       'Singapire', 'London LHR', 'Orlando MCO', 'JFK via Shannon',\n",
       "       'TAV via LHR', 'Berlin via London Heathrow', 'Los Angesles',\n",
       "       'Chicago via LHR', 'Grand Cayman via Nassau', 'LUX',\n",
       "       'London to Paris to Rome', 'Turkey', 'VCE', 'SOF', 'LHR-DEN',\n",
       "       'ORD-LHR', 'LHR-GLA', 'GLA-LHR'], dtype=object)"
      ]
     },
     "execution_count": 490,
     "metadata": {},
     "output_type": "execute_result"
    }
   ],
   "source": [
    "df['To'].unique()"
   ]
  },
  {
   "cell_type": "code",
   "execution_count": 491,
   "id": "8546f905-800f-4240-9f0e-612598fbfc24",
   "metadata": {},
   "outputs": [],
   "source": [
    "df['To'].replace({\n",
    "    'BAH': 'Bahrain',\n",
    "    'LGW': 'London Gatwick',\n",
    "    'PUJ': 'Punta Cana',\n",
    "    'SVG': 'Stavanger',\n",
    "    'ORY': 'Paris Orly',\n",
    "    'GOT': 'Gothenburg Landvetter',\n",
    "    'IKA': 'Tehran',\n",
    "    'LBA': 'Leeds Bradford',\n",
    "    'TPA': 'Tampa',\n",
    "    'LAX': 'Los Angeles',\n",
    "    'SOF': 'Sofia',\n",
    "    'IAD': 'Washington Dulles',\n",
    "    'YVR': 'Vancouver',\n",
    "    'MAD': 'Madrid',\n",
    "    'MLA': 'Malta',\n",
    "    'SFO': 'San Francisco',\n",
    "    'CDG': 'Paris Charles de Gaulle',\n",
    "    'BKK': 'Bangkok',\n",
    "    'GLA': 'Glasgow',\n",
    "    'LED': 'Saint Petersburg',\n",
    "    'PVG': 'Shanghai Pudong',\n",
    "    'JFK': 'New York JFK',\n",
    "    'ATH': 'Athens',\n",
    "    'FUE': 'Fuerteventura',\n",
    "    'IAH': 'Houston',\n",
    "    'KUL': 'Kuala Lumpur',\n",
    "    'MAN': 'Manchester',\n",
    "    'MIA': 'Miami',\n",
    "    'SYD': 'Sydney',\n",
    "    'YYZ': 'Toronto Pearson',\n",
    "    'ARN': 'Stockholm Arlanda',\n",
    "    'CUN': 'Cancún',\n",
    "    'DXB': 'Dubai',\n",
    "    'BUD': 'Budapest',\n",
    "    'FRA': 'Frankfurt',\n",
    "    'BWI': 'Baltimore/Washington',\n",
    "    'KBP': 'Kyiv Boryspil',\n",
    "    'UVF': 'Saint Lucia',\n",
    "    'SAN': 'San Diego',\n",
    "    'DFW': 'Dallas/Fort Worth',\n",
    "    'CTU': 'Chengdu',\n",
    "    'NBO': 'Nairobi',\n",
    "    'SEA': 'Seattle-Tacoma',\n",
    "    'SIN': 'Singapore Changi',\n",
    "    'MAA': 'Chennai',\n",
    "    'TLV': 'Tel Aviv Ben Gurion',\n",
    "    'RAK': 'Marrakesh Menara',\n",
    "    'AMS': 'Amsterdam Schiphol',\n",
    "    'DUS': 'Düsseldorf',\n",
    "    'JNB': 'Johannesburg',\n",
    "    'CPT': 'Cape Town',\n",
    "    'BCN': 'Barcelona El Prat',\n",
    "    'LIS': 'Lisbon',\n",
    "    'DUB': 'Dublin',\n",
    "    'MRU': 'Mauritius',\n",
    "    'LCA': 'Larnaca',\n",
    "    'ICN': 'Seoul Incheon',\n",
    "    'KWI': 'Kuwait',\n",
    "    'EDI': 'Edinburgh',\n",
    "    'CNX': 'Chiang Mai',\n",
    "    'HND': 'Tokyo Haneda',\n",
    "    'BRI': 'Bari',\n",
    "    'PMI': 'Palma de Mallorca',\n",
    "    'AGP': 'Málaga',\n",
    "    'DBV': 'Dubrovnik',\n",
    "    'YYC': 'Calgary',\n",
    "    'LCY': 'London City',\n",
    "    'LAS': 'Las Vegas McCarran',\n",
    "    'BOS': 'Boston Logan',\n",
    "    'SJO': 'San José Juan Santamaría',\n",
    "    'MEL': 'Melbourne',\n",
    "    'SJC': 'San Jose Mineta',\n",
    "    'ATL': 'Atlanta Hartsfield-Jackson',\n",
    "    'AUH': 'Abu Dhabi',\n",
    "    'NAP': 'Naples',\n",
    "    'OPO': 'Porto',\n",
    "    'MUC': 'Munich',\n",
    "    'VIE': 'Vienna',\n",
    "    'PRG': 'Prague Václav Havel',\n",
    "    'PHX': 'Phoenix Sky Harbor',\n",
    "    'TXL': 'Berlin Tegel',\n",
    "    'WAW': 'Warsaw Chopin',\n",
    "    'PHL': 'Philadelphia',\n",
    "    'ABV': 'Abuja Nnamdi Azikiwe',\n",
    "    'ZRH': 'Zurich',\n",
    "    'MEX': 'Mexico City',\n",
    "    'DOH': 'Doha Hamad',\n",
    "    'GRU': 'São Paulo Guarulhos',\n",
    "    'BLR': 'Bangalore Kempegowda',\n",
    "    'ABZ': 'Aberdeen',\n",
    "    'BSL': 'Basel EuroAirport',\n",
    "    'MXP': 'Milan Malpensa',\n",
    "    'GVA': 'Geneva',\n",
    "    'MRS': 'Marseille Provence',\n",
    "    'NCL': 'Newcastle',\n",
    "    'NAS': 'Nassau Lynden Pindling',\n",
    "    'BGI': 'Bridgetown Grantley Adams',\n",
    "    'IBZ': 'Ibiza',\n",
    "    'LYS': 'Lyon Saint-Exupéry',\n",
    "    'PSA': 'Pisa Galileo Galilei',\n",
    "    'ACC': 'Accra Kotoka',\n",
    "    'OSL': 'Oslo Gardermoen',\n",
    "    'ORD': 'Chicago O\\'Hare',\n",
    "    'FCO': 'Rome Fiumicino',\n",
    "    'GIB': 'Gibraltar',\n",
    "    'PEK': 'Beijing Capital',\n",
    "    'RUH': 'Riyadh King Khalid',\n",
    "    'CPH': 'Copenhagen',\n",
    "    'SVQ': 'Seville',\n",
    "    'IST': 'Istanbul',\n",
    "    'TRN': 'Turin',\n",
    "    'AUS': 'Austin-Bergstrom',\n",
    "    'HEL': 'Helsinki-Vantaa',\n",
    "    'PUJ': 'Punta Cana',\n",
    "    'VCE': 'Venice Marco Polo',\n",
    "    'LHR - EDI': 'London Heathrow to Edinburgh',\n",
    "    'OUL': 'Oulu',\n",
    "    'OTP': 'Bucharest Henri Coandă',\n",
    "    'MCO': 'Orlando',\n",
    "    'FNC': 'Portugal',\n",
    "    'iAH': 'Houston',  \n",
    "    'NCE': 'France',  \n",
    "    'YVR-LIS via LHR': 'Richmond, Canada',  \n",
    "    'JED': 'Jeddah',  \n",
    "    'YUL': 'Dorval, Canada',  \n",
    "    'Hannover': 'Germany',\n",
    "    'Kiev': 'Ukraine',\n",
    "    'SSH': 'Sharm el-Sheikh, Egypt',  \n",
    "    'Heathrow (London)': 'London',\n",
    "    'Fuereventura': 'Spain',\n",
    "    'lgw': 'London', \n",
    "    'St Kitts': 'Saint Kitts and Nevis',\n",
    "    'DME': 'Moscow',  \n",
    "    'Lebanon': 'Lebanon',  \n",
    "    'MAN-LHR': 'Manchester',\n",
    "    'Istambul': 'Istambul',  \n",
    "    'Verona': 'Verona',\n",
    "    'LHR-BOM': 'London',\n",
    "    'Vancouver Canada': 'Vancouver',\n",
    "    'CAI': 'Egypt',\n",
    "    'Helsinki': 'Helsinki',\n",
    "    'LHR-DEN': 'London',  \n",
    "    'ORD-LHR': 'Chicago',  \n",
    "    'LHR-GLA': 'London',\n",
    "    'GLA-LHR': 'London',\n",
    "    'SFO/PHX via LHR': 'Phoenix',\n",
    "    'St Lucia via Gatwick': 'St Lucia',\n",
    "    'Luanda via Heathrow': 'Luanda',\n",
    "    \"Chicago O'Hare\": 'Chicago',\n",
    "    'Rio de Janeiro': 'Rio de Janeiro',\n",
    "    'ATH via LGW': 'Athens',\n",
    "    'Paris via Heathrow': 'Paris',\n",
    "    'Washington Dulles': 'Washington',\n",
    "    'HKG': 'Hong Kong',\n",
    "    'NCE via LHR': 'Nice',\n",
    "    'BCN via LHR': 'Barcelona',\n",
    "    'Bridgetown Grantley Adams': 'Bridgetown',\n",
    "    'Abuja': 'Abuja',\n",
    "    'JNB via LHR': 'Johannesburg',\n",
    "    'Phoenix Sky Harbor': 'Phoenix',\n",
    "    'CDG via LHR': 'Paris',\n",
    "    'Cancún': 'Cancun',\n",
    "    'ZRH via LHR': 'Zurich',\n",
    "    'Dallas/Fort Worth': 'Dallas',\n",
    "    'Prague Václav Havel': 'Prague',\n",
    "    'AMM': 'Amman',\n",
    "    'LAX via LHR': 'Los Angeles',\n",
    "    'LAS via LHR': 'Las Vegas',\n",
    "    'BKK via LHR': 'Bangkok',\n",
    "    'LIM': 'Lima',\n",
    "    'DEN via LHR': 'Denver',\n",
    "    'YUL via LHR': 'Montreal',\n",
    "    'SAN via LHR': 'San Diego',\n",
    "    'CPT via LHR': 'Cape Town',\n",
    "    'YYZ via LHR': 'Toronto',\n",
    "    'ANU': 'Antigua',\n",
    "    'BFS via LHR': 'Belfast',\n",
    "    'MAN via LHR': 'Manchester',\n",
    "    'EZE': 'Buenos Aires',\n",
    "    'DEL via LHR': 'Delhi',\n",
    "    'SVQ via LHR': 'Seville',\n",
    "    'BOM via LHR': 'Mumbai',\n",
    "    'Austin-Bergstrom': 'Austin',\n",
    "    'PVG via LHR': 'Shanghai',\n",
    "    'Seattle-Tacoma': 'Seattle',\n",
    "    'Saint Lucia': 'St Lucia',\n",
    "    'LHR via SIN': 'Singapore',\n",
    "    'BHD': 'Belfast',\n",
    "    'Toronto Pearson': 'Toronto',\n",
    "    'Singapore Changi': 'Singapore',\n",
    "    'BOS via LHR': 'Boston',\n",
    "    'DEL': 'Delhi',\n",
    "    'Kyiv Boryspil': 'Kiev',\n",
    "    'Las Vegas McCarran': 'Las Vegas',\n",
    "    'LHR via LAD & ABV': 'Unknown',  # It's not clear what this refers to\n",
    "    'Baltimore/Washington': 'Baltimore',\n",
    "    'DUR': 'Durban',\n",
    "    'ALC': 'Alicante',\n",
    "    'CLT via LHR': 'Charlotte',\n",
    "    'Boston Logan': 'Boston',\n",
    "    'VLC': 'Valencia',\n",
    "    'SVQ via MAD': 'Seville',\n",
    "    'Bucharest Henri Coandă': 'Bucharest',\n",
    "    'CPT via JNB': 'Cape Town',\n",
    "    'Málaga': 'Malaga',\n",
    "    'EDI via LHR': 'Edinburgh',\n",
    "    'BRU': 'Brussels',\n",
    "    'LHR via BKK': 'Bangkok',\n",
    "    'ATH via LHR': 'Athens',\n",
    "    'France': 'France',\n",
    "    'PRG via LHR': 'Prague',\n",
    "    'NBO via LHR': 'Nairobi',\n",
    "    'FCO via LHR': 'Rome',\n",
    "    'DEN': 'Denver',\n",
    "    'DUB via LHR': 'Dublin',\n",
    "    'LIS via LHR': 'Lisbon',\n",
    "    'Atlanta Hartsfield-Jackson': 'Atlanta',\n",
    "    'DUS via LHR': 'Dusseldorf',\n",
    "    'BGO': 'Bergen',\n",
    "    'ZRH via LCY': 'Zurich',\n",
    "    'SIN via SYD': 'Singapore',\n",
    "    'Amsterdam Schiphol': 'Amsterdam',\n",
    "    'KGS': 'Kos',\n",
    "    'GVA via LHR': 'Geneva',\n",
    "    'BIO': 'Bilbao',\n",
    "    'PER via SIN': 'Perth',\n",
    "    'KRK': 'Krakow',\n",
    "    'SVO': 'Moscow',\n",
    "    'OPO via LGW': 'Porto',\n",
    "    'Shanghai Pudong': 'Shanghai',\n",
    "    'SIN via LHR': 'Singapore',\n",
    "    'Marrakesh Menara': 'Marrakesh',\n",
    "    'BOS, SEA to LHR': 'Boston',\n",
    "    'Paris Charles de Gaulle': 'Paris',\n",
    "    'Dorval, Canada': 'Montreal',\n",
    "    'SXF via LHR': 'Berlin',\n",
    "    'SFO via PHL': 'San Francisco',\n",
    "    'AMS via LHR': 'Amsterdam',\n",
    "    'BWI via LHR': 'Baltimore',\n",
    "    'Nassau Lynden Pindling': 'Nassau',\n",
    "    'CDG via BAH / LHR': 'Paris',\n",
    "    'KUL via LHR': 'Kuala Lumpur',\n",
    "    'FLR': 'Florence',\n",
    "    'SFO via LHR': 'San Francisco',\n",
    "    'MEX via LHR': 'Mexico City',\n",
    "    'BKK via KUL': 'Bangkok',\n",
    "    'EBB via LHR': 'Entebbe',\n",
    "    'EWR': 'Newark',\n",
    "    'MCI via ORD': 'Kansas City',\n",
    "    'FAO': 'Faro',\n",
    "    'San Diego': 'San Diego',\n",
    "    'PFO': 'Paphos',\n",
    "    'STR': 'Stuttgart',\n",
    "    'PHL via LHR': 'Philadelphia',\n",
    "    'INV via LHR': 'Inverness',\n",
    "    'BDA': 'Bermuda',\n",
    "    'IOM': 'Isle of Man',\n",
    "    'GRU via LHR': 'Sao Paulo',\n",
    "    'BOM': 'Mumbai',\n",
    "    'Warsaw Chopin': 'Warsaw',\n",
    "    'Barcelona El Prat': 'Barcelona',\n",
    "    'CTA': 'Catania',\n",
    "    'Portugal': 'Portugal',\n",
    "    'Basel EuroAirport': 'Basel',\n",
    "    'ORD via LHR': 'Chicago',\n",
    "    'JTR': 'Santorini',\n",
    "    'DXB via LHR': 'Dubai',\n",
    "    'HKG via LHR': 'Hong Kong',\n",
    "    'São Paulo Guarulhos': 'Sao Paulo',\n",
    "    'LHR via BAH': 'London',  # Unclear, assumed London\n",
    "    'Beijing Capital': 'Beijing',\n",
    "    'RTM': 'Rotterdam',\n",
    "    'TXL via LHR': 'Berlin',\n",
    "    'Pisa Galileo Galilei': 'Pisa',\n",
    "    'SEL via LHR': 'Seoul',\n",
    "    'GIG': 'Rio de Janeiro',\n",
    "    'ACC via LHR': 'Accra',\n",
    "    'Helsinki-Vantaa': 'Helsinki',\n",
    "    'LHR via HEL': 'London',  # Unclear, assumed London\n",
    "    'GIG via LHR': 'Rio de Janeiro',\n",
    "    'TLV via LHR': 'Tel Aviv',\n",
    "    'MIa': 'Miami',\n",
    "    'MLE': 'Male',\n",
    "    'SFO via EDI': 'San Francisco',\n",
    "    'SZG': 'Salzburg',\n",
    "    'LHR via MIA': 'London',  # Unclear, assumed London\n",
    "    'Jeddah': 'Jeddah',\n",
    "    'Richmond, Canada': 'Richmond',\n",
    "    'NCL via LHR': 'Newcastle',\n",
    "    'MUC via LHR': 'Munich',\n",
    "    'Sharm el-Sheikh, Egypt': 'Sharm el-Sheikh',\n",
    "    'Sydney via LHR': 'Sydney',\n",
    "    'BRU via LHR': 'Brussels',\n",
    "    'BNE via SIN': 'Brisbane',\n",
    "    'Krakow': 'Krakow',\n",
    "    'Germany': 'Germany',\n",
    "    'Dublin via LHR': 'Dublin',\n",
    "    'Luanda': 'Luanda',\n",
    "    'PEK via LHR': 'Beijing',\n",
    "    'AUH via LHR': 'Abu Dhabi',\n",
    "    'Chengdu': 'Chengdu',\n",
    "    'JFK (New York City)': 'New York',\n",
    "    'Saint Kitts and Nevis': 'Saint Kitts and Nevis',\n",
    "    'Haneda': 'Tokyo',\n",
    "    'Cancun via Madrid': 'Cancun',\n",
    "    'SYD via SIN': 'Sydney',\n",
    "    'SVO via LHR': 'Moscow',\n",
    "    'MIA via London': 'Miami',\n",
    "    'alicante': 'Alicante',\n",
    "    'Gatwick via Antigua': 'Antigua',\n",
    "    'JFK via SNN': 'New York',\n",
    "    'Oslo Gardermoen': 'Oslo',\n",
    "    'Granada': 'Granada',\n",
    "    'Paris via LHR': 'Paris',\n",
    "    'Cape Town via LHR': 'Cape Town',\n",
    "    'IAD via LHR': 'Washington',\n",
    "    'Denver via LHR': 'Denver',\n",
    "    'Rome FCO': 'Rome',\n",
    "    'Milan via LHR': 'Milan',\n",
    "    'Manchester via LHR': 'Manchester',\n",
    "    'New York via LHR': 'New York',\n",
    "    'Boston via Heathrow': 'Boston',\n",
    "    'Kuala lumpur': 'Kuala Lumpur',\n",
    "    'Phoenix via LHR': 'Phoenix',\n",
    "    'Nassau': 'Nassau',\n",
    "    'Vancouver via London Heathrow': 'Vancouver',\n",
    "    'DME via LGW / LHR': 'Moscow',\n",
    "    'GLA via LHR': 'Glasgow',\n",
    "    'Orlando via Miami': 'Orlando',\n",
    "    'Lisbon via LHR': 'Lisbon',\n",
    "    'San Fran via London': 'San Francisco',\n",
    "    'Zurich via LHR': 'Zurich',\n",
    "    'Dublin via Heathrow': 'Dublin',\n",
    "    'Entebbe': 'Entebbe',\n",
    "    'Tampa International': 'Tampa',\n",
    "    'Singapire': 'Singapore',\n",
    "    'London LHR': 'London',\n",
    "    'Orlando MCO': 'Orlando',\n",
    "    'JFK via Shannon': 'New York',\n",
    "    'Berlin via London Heathrow': 'Berlin',\n",
    "    'Los Angesles': 'Los Angeles', \n",
    "    'Chicago via LHR': 'Chicago',\n",
    "    'Grand Cayman via Nassau': 'Grand Cayman',\n",
    "    'LUX': 'Luxembourg',\n",
    "    'London to Paris to Rome': 'London', \n",
    "    'Turkey': 'Turkey'},inplace=True)"
   ]
  },
  {
   "cell_type": "code",
   "execution_count": 492,
   "id": "8b5240fb-781f-4f42-823a-bd16b9600f4d",
   "metadata": {},
   "outputs": [
    {
     "data": {
      "text/plain": [
       "array(['Tokyo', 'London', 'Delhi', 'Milan', 'London Heathrow', 'Toulouse',\n",
       "       'Venice via London Heathrow', 'Houston', 'Brussels',\n",
       "       'London heathrow', 'Mumbai via London', 'Port of Spain via London',\n",
       "       'Sydney', 'Auckland via Sydney', 'Mexico City', 'Oslo',\n",
       "       'Porto via Singapore / London', 'Lisbon',\n",
       "       'London via Buenos Aires', 'Lisbon via London', 'Istanbul',\n",
       "       'Shannon, Ireland via Austin', 'San Francisco', 'Casablanca',\n",
       "       'Glasgow', 'Berlin', 'Miami', 'Cancun', 'Warsaw',\n",
       "       'Düsseldorf via London', 'Hong Kong', 'Miami (MIA)', 'Madrid',\n",
       "       'New York', 'Geneva', 'St Lucia', 'Houston via London Heathrow',\n",
       "       'Stockholm', 'Mumbai via London Heathrow', 'London Gatwick',\n",
       "       'Atlanta via London Heathrow', 'Portland', 'Frankfurt',\n",
       "       'Manchester via Heathrow', 'Singapore', 'Las Palmas',\n",
       "       'San Francisco via London Heathrow', 'Gatwick', 'Johannesburg',\n",
       "       'Tokyo Haneda via London', 'Stuttgart', 'Dublin',\n",
       "       'Manchester via London', 'Cape Town via London', 'Atlanta',\n",
       "       'Antalya', 'Heathrow via Barcelona', 'Gibraltar', 'Philadelphia',\n",
       "       'Cairo', 'Porto via Heathrow', 'Amsterdam', 'Austin',\n",
       "       'Istanbul via London', 'Punta Cana', 'Venice',\n",
       "       'Glasgow via London', 'New York JFK', 'Marseille', 'Munich',\n",
       "       'San Jose via London', 'Dubrovnik via Heathrow', 'Seville',\n",
       "       'Dublin via London Heathrow', 'San Francisco via London',\n",
       "       'Marseille via London', 'Las Vegas via London', 'Los Angeles',\n",
       "       'Porto', 'Dalaman', 'Milan via London', 'Vancouver via London',\n",
       "       'Santiago', 'Faro', 'London City', 'Keflavik', 'Malaga via London',\n",
       "       'Rome via London', 'Malaga', 'Paris', 'Algiers', 'Vienna',\n",
       "       'Warsaw via London', 'Lyon', 'Montpelier', 'Mumbai',\n",
       "       'Los Angeles via London', 'Rhodes', 'Las Vegas via Heathrow',\n",
       "       'Edinburgh', 'Cape Town', 'Ibiza', 'Naples', 'Keflavik via London',\n",
       "       'Amman', 'Bodrum', 'Washington', 'Kalamata', 'Funchal',\n",
       "       'Seattle via London Heathrow', 'Dallas via London',\n",
       "       'Nice via London', 'Edinburgh via Heathrow',\n",
       "       'Durban via London Heathrow', 'Barcelona via London',\n",
       "       'Cairo via London', 'Santorini', 'Larnaca', 'Madrid via London',\n",
       "       'Valencia', 'Nice', 'Dallas', 'Belfast', 'London via Singapore',\n",
       "       'Barcelona', 'Zagreb via London', 'Toronto via London,', 'Denver',\n",
       "       'Los Angeles via London Heathrow', 'Belfast via London',\n",
       "       'Heathrow', 'Copenhagen', 'Malta', 'Chicago via London',\n",
       "       'Amsterdam via London', 'Lanzarote', 'Marrakech',\n",
       "       'Munich via London', 'Nassau via London', 'Belfast City',\n",
       "       'Dubrovnik', 'Orlando via Heathrow', 'Dubai', 'Arlanda Stockholm',\n",
       "       'Tel Aviv via Heathrow', 'Milan Malpensa', 'Las Vegas',\n",
       "       'London Singapore', 'Buenos Aires', 'Vancouver', 'Male',\n",
       "       'Alicante', 'Tel Aviv', 'Athens Greece', 'Chicago',\n",
       "       'Vancouver via Heathrow', 'San francisco', 'Barbados',\n",
       "       'Delhi via London', 'Bangkok via Doha', 'Phoenix', 'Rome',\n",
       "       'Boston', 'Prague', 'Edinburgh via London Heathrow',\n",
       "       'Budapest via London', 'London UK (Heathrow)',\n",
       "       'London via Los Angeles', 'Bologna via London', 'Nairobi',\n",
       "       'Jersey', 'Jersey via London', 'Tampa', 'Manchester', 'Tenerife',\n",
       "       'Seattle via London', 'Manila via Singapore',\n",
       "       'Thessaloniki via London', 'Dublin via London', 'Marrakesh',\n",
       "       'New York via London', 'Washington via London', 'Reykjavik',\n",
       "       'Toronto', 'Baltimore via London Heathrow', 'Montreal via London',\n",
       "       'Santorini via Toronto / London', 'san Francisco',\n",
       "       'Hamburg via London', 'Toulouse via London', 'Thira',\n",
       "       'Manchester via Gatwick', 'Toronto via London',\n",
       "       'Zurich via London', 'Nairobi via Chicago / London', 'Mauritius',\n",
       "       'Johannesburg via London', 'Milan Malpensa via London', 'Aberdeen',\n",
       "       'Durban', 'Paris via London', 'Bologna', 'London via Dublin',\n",
       "       'Dubai via London', 'Sofia', 'Boston via London', 'Athens',\n",
       "       'Belfast via Heathrow', 'Orlando', 'Newcastle via London',\n",
       "       'Detroit via London', 'London Heaathrow', 'Moscow via London',\n",
       "       'Portland via London / Seattle', 'Paris CDG', 'Tenerife South',\n",
       "       'Mexico', 'Cayman Islands', 'Aberdeen via Heathrow',\n",
       "       'Tenerife south', 'Sao Paulo via London', 'Tirana London',\n",
       "       'Catania', 'Moscow Domodedovo', 'Corfu', 'Budapest via Heathrow',\n",
       "       'Bangalore via London', 'Accra', 'Preveza', 'Ahmedabad',\n",
       "       'Maldives', 'Lahore', 'Bangalore', 'London-Heathrow',\n",
       "       'Edinburgh via London', 'Seville via Miami / Madrid', 'Budapest',\n",
       "       'London via Chicago', 'Buenos Aires via London', 'Beijing',\n",
       "       'Seattle', 'Melbourne via London / Singapore',\n",
       "       'Stockholm via London', 'London Heathrow via Copenhagen',\n",
       "       'Bangkok', 'Accra, Ghana', 'Geneva via London', 'Tirana',\n",
       "       'Bucharest', 'Rio De Janeiro', 'Billund via London',\n",
       "       'Brussels via London', 'Toulouse via Singapore / London',\n",
       "       'Barbados via Gatwick', 'Sydney via Singapore', 'Bridgetown',\n",
       "       'Bangkok via London', 'Oslo via London', 'Berlin via London',\n",
       "       'londonDoha to London', 'Salzburg', 'Seychelles',\n",
       "       'Barcelona via London Heathrow', 'Abu Dhabi', 'Newcastle',\n",
       "       'Gothenburg via London', 'Kuala Lumpur', 'Berlin Tegel',\n",
       "       'Tel Aviv via London', 'Kefalonia', 'Abuja Nigeria', 'Gothenburg',\n",
       "       'Tampa via Gatwick', 'St Petersburgh', 'Kuala Lumpur via London',\n",
       "       'Mauritius via London', 'Shanghai', 'Copenhagen via London',\n",
       "       'San Jose Costa Rica', 'Pisa London Heathrow', 'Venice Marco Polo',\n",
       "       'Inverness', 'Kuwait via London', 'Durban via London',\n",
       "       'Larnaca via London', 'Olbia', 'Abu Dhabi via London Heathrow',\n",
       "       'Bermuda', 'Cagliari', 'Dusseldorf', 'Seoul',\n",
       "       'Delhi via London Heathrow', 'Atlanta via London', 'Nashville',\n",
       "       'Bengaluru', 'Leeds via Johannesburg / Heathrow',\n",
       "       'Auckland via Singapore', 'Chennai', 'Zurich', 'Calgary', 'Doha',\n",
       "       'Pisa', 'Tokyo Narita', 'Abu Dhabi via Heathrow', 'Larnaca Cyprus',\n",
       "       'Venice via London', 'Florence', 'Tokyo Haneda', 'Billund',\n",
       "       'Frankfurt via London', 'Philadelphia via London',\n",
       "       'Bangalore via Heathrow', 'London via Geneva', 'Miami via London',\n",
       "       'Amsterdam via London Heathrow', 'London Heathrow to Los Angeles',\n",
       "       'Fort Lauderdale', 'Mexico City via London', 'Accra via London',\n",
       "       'Hannover via London', 'Nairobi via London',\n",
       "       'San Fransisco via Heathrow', 'Leeds via London Heathrow',\n",
       "       'Newark via London', 'Brindisi', 'Düsseldorf', 'Paphos',\n",
       "       'Santiago de Chile', 'Seattle Tacoma', 'Tirana Rinas', 'Murcia',\n",
       "       'Abu Dhabi via London', 'Denver via London', 'LHR', 'Hamburg',\n",
       "       'Edinburgh-Florence', 'Tehran', 'Rome via London Heathrow',\n",
       "       'Baltimore', 'San Jose', 'Bucharest via London', 'London Cuty',\n",
       "       'Mahon', 'Newark', 'Prague via London', 'Montreal',\n",
       "       'Shanghai via London', 'Sao Paulo', 'Moscow',\n",
       "       'Lagos via London Heathrow', 'Muscat', 'Madeira',\n",
       "       'Hong Kong via London', 'Helsinki', 'Delhi Airport',\n",
       "       'Chennai via London', 'Bombay', 'Gothenburg via London Heathrow',\n",
       "       'Hyderabad via London', 'Hyderabad via London Heathrow',\n",
       "       'Duesseldorf', 'Lisbon via Heathrow', 'Paris Orly',\n",
       "       'Madrid via London Heathrow', 'Tobago', 'Turin', 'Rome Fiumicino',\n",
       "       'Basel', 'Verona', 'Seoul Incheon', 'Bahrain', 'Victoria Falls',\n",
       "       'Tampa via Heathrow/Gatwick', 'Nassau via Heathrow', 'Bari',\n",
       "       'Geneva via London Heathrow', 'Doha via London',\n",
       "       'Gatwick via St. Lucia', 'Bilbao', 'Kraków', 'Abuja, Nigeria',\n",
       "       'Biarritz', 'Zakinthos', 'Bristol', 'Munich via Heathrow',\n",
       "       'Tallinn', 'Zagreb', 'Genoa', 'Durban via London / Johannesburg',\n",
       "       'Luxembourg via London', 'Copenhagen via Heathrow', 'Antigua',\n",
       "       'Geneva via Heathrow', 'Bordeaux', 'Sofia via London',\n",
       "       'Rome via Heathrow', 'Tirana via Gatwick', 'Dallas via Heathrow',\n",
       "       'Bergen', 'Lima', 'Houston via London', 'Tokyo via London',\n",
       "       'Bergerac', 'Billund, Denmark', 'Chicago via Heathrow',\n",
       "       'Dublin via london', 'Stockholm Arlanda', 'Mexico via London',\n",
       "       'JFK via LHR', 'New Delhi', 'New Orleans',\n",
       "       'Gibraltar via Heathrow', 'Grenada', 'Cape Town via Gatwick',\n",
       "       'Athens via Heathrow', 'Innsbruck', 'Luanda', 'Rio de Janeiro',\n",
       "       'Washington Dulles', 'Bridgetown Grantley Adams', 'Abuja',\n",
       "       \"Chicago O'Hare\", 'Phoenix Sky Harbor', 'Cancún',\n",
       "       'Dallas/Fort Worth', 'Prague Václav Havel', 'San Diego',\n",
       "       'Austin-Bergstrom', 'Seattle-Tacoma', 'Saint Lucia',\n",
       "       'Toronto Pearson', 'Singapore Changi', 'Kyiv Boryspil',\n",
       "       'Las Vegas McCarran', 'Unknown', 'Baltimore/Washington',\n",
       "       'Charlotte', 'Boston Logan', 'Bucharest Henri Coandă', 'Málaga',\n",
       "       'France', 'Atlanta Hartsfield-Jackson', 'Amsterdam Schiphol',\n",
       "       'Kos', 'Perth', 'Krakow', 'Shanghai Pudong', 'Marrakesh Menara',\n",
       "       'Paris Charles de Gaulle', 'Dorval, Canada',\n",
       "       'Nassau Lynden Pindling', 'Entebbe', 'Kansas City', 'Isle of Man',\n",
       "       'Warsaw Chopin', 'Barcelona El Prat', 'Portugal',\n",
       "       'Basel EuroAirport', 'São Paulo Guarulhos', 'Beijing Capital',\n",
       "       'Rotterdam', 'Pisa Galileo Galilei', 'Helsinki-Vantaa', 'Jeddah',\n",
       "       'Richmond, Canada', 'Sharm el-Sheikh, Egypt', 'Brisbane',\n",
       "       'Germany', 'Chengdu', 'Saint Kitts and Nevis', 'Oslo Gardermoen',\n",
       "       'Granada', 'Nassau', 'TAV via LHR', 'Grand Cayman', 'Luxembourg',\n",
       "       'Turkey'], dtype=object)"
      ]
     },
     "execution_count": 492,
     "metadata": {},
     "output_type": "execute_result"
    }
   ],
   "source": [
    "df['To'].unique()"
   ]
  },
  {
   "cell_type": "code",
   "execution_count": 493,
   "id": "417cc2df-185a-4dc3-a583-a11acc8dc1ea",
   "metadata": {},
   "outputs": [],
   "source": [
    "unk= df[df['To'] == 'TAV via LHR'].index[0]"
   ]
  },
  {
   "cell_type": "code",
   "execution_count": 494,
   "id": "42979416-363a-4129-a7e7-df2751fc0f34",
   "metadata": {},
   "outputs": [],
   "source": [
    "df.drop([unk],inplace=True)"
   ]
  },
  {
   "cell_type": "code",
   "execution_count": 495,
   "id": "41a3124b-4af2-4891-8cce-151186d3de66",
   "metadata": {},
   "outputs": [
    {
     "data": {
      "text/plain": [
       "(2992, 21)"
      ]
     },
     "execution_count": 495,
     "metadata": {},
     "output_type": "execute_result"
    }
   ],
   "source": [
    "df.shape"
   ]
  },
  {
   "cell_type": "code",
   "execution_count": 496,
   "id": "aa139878-d55b-4459-8d45-993e8819fb49",
   "metadata": {},
   "outputs": [
    {
     "data": {
      "text/plain": [
       "array(['Solo Leisure', 'Solo Leisure', 'Solo Leisure'], dtype='<U12')"
      ]
     },
     "execution_count": 496,
     "metadata": {},
     "output_type": "execute_result"
    }
   ],
   "source": [
    "null_travel_type = df[df['Travel_Type'].isnull()]\n",
    "Travel_Type_temp = []\n",
    "for index, row in null_travel_type.iterrows():\n",
    "    matching_row = df[(df['From'] == row['From']) & (df['To'] == row['To']) & (~df['Travel_Type'].isnull())]\n",
    "    Travel_Type_temp.append(matching_row.iloc[0]['Travel_Type'])\n",
    "Travel_Type_temp = np.asarray(Travel_Type_temp)\n",
    "Travel_Type_temp"
   ]
  },
  {
   "cell_type": "code",
   "execution_count": 497,
   "id": "fac42e79-9ccb-40cd-88dc-9aecd0639154",
   "metadata": {},
   "outputs": [
    {
     "data": {
      "text/plain": [
       "'Solo Leisure'"
      ]
     },
     "execution_count": 497,
     "metadata": {},
     "output_type": "execute_result"
    }
   ],
   "source": [
    "from collections import Counter\n",
    "counter = Counter(Travel_Type_temp)\n",
    "Travel_Type_temp_mode = counter.most_common()[0][0]\n",
    "Travel_Type_temp_mode"
   ]
  },
  {
   "cell_type": "code",
   "execution_count": 498,
   "id": "210052ec-75b3-4b53-84a8-25f964c9484c",
   "metadata": {},
   "outputs": [
    {
     "data": {
      "text/plain": [
       "Review_Date                      0\n",
       "Rating                           0\n",
       "Comment                          0\n",
       "Reviewer_Name                    0\n",
       "Reviewer_Country                 0\n",
       "Aircraft                      1031\n",
       "Travel_Type                      3\n",
       "Seat_Type                        1\n",
       "Route                            0\n",
       "Date_Flown                       0\n",
       "Recommended                      0\n",
       "Verified                         0\n",
       "Seat_Rating                    117\n",
       "Cabin_staff_service_Rating     129\n",
       "Food_Beverages_Rating          399\n",
       "Inflight_Rating               1171\n",
       "Ground_service_Rating           69\n",
       "Value_Rating                     0\n",
       "Full_review                      0\n",
       "From                             0\n",
       "To                               0\n",
       "dtype: int64"
      ]
     },
     "execution_count": 498,
     "metadata": {},
     "output_type": "execute_result"
    }
   ],
   "source": [
    "df.isnull().sum()"
   ]
  },
  {
   "cell_type": "code",
   "execution_count": 499,
   "id": "dafe2de0-f464-4559-b009-c503ba2c46b2",
   "metadata": {},
   "outputs": [],
   "source": [
    "df['Travel_Type'].fillna(value=Travel_Type_temp_mode,inplace=True)"
   ]
  },
  {
   "cell_type": "code",
   "execution_count": 500,
   "id": "d2cecac8-bdd4-4c17-b406-2fed463d30b5",
   "metadata": {},
   "outputs": [
    {
     "data": {
      "text/plain": [
       "Review_Date                      0\n",
       "Rating                           0\n",
       "Comment                          0\n",
       "Reviewer_Name                    0\n",
       "Reviewer_Country                 0\n",
       "Aircraft                      1031\n",
       "Travel_Type                      0\n",
       "Seat_Type                        1\n",
       "Route                            0\n",
       "Date_Flown                       0\n",
       "Recommended                      0\n",
       "Verified                         0\n",
       "Seat_Rating                    117\n",
       "Cabin_staff_service_Rating     129\n",
       "Food_Beverages_Rating          399\n",
       "Inflight_Rating               1171\n",
       "Ground_service_Rating           69\n",
       "Value_Rating                     0\n",
       "Full_review                      0\n",
       "From                             0\n",
       "To                               0\n",
       "dtype: int64"
      ]
     },
     "execution_count": 500,
     "metadata": {},
     "output_type": "execute_result"
    }
   ],
   "source": [
    "df.isnull().sum()"
   ]
  },
  {
   "cell_type": "code",
   "execution_count": 501,
   "id": "4fb66551-a4d9-43d5-b5bc-93029833a86c",
   "metadata": {
    "scrolled": true
   },
   "outputs": [],
   "source": [
    "null_Aircraft = df[df['Aircraft'].isnull()]\n",
    "Aircraft_temp = []\n",
    "for index, row in null_Aircraft.iterrows():\n",
    "    matching_row = df[(df['From'] == row['From']) & (df['To'] == row['To']) & (~df['Aircraft'].isnull())]\n",
    "    Aircraft_temp.extend(matching_row['Aircraft'].values)"
   ]
  },
  {
   "cell_type": "code",
   "execution_count": 502,
   "id": "fe6491b9-cdc1-47ee-b757-865dbb6730c7",
   "metadata": {},
   "outputs": [
    {
     "data": {
      "text/plain": [
       "'A320'"
      ]
     },
     "execution_count": 502,
     "metadata": {},
     "output_type": "execute_result"
    }
   ],
   "source": [
    "counter = Counter(Aircraft_temp)\n",
    "aircraft_type_mode = counter.most_common()[0][0]\n",
    "aircraft_type_mode"
   ]
  },
  {
   "cell_type": "code",
   "execution_count": 503,
   "id": "108c4294-bcc5-4cc0-bc3d-230499a2c464",
   "metadata": {},
   "outputs": [
    {
     "data": {
      "text/plain": [
       "Review_Date                      0\n",
       "Rating                           0\n",
       "Comment                          0\n",
       "Reviewer_Name                    0\n",
       "Reviewer_Country                 0\n",
       "Aircraft                      1031\n",
       "Travel_Type                      0\n",
       "Seat_Type                        1\n",
       "Route                            0\n",
       "Date_Flown                       0\n",
       "Recommended                      0\n",
       "Verified                         0\n",
       "Seat_Rating                    117\n",
       "Cabin_staff_service_Rating     129\n",
       "Food_Beverages_Rating          399\n",
       "Inflight_Rating               1171\n",
       "Ground_service_Rating           69\n",
       "Value_Rating                     0\n",
       "Full_review                      0\n",
       "From                             0\n",
       "To                               0\n",
       "dtype: int64"
      ]
     },
     "execution_count": 503,
     "metadata": {},
     "output_type": "execute_result"
    }
   ],
   "source": [
    "df.isnull().sum()"
   ]
  },
  {
   "cell_type": "code",
   "execution_count": 504,
   "id": "b32d90ac-2db1-4982-9db3-e23e209ebb27",
   "metadata": {},
   "outputs": [],
   "source": [
    "df['Aircraft'].fillna(value=aircraft_type_mode,inplace=True)"
   ]
  },
  {
   "cell_type": "code",
   "execution_count": 505,
   "id": "64be83ef-2161-4727-843c-2755af5c5afc",
   "metadata": {},
   "outputs": [
    {
     "data": {
      "text/plain": [
       "Review_Date                      0\n",
       "Rating                           0\n",
       "Comment                          0\n",
       "Reviewer_Name                    0\n",
       "Reviewer_Country                 0\n",
       "Aircraft                         0\n",
       "Travel_Type                      0\n",
       "Seat_Type                        1\n",
       "Route                            0\n",
       "Date_Flown                       0\n",
       "Recommended                      0\n",
       "Verified                         0\n",
       "Seat_Rating                    117\n",
       "Cabin_staff_service_Rating     129\n",
       "Food_Beverages_Rating          399\n",
       "Inflight_Rating               1171\n",
       "Ground_service_Rating           69\n",
       "Value_Rating                     0\n",
       "Full_review                      0\n",
       "From                             0\n",
       "To                               0\n",
       "dtype: int64"
      ]
     },
     "execution_count": 505,
     "metadata": {},
     "output_type": "execute_result"
    }
   ],
   "source": [
    "df.isnull().sum()"
   ]
  },
  {
   "cell_type": "code",
   "execution_count": 506,
   "id": "083f9ebd-03b5-4e43-87d8-2f1af9885b87",
   "metadata": {},
   "outputs": [
    {
     "data": {
      "text/plain": [
       "[1.0, 1.0]"
      ]
     },
     "execution_count": 506,
     "metadata": {},
     "output_type": "execute_result"
    }
   ],
   "source": [
    "null_seat_rating = df[df['Seat_Rating'].isnull()]\n",
    "seat_rating_temp = []\n",
    "for index, row in null_seat_rating.iterrows():\n",
    "    matching_row = df[(df['From'] == row['From']) & (df['To'] == row['To']) & (~df['Seat_Rating'].isnull())]\n",
    "    seat_rating_temp.extend(matching_row['Seat_Rating'].values)\n",
    "seat_rating_temp[:2]"
   ]
  },
  {
   "cell_type": "code",
   "execution_count": 507,
   "id": "0151dd24-42d2-461e-b21e-43190873fffc",
   "metadata": {},
   "outputs": [
    {
     "data": {
      "text/plain": [
       "3.0"
      ]
     },
     "execution_count": 507,
     "metadata": {},
     "output_type": "execute_result"
    }
   ],
   "source": [
    "seat_rating_medain = np.median(np.asarray(seat_rating_temp))\n",
    "seat_rating_medain"
   ]
  },
  {
   "cell_type": "code",
   "execution_count": 508,
   "id": "18b748fd-02a1-4758-b5c6-9bc1459c99dd",
   "metadata": {},
   "outputs": [
    {
     "data": {
      "text/plain": [
       "Review_Date                      0\n",
       "Rating                           0\n",
       "Comment                          0\n",
       "Reviewer_Name                    0\n",
       "Reviewer_Country                 0\n",
       "Aircraft                         0\n",
       "Travel_Type                      0\n",
       "Seat_Type                        1\n",
       "Route                            0\n",
       "Date_Flown                       0\n",
       "Recommended                      0\n",
       "Verified                         0\n",
       "Seat_Rating                    117\n",
       "Cabin_staff_service_Rating     129\n",
       "Food_Beverages_Rating          399\n",
       "Inflight_Rating               1171\n",
       "Ground_service_Rating           69\n",
       "Value_Rating                     0\n",
       "Full_review                      0\n",
       "From                             0\n",
       "To                               0\n",
       "dtype: int64"
      ]
     },
     "execution_count": 508,
     "metadata": {},
     "output_type": "execute_result"
    }
   ],
   "source": [
    "df.isnull().sum()"
   ]
  },
  {
   "cell_type": "code",
   "execution_count": 509,
   "id": "b8796b20-f642-412f-8946-c74f7c6a6b69",
   "metadata": {},
   "outputs": [],
   "source": [
    "df['Seat_Rating'].fillna(value=seat_rating_medain,inplace=True)"
   ]
  },
  {
   "cell_type": "code",
   "execution_count": 510,
   "id": "98879b1f-51ee-4e8c-8c92-7a54ae280faf",
   "metadata": {
    "scrolled": true
   },
   "outputs": [
    {
     "data": {
      "text/plain": [
       "Review_Date                      0\n",
       "Rating                           0\n",
       "Comment                          0\n",
       "Reviewer_Name                    0\n",
       "Reviewer_Country                 0\n",
       "Aircraft                         0\n",
       "Travel_Type                      0\n",
       "Seat_Type                        1\n",
       "Route                            0\n",
       "Date_Flown                       0\n",
       "Recommended                      0\n",
       "Verified                         0\n",
       "Seat_Rating                      0\n",
       "Cabin_staff_service_Rating     129\n",
       "Food_Beverages_Rating          399\n",
       "Inflight_Rating               1171\n",
       "Ground_service_Rating           69\n",
       "Value_Rating                     0\n",
       "Full_review                      0\n",
       "From                             0\n",
       "To                               0\n",
       "dtype: int64"
      ]
     },
     "execution_count": 510,
     "metadata": {},
     "output_type": "execute_result"
    }
   ],
   "source": [
    "df.isnull().sum()"
   ]
  },
  {
   "cell_type": "code",
   "execution_count": 511,
   "id": "b2cf6e1e-4471-4095-8963-759ad6ce13c1",
   "metadata": {},
   "outputs": [
    {
     "data": {
      "text/plain": [
       "[1.0, 3.0]"
      ]
     },
     "execution_count": 511,
     "metadata": {},
     "output_type": "execute_result"
    }
   ],
   "source": [
    "null_cabin_rating = df[df['Cabin_staff_service_Rating'].isnull()]\n",
    "seat_cabin_temp = []\n",
    "for index, row in null_cabin_rating.iterrows():\n",
    "    matching_row = df[(df['From'] == row['From']) & (df['To'] == row['To']) & (~df['Cabin_staff_service_Rating'].isnull())]\n",
    "    seat_cabin_temp.extend(matching_row['Cabin_staff_service_Rating'].values)\n",
    "seat_cabin_temp[:2]"
   ]
  },
  {
   "cell_type": "code",
   "execution_count": 512,
   "id": "2824390e-5373-46ed-b124-79baac5e0115",
   "metadata": {},
   "outputs": [
    {
     "data": {
      "text/plain": [
       "3.0"
      ]
     },
     "execution_count": 512,
     "metadata": {},
     "output_type": "execute_result"
    }
   ],
   "source": [
    "cabin_rating_median = np.median(np.asarray(seat_cabin_temp))\n",
    "cabin_rating_median"
   ]
  },
  {
   "cell_type": "code",
   "execution_count": 513,
   "id": "838686e7-54b9-406a-89ac-2ddc7e49f329",
   "metadata": {},
   "outputs": [
    {
     "data": {
      "text/plain": [
       "Review_Date                      0\n",
       "Rating                           0\n",
       "Comment                          0\n",
       "Reviewer_Name                    0\n",
       "Reviewer_Country                 0\n",
       "Aircraft                         0\n",
       "Travel_Type                      0\n",
       "Seat_Type                        1\n",
       "Route                            0\n",
       "Date_Flown                       0\n",
       "Recommended                      0\n",
       "Verified                         0\n",
       "Seat_Rating                      0\n",
       "Cabin_staff_service_Rating     129\n",
       "Food_Beverages_Rating          399\n",
       "Inflight_Rating               1171\n",
       "Ground_service_Rating           69\n",
       "Value_Rating                     0\n",
       "Full_review                      0\n",
       "From                             0\n",
       "To                               0\n",
       "dtype: int64"
      ]
     },
     "execution_count": 513,
     "metadata": {},
     "output_type": "execute_result"
    }
   ],
   "source": [
    "df.isnull().sum()"
   ]
  },
  {
   "cell_type": "code",
   "execution_count": 514,
   "id": "1c06127f-3952-4314-bf59-6aea197a9e6f",
   "metadata": {},
   "outputs": [],
   "source": [
    "df['Cabin_staff_service_Rating'].fillna(value=cabin_rating_median,inplace=True)"
   ]
  },
  {
   "cell_type": "code",
   "execution_count": 515,
   "id": "184efb8c-6179-420a-b902-5b8ae46673f3",
   "metadata": {},
   "outputs": [
    {
     "data": {
      "text/plain": [
       "Review_Date                      0\n",
       "Rating                           0\n",
       "Comment                          0\n",
       "Reviewer_Name                    0\n",
       "Reviewer_Country                 0\n",
       "Aircraft                         0\n",
       "Travel_Type                      0\n",
       "Seat_Type                        1\n",
       "Route                            0\n",
       "Date_Flown                       0\n",
       "Recommended                      0\n",
       "Verified                         0\n",
       "Seat_Rating                      0\n",
       "Cabin_staff_service_Rating       0\n",
       "Food_Beverages_Rating          399\n",
       "Inflight_Rating               1171\n",
       "Ground_service_Rating           69\n",
       "Value_Rating                     0\n",
       "Full_review                      0\n",
       "From                             0\n",
       "To                               0\n",
       "dtype: int64"
      ]
     },
     "execution_count": 515,
     "metadata": {},
     "output_type": "execute_result"
    }
   ],
   "source": [
    "df.isnull().sum()"
   ]
  },
  {
   "cell_type": "code",
   "execution_count": 516,
   "id": "c30b4a69-de55-4bc4-b73e-7ac9040c81ca",
   "metadata": {},
   "outputs": [
    {
     "data": {
      "text/plain": [
       "[1.0, 1.0]"
      ]
     },
     "execution_count": 516,
     "metadata": {},
     "output_type": "execute_result"
    }
   ],
   "source": [
    "null_bevarage_rating = df[df['Food_Beverages_Rating'].isnull()]\n",
    "seat_bevarage_temp = []\n",
    "for index, row in null_bevarage_rating.iterrows():\n",
    "    matching_row = df[(df['From'] == row['From']) & (df['To'] == row['To']) & (~df['Food_Beverages_Rating'].isnull())]\n",
    "    seat_bevarage_temp.extend(matching_row['Food_Beverages_Rating'].values)\n",
    "seat_bevarage_temp[:2]"
   ]
  },
  {
   "cell_type": "code",
   "execution_count": 517,
   "id": "deca6812-e205-44e7-97a1-ae3ada69f9aa",
   "metadata": {},
   "outputs": [
    {
     "data": {
      "text/plain": [
       "2.0"
      ]
     },
     "execution_count": 517,
     "metadata": {},
     "output_type": "execute_result"
    }
   ],
   "source": [
    "bevarage_median = np.median(np.asarray(seat_bevarage_temp))\n",
    "bevarage_median"
   ]
  },
  {
   "cell_type": "code",
   "execution_count": 518,
   "id": "b8d97f55-6756-46fb-8096-19b381c921c6",
   "metadata": {},
   "outputs": [
    {
     "data": {
      "text/plain": [
       "Review_Date                      0\n",
       "Rating                           0\n",
       "Comment                          0\n",
       "Reviewer_Name                    0\n",
       "Reviewer_Country                 0\n",
       "Aircraft                         0\n",
       "Travel_Type                      0\n",
       "Seat_Type                        1\n",
       "Route                            0\n",
       "Date_Flown                       0\n",
       "Recommended                      0\n",
       "Verified                         0\n",
       "Seat_Rating                      0\n",
       "Cabin_staff_service_Rating       0\n",
       "Food_Beverages_Rating          399\n",
       "Inflight_Rating               1171\n",
       "Ground_service_Rating           69\n",
       "Value_Rating                     0\n",
       "Full_review                      0\n",
       "From                             0\n",
       "To                               0\n",
       "dtype: int64"
      ]
     },
     "execution_count": 518,
     "metadata": {},
     "output_type": "execute_result"
    }
   ],
   "source": [
    "df.isnull().sum()"
   ]
  },
  {
   "cell_type": "code",
   "execution_count": 519,
   "id": "0e19b75b-2767-4495-af8e-2f533b79d229",
   "metadata": {},
   "outputs": [],
   "source": [
    "df['Food_Beverages_Rating'].fillna(value=bevarage_median,inplace=True)"
   ]
  },
  {
   "cell_type": "code",
   "execution_count": 520,
   "id": "d1aad34e-f1af-4689-9b7d-a60e5cd7de13",
   "metadata": {},
   "outputs": [
    {
     "data": {
      "text/plain": [
       "Review_Date                      0\n",
       "Rating                           0\n",
       "Comment                          0\n",
       "Reviewer_Name                    0\n",
       "Reviewer_Country                 0\n",
       "Aircraft                         0\n",
       "Travel_Type                      0\n",
       "Seat_Type                        1\n",
       "Route                            0\n",
       "Date_Flown                       0\n",
       "Recommended                      0\n",
       "Verified                         0\n",
       "Seat_Rating                      0\n",
       "Cabin_staff_service_Rating       0\n",
       "Food_Beverages_Rating            0\n",
       "Inflight_Rating               1171\n",
       "Ground_service_Rating           69\n",
       "Value_Rating                     0\n",
       "Full_review                      0\n",
       "From                             0\n",
       "To                               0\n",
       "dtype: int64"
      ]
     },
     "execution_count": 520,
     "metadata": {},
     "output_type": "execute_result"
    }
   ],
   "source": [
    "df.isnull().sum()"
   ]
  },
  {
   "cell_type": "code",
   "execution_count": 521,
   "id": "5c75846e-057c-4333-b252-35c0111e8053",
   "metadata": {},
   "outputs": [
    {
     "data": {
      "text/plain": [
       "[1.0, 1.0]"
      ]
     },
     "execution_count": 521,
     "metadata": {},
     "output_type": "execute_result"
    }
   ],
   "source": [
    "null_inflight_rating = df[df['Inflight_Rating'].isnull()]\n",
    "seat_inflight_temp = []\n",
    "for index, row in null_inflight_rating.iterrows():\n",
    "    matching_row = df[(df['From'] == row['From']) & (df['To'] == row['To']) & (~df['Inflight_Rating'].isnull())]\n",
    "    seat_inflight_temp.extend(matching_row['Inflight_Rating'].values)\n",
    "seat_inflight_temp[:2]"
   ]
  },
  {
   "cell_type": "code",
   "execution_count": 522,
   "id": "9f8ed7b2-e662-435b-b8c4-a3662c9624a9",
   "metadata": {},
   "outputs": [
    {
     "data": {
      "text/plain": [
       "2.0"
      ]
     },
     "execution_count": 522,
     "metadata": {},
     "output_type": "execute_result"
    }
   ],
   "source": [
    "inflight_median = np.median(np.asarray(seat_inflight_temp))\n",
    "inflight_median"
   ]
  },
  {
   "cell_type": "code",
   "execution_count": 523,
   "id": "109060b9-517d-493e-939f-c9378242b647",
   "metadata": {},
   "outputs": [
    {
     "data": {
      "text/plain": [
       "Review_Date                      0\n",
       "Rating                           0\n",
       "Comment                          0\n",
       "Reviewer_Name                    0\n",
       "Reviewer_Country                 0\n",
       "Aircraft                         0\n",
       "Travel_Type                      0\n",
       "Seat_Type                        1\n",
       "Route                            0\n",
       "Date_Flown                       0\n",
       "Recommended                      0\n",
       "Verified                         0\n",
       "Seat_Rating                      0\n",
       "Cabin_staff_service_Rating       0\n",
       "Food_Beverages_Rating            0\n",
       "Inflight_Rating               1171\n",
       "Ground_service_Rating           69\n",
       "Value_Rating                     0\n",
       "Full_review                      0\n",
       "From                             0\n",
       "To                               0\n",
       "dtype: int64"
      ]
     },
     "execution_count": 523,
     "metadata": {},
     "output_type": "execute_result"
    }
   ],
   "source": [
    "df.isnull().sum()"
   ]
  },
  {
   "cell_type": "code",
   "execution_count": 524,
   "id": "8d3ef039-b798-4bd7-8304-c28334961c66",
   "metadata": {},
   "outputs": [],
   "source": [
    "df['Inflight_Rating'].fillna(value=inflight_median,inplace=True)"
   ]
  },
  {
   "cell_type": "code",
   "execution_count": 525,
   "id": "7988a01f-61f6-421a-a979-a5446c54be7b",
   "metadata": {},
   "outputs": [
    {
     "data": {
      "text/plain": [
       "Review_Date                    0\n",
       "Rating                         0\n",
       "Comment                        0\n",
       "Reviewer_Name                  0\n",
       "Reviewer_Country               0\n",
       "Aircraft                       0\n",
       "Travel_Type                    0\n",
       "Seat_Type                      1\n",
       "Route                          0\n",
       "Date_Flown                     0\n",
       "Recommended                    0\n",
       "Verified                       0\n",
       "Seat_Rating                    0\n",
       "Cabin_staff_service_Rating     0\n",
       "Food_Beverages_Rating          0\n",
       "Inflight_Rating                0\n",
       "Ground_service_Rating         69\n",
       "Value_Rating                   0\n",
       "Full_review                    0\n",
       "From                           0\n",
       "To                             0\n",
       "dtype: int64"
      ]
     },
     "execution_count": 525,
     "metadata": {},
     "output_type": "execute_result"
    }
   ],
   "source": [
    "df.isnull().sum()"
   ]
  },
  {
   "cell_type": "code",
   "execution_count": 526,
   "id": "4432b06a-86ed-4d9d-a59e-a275b53896ac",
   "metadata": {},
   "outputs": [
    {
     "data": {
      "text/plain": [
       "[1.0, 3.0]"
      ]
     },
     "execution_count": 526,
     "metadata": {},
     "output_type": "execute_result"
    }
   ],
   "source": [
    "null_ground_rating = df[df['Ground_service_Rating'].isnull()]\n",
    "seat_ground_temp = []\n",
    "for index, row in null_ground_rating.iterrows():\n",
    "    matching_row = df[(df['From'] == row['From']) & (df['To'] == row['To']) & (~df['Ground_service_Rating'].isnull())]\n",
    "    seat_ground_temp.extend(matching_row['Ground_service_Rating'].values)\n",
    "seat_ground_temp[:2]"
   ]
  },
  {
   "cell_type": "code",
   "execution_count": 527,
   "id": "1dd552dc-587c-4b53-af08-5b10b7e64ed3",
   "metadata": {},
   "outputs": [
    {
     "data": {
      "text/plain": [
       "3.0"
      ]
     },
     "execution_count": 527,
     "metadata": {},
     "output_type": "execute_result"
    }
   ],
   "source": [
    "ground_median = np.median(np.asarray(seat_ground_temp))\n",
    "ground_median"
   ]
  },
  {
   "cell_type": "code",
   "execution_count": 528,
   "id": "aaec5222-03ea-4df1-ae9c-0b627bfdc165",
   "metadata": {},
   "outputs": [
    {
     "data": {
      "text/plain": [
       "Review_Date                    0\n",
       "Rating                         0\n",
       "Comment                        0\n",
       "Reviewer_Name                  0\n",
       "Reviewer_Country               0\n",
       "Aircraft                       0\n",
       "Travel_Type                    0\n",
       "Seat_Type                      1\n",
       "Route                          0\n",
       "Date_Flown                     0\n",
       "Recommended                    0\n",
       "Verified                       0\n",
       "Seat_Rating                    0\n",
       "Cabin_staff_service_Rating     0\n",
       "Food_Beverages_Rating          0\n",
       "Inflight_Rating                0\n",
       "Ground_service_Rating         69\n",
       "Value_Rating                   0\n",
       "Full_review                    0\n",
       "From                           0\n",
       "To                             0\n",
       "dtype: int64"
      ]
     },
     "execution_count": 528,
     "metadata": {},
     "output_type": "execute_result"
    }
   ],
   "source": [
    "df.isnull().sum()"
   ]
  },
  {
   "cell_type": "code",
   "execution_count": 529,
   "id": "9a91f41d-7df9-4fb1-a359-e95e8e8aaedd",
   "metadata": {},
   "outputs": [],
   "source": [
    "df['Ground_service_Rating'].fillna(value=ground_median,inplace=True)"
   ]
  },
  {
   "cell_type": "code",
   "execution_count": 530,
   "id": "c7723efd-4388-4bc1-85b2-aa029c228eaa",
   "metadata": {},
   "outputs": [
    {
     "data": {
      "text/plain": [
       "Review_Date                   0\n",
       "Rating                        0\n",
       "Comment                       0\n",
       "Reviewer_Name                 0\n",
       "Reviewer_Country              0\n",
       "Aircraft                      0\n",
       "Travel_Type                   0\n",
       "Seat_Type                     1\n",
       "Route                         0\n",
       "Date_Flown                    0\n",
       "Recommended                   0\n",
       "Verified                      0\n",
       "Seat_Rating                   0\n",
       "Cabin_staff_service_Rating    0\n",
       "Food_Beverages_Rating         0\n",
       "Inflight_Rating               0\n",
       "Ground_service_Rating         0\n",
       "Value_Rating                  0\n",
       "Full_review                   0\n",
       "From                          0\n",
       "To                            0\n",
       "dtype: int64"
      ]
     },
     "execution_count": 530,
     "metadata": {},
     "output_type": "execute_result"
    }
   ],
   "source": [
    "df.isnull().sum()"
   ]
  },
  {
   "cell_type": "code",
   "execution_count": 531,
   "id": "e17df06b-1817-4f8f-9f79-c816de047cff",
   "metadata": {},
   "outputs": [],
   "source": [
    "temp = df[df['Seat_Type'].isnull()].index[0]\n",
    "df.drop([temp],inplace=True)"
   ]
  },
  {
   "cell_type": "code",
   "execution_count": 532,
   "id": "6b4e3582-ca07-4bab-9f48-ee5a5216030e",
   "metadata": {},
   "outputs": [
    {
     "data": {
      "text/plain": [
       "Review_Date                   0\n",
       "Rating                        0\n",
       "Comment                       0\n",
       "Reviewer_Name                 0\n",
       "Reviewer_Country              0\n",
       "Aircraft                      0\n",
       "Travel_Type                   0\n",
       "Seat_Type                     0\n",
       "Route                         0\n",
       "Date_Flown                    0\n",
       "Recommended                   0\n",
       "Verified                      0\n",
       "Seat_Rating                   0\n",
       "Cabin_staff_service_Rating    0\n",
       "Food_Beverages_Rating         0\n",
       "Inflight_Rating               0\n",
       "Ground_service_Rating         0\n",
       "Value_Rating                  0\n",
       "Full_review                   0\n",
       "From                          0\n",
       "To                            0\n",
       "dtype: int64"
      ]
     },
     "execution_count": 532,
     "metadata": {},
     "output_type": "execute_result"
    }
   ],
   "source": [
    "df.isnull().sum()"
   ]
  },
  {
   "cell_type": "code",
   "execution_count": 533,
   "id": "fa02fad1-779e-446f-bf96-a0ad53ffff3f",
   "metadata": {},
   "outputs": [
    {
     "data": {
      "text/html": [
       "<div>\n",
       "<style scoped>\n",
       "    .dataframe tbody tr th:only-of-type {\n",
       "        vertical-align: middle;\n",
       "    }\n",
       "\n",
       "    .dataframe tbody tr th {\n",
       "        vertical-align: top;\n",
       "    }\n",
       "\n",
       "    .dataframe thead th {\n",
       "        text-align: right;\n",
       "    }\n",
       "</style>\n",
       "<table border=\"1\" class=\"dataframe\">\n",
       "  <thead>\n",
       "    <tr style=\"text-align: right;\">\n",
       "      <th></th>\n",
       "      <th>Review_Date</th>\n",
       "      <th>Rating</th>\n",
       "      <th>Comment</th>\n",
       "      <th>Reviewer_Name</th>\n",
       "      <th>Reviewer_Country</th>\n",
       "      <th>Aircraft</th>\n",
       "      <th>Travel_Type</th>\n",
       "      <th>Seat_Type</th>\n",
       "      <th>Route</th>\n",
       "      <th>Date_Flown</th>\n",
       "      <th>...</th>\n",
       "      <th>Verified</th>\n",
       "      <th>Seat_Rating</th>\n",
       "      <th>Cabin_staff_service_Rating</th>\n",
       "      <th>Food_Beverages_Rating</th>\n",
       "      <th>Inflight_Rating</th>\n",
       "      <th>Ground_service_Rating</th>\n",
       "      <th>Value_Rating</th>\n",
       "      <th>Full_review</th>\n",
       "      <th>From</th>\n",
       "      <th>To</th>\n",
       "    </tr>\n",
       "  </thead>\n",
       "  <tbody>\n",
       "    <tr>\n",
       "      <th>0</th>\n",
       "      <td>2024-03-26</td>\n",
       "      <td>8.0</td>\n",
       "      <td>“didn't find the crew particularly welcoming”</td>\n",
       "      <td>Troy Robinson</td>\n",
       "      <td>United Kingdom</td>\n",
       "      <td>Boeing 777</td>\n",
       "      <td>Business</td>\n",
       "      <td>Business Class</td>\n",
       "      <td>London to Tokyo</td>\n",
       "      <td>2024-03-01</td>\n",
       "      <td>...</td>\n",
       "      <td>Yes</td>\n",
       "      <td>5.0</td>\n",
       "      <td>2.0</td>\n",
       "      <td>5.0</td>\n",
       "      <td>5.0</td>\n",
       "      <td>3.0</td>\n",
       "      <td>4</td>\n",
       "      <td>A last minute business trip to HND, a route I ...</td>\n",
       "      <td>London</td>\n",
       "      <td>Tokyo</td>\n",
       "    </tr>\n",
       "    <tr>\n",
       "      <th>1</th>\n",
       "      <td>2024-03-26</td>\n",
       "      <td>5.0</td>\n",
       "      <td>\"I would say disappointing\"</td>\n",
       "      <td>R Norton</td>\n",
       "      <td>United Kingdom</td>\n",
       "      <td>A320</td>\n",
       "      <td>Business</td>\n",
       "      <td>Economy Class</td>\n",
       "      <td>Lisbon to London</td>\n",
       "      <td>2024-03-01</td>\n",
       "      <td>...</td>\n",
       "      <td>Yes</td>\n",
       "      <td>4.0</td>\n",
       "      <td>3.0</td>\n",
       "      <td>2.0</td>\n",
       "      <td>2.0</td>\n",
       "      <td>1.0</td>\n",
       "      <td>3</td>\n",
       "      <td>Overall I would say disappointing. Due to BA s...</td>\n",
       "      <td>Lisbon</td>\n",
       "      <td>London</td>\n",
       "    </tr>\n",
       "    <tr>\n",
       "      <th>2</th>\n",
       "      <td>2024-03-25</td>\n",
       "      <td>10.0</td>\n",
       "      <td>\"Exceptional flight\"</td>\n",
       "      <td>Paul Lee</td>\n",
       "      <td>United Kingdom</td>\n",
       "      <td>Boeing 777</td>\n",
       "      <td>Couple Leisure</td>\n",
       "      <td>Business Class</td>\n",
       "      <td>London to Delhi</td>\n",
       "      <td>2024-02-01</td>\n",
       "      <td>...</td>\n",
       "      <td>No</td>\n",
       "      <td>5.0</td>\n",
       "      <td>5.0</td>\n",
       "      <td>5.0</td>\n",
       "      <td>5.0</td>\n",
       "      <td>5.0</td>\n",
       "      <td>5</td>\n",
       "      <td>LHR to Delhi in Business. Exceptional flight. ...</td>\n",
       "      <td>London</td>\n",
       "      <td>Delhi</td>\n",
       "    </tr>\n",
       "    <tr>\n",
       "      <th>3</th>\n",
       "      <td>2024-03-25</td>\n",
       "      <td>9.0</td>\n",
       "      <td>\"Cabin crew attentive and bubbly\"</td>\n",
       "      <td>Paul Lee</td>\n",
       "      <td>United Kingdom</td>\n",
       "      <td>A320</td>\n",
       "      <td>Couple Leisure</td>\n",
       "      <td>Economy Class</td>\n",
       "      <td>London to Milan</td>\n",
       "      <td>2024-03-01</td>\n",
       "      <td>...</td>\n",
       "      <td>No</td>\n",
       "      <td>5.0</td>\n",
       "      <td>5.0</td>\n",
       "      <td>5.0</td>\n",
       "      <td>2.0</td>\n",
       "      <td>4.0</td>\n",
       "      <td>5</td>\n",
       "      <td>Efficient and Smooth flight from start to fini...</td>\n",
       "      <td>London</td>\n",
       "      <td>Milan</td>\n",
       "    </tr>\n",
       "    <tr>\n",
       "      <th>4</th>\n",
       "      <td>2024-03-25</td>\n",
       "      <td>3.0</td>\n",
       "      <td>“a terrible and unnecessary experience”</td>\n",
       "      <td>Peter Buchanan</td>\n",
       "      <td>United Kingdom</td>\n",
       "      <td>A320</td>\n",
       "      <td>Couple Leisure</td>\n",
       "      <td>Economy Class</td>\n",
       "      <td>Madrid to London Heathrow</td>\n",
       "      <td>2024-03-01</td>\n",
       "      <td>...</td>\n",
       "      <td>Yes</td>\n",
       "      <td>3.0</td>\n",
       "      <td>3.0</td>\n",
       "      <td>2.0</td>\n",
       "      <td>2.0</td>\n",
       "      <td>3.0</td>\n",
       "      <td>2</td>\n",
       "      <td>Was told we can not take hand luggage onto the...</td>\n",
       "      <td>Madrid</td>\n",
       "      <td>London Heathrow</td>\n",
       "    </tr>\n",
       "  </tbody>\n",
       "</table>\n",
       "<p>5 rows × 21 columns</p>\n",
       "</div>"
      ],
      "text/plain": [
       "  Review_Date  Rating                                        Comment  \\\n",
       "0  2024-03-26     8.0  “didn't find the crew particularly welcoming”   \n",
       "1  2024-03-26     5.0                    \"I would say disappointing\"   \n",
       "2  2024-03-25    10.0                           \"Exceptional flight\"   \n",
       "3  2024-03-25     9.0              \"Cabin crew attentive and bubbly\"   \n",
       "4  2024-03-25     3.0        “a terrible and unnecessary experience”   \n",
       "\n",
       "    Reviewer_Name Reviewer_Country    Aircraft     Travel_Type  \\\n",
       "0   Troy Robinson   United Kingdom  Boeing 777        Business   \n",
       "1        R Norton   United Kingdom        A320        Business   \n",
       "2        Paul Lee   United Kingdom  Boeing 777  Couple Leisure   \n",
       "3        Paul Lee   United Kingdom        A320  Couple Leisure   \n",
       "4  Peter Buchanan   United Kingdom        A320  Couple Leisure   \n",
       "\n",
       "        Seat_Type                      Route Date_Flown  ... Verified  \\\n",
       "0  Business Class            London to Tokyo 2024-03-01  ...      Yes   \n",
       "1   Economy Class          Lisbon to London  2024-03-01  ...      Yes   \n",
       "2  Business Class            London to Delhi 2024-02-01  ...       No   \n",
       "3   Economy Class            London to Milan 2024-03-01  ...       No   \n",
       "4   Economy Class  Madrid to London Heathrow 2024-03-01  ...      Yes   \n",
       "\n",
       "  Seat_Rating  Cabin_staff_service_Rating  Food_Beverages_Rating  \\\n",
       "0         5.0                         2.0                    5.0   \n",
       "1         4.0                         3.0                    2.0   \n",
       "2         5.0                         5.0                    5.0   \n",
       "3         5.0                         5.0                    5.0   \n",
       "4         3.0                         3.0                    2.0   \n",
       "\n",
       "   Inflight_Rating  Ground_service_Rating  Value_Rating  \\\n",
       "0              5.0                    3.0             4   \n",
       "1              2.0                    1.0             3   \n",
       "2              5.0                    5.0             5   \n",
       "3              2.0                    4.0             5   \n",
       "4              2.0                    3.0             2   \n",
       "\n",
       "                                         Full_review    From               To  \n",
       "0  A last minute business trip to HND, a route I ...  London            Tokyo  \n",
       "1  Overall I would say disappointing. Due to BA s...  Lisbon           London  \n",
       "2  LHR to Delhi in Business. Exceptional flight. ...  London            Delhi  \n",
       "3  Efficient and Smooth flight from start to fini...  London            Milan  \n",
       "4  Was told we can not take hand luggage onto the...  Madrid  London Heathrow  \n",
       "\n",
       "[5 rows x 21 columns]"
      ]
     },
     "execution_count": 533,
     "metadata": {},
     "output_type": "execute_result"
    }
   ],
   "source": [
    "df.head()"
   ]
  },
  {
   "cell_type": "code",
   "execution_count": 534,
   "id": "efe04fb8-197c-4e13-9cd2-4c5ea63254d3",
   "metadata": {},
   "outputs": [],
   "source": [
    "# Type Casting to Int16 (Memory Efficient)"
   ]
  },
  {
   "cell_type": "code",
   "execution_count": 535,
   "id": "b0316d7e-fdfe-4b9b-9e2a-3a8fafeb3381",
   "metadata": {},
   "outputs": [],
   "source": [
    "df['Rating'] = df['Rating'].astype('int16')\n",
    "df['Seat_Rating'] = df['Seat_Rating'].astype('int16')\n",
    "df['Value_Rating'] = df['Value_Rating'].astype('int16')\n",
    "df['Cabin_staff_service_Rating'] = df['Cabin_staff_service_Rating'].astype('int16')\n",
    "df['Food_Beverages_Rating'] = df['Food_Beverages_Rating'].astype('int16')\n",
    "df['Ground_service_Rating'] = df['Ground_service_Rating'].astype('int16')\n",
    "df['Inflight_Rating'] = df['Inflight_Rating'].astype('int16')"
   ]
  },
  {
   "cell_type": "code",
   "execution_count": 536,
   "id": "319dabbb-2cb7-41b3-9342-f91758e42cc0",
   "metadata": {},
   "outputs": [
    {
     "data": {
      "text/plain": [
       "Review_Date                   datetime64[ns]\n",
       "Rating                                 int16\n",
       "Comment                               object\n",
       "Reviewer_Name                         object\n",
       "Reviewer_Country                      object\n",
       "Aircraft                              object\n",
       "Travel_Type                           object\n",
       "Seat_Type                             object\n",
       "Route                                 object\n",
       "Date_Flown                    datetime64[ns]\n",
       "Recommended                           object\n",
       "Verified                              object\n",
       "Seat_Rating                            int16\n",
       "Cabin_staff_service_Rating             int16\n",
       "Food_Beverages_Rating                  int16\n",
       "Inflight_Rating                        int16\n",
       "Ground_service_Rating                  int16\n",
       "Value_Rating                           int16\n",
       "Full_review                           object\n",
       "From                                  object\n",
       "To                                    object\n",
       "dtype: object"
      ]
     },
     "execution_count": 536,
     "metadata": {},
     "output_type": "execute_result"
    }
   ],
   "source": [
    "df.dtypes"
   ]
  },
  {
   "cell_type": "code",
   "execution_count": 537,
   "id": "d75ef177-0958-4ed9-a93c-49d5b2efef0d",
   "metadata": {},
   "outputs": [
    {
     "data": {
      "text/html": [
       "<div>\n",
       "<style scoped>\n",
       "    .dataframe tbody tr th:only-of-type {\n",
       "        vertical-align: middle;\n",
       "    }\n",
       "\n",
       "    .dataframe tbody tr th {\n",
       "        vertical-align: top;\n",
       "    }\n",
       "\n",
       "    .dataframe thead th {\n",
       "        text-align: right;\n",
       "    }\n",
       "</style>\n",
       "<table border=\"1\" class=\"dataframe\">\n",
       "  <thead>\n",
       "    <tr style=\"text-align: right;\">\n",
       "      <th></th>\n",
       "      <th>Review_Date</th>\n",
       "      <th>Rating</th>\n",
       "      <th>Comment</th>\n",
       "      <th>Reviewer_Name</th>\n",
       "      <th>Reviewer_Country</th>\n",
       "      <th>Aircraft</th>\n",
       "      <th>Travel_Type</th>\n",
       "      <th>Seat_Type</th>\n",
       "      <th>Route</th>\n",
       "      <th>Date_Flown</th>\n",
       "      <th>...</th>\n",
       "      <th>Verified</th>\n",
       "      <th>Seat_Rating</th>\n",
       "      <th>Cabin_staff_service_Rating</th>\n",
       "      <th>Food_Beverages_Rating</th>\n",
       "      <th>Inflight_Rating</th>\n",
       "      <th>Ground_service_Rating</th>\n",
       "      <th>Value_Rating</th>\n",
       "      <th>Full_review</th>\n",
       "      <th>From</th>\n",
       "      <th>To</th>\n",
       "    </tr>\n",
       "  </thead>\n",
       "  <tbody>\n",
       "    <tr>\n",
       "      <th>0</th>\n",
       "      <td>2024-03-26</td>\n",
       "      <td>8</td>\n",
       "      <td>“didn't find the crew particularly welcoming”</td>\n",
       "      <td>Troy Robinson</td>\n",
       "      <td>United Kingdom</td>\n",
       "      <td>Boeing 777</td>\n",
       "      <td>Business</td>\n",
       "      <td>Business Class</td>\n",
       "      <td>London to Tokyo</td>\n",
       "      <td>2024-03-01</td>\n",
       "      <td>...</td>\n",
       "      <td>Yes</td>\n",
       "      <td>5</td>\n",
       "      <td>2</td>\n",
       "      <td>5</td>\n",
       "      <td>5</td>\n",
       "      <td>3</td>\n",
       "      <td>4</td>\n",
       "      <td>A last minute business trip to HND, a route I ...</td>\n",
       "      <td>London</td>\n",
       "      <td>Tokyo</td>\n",
       "    </tr>\n",
       "    <tr>\n",
       "      <th>1</th>\n",
       "      <td>2024-03-26</td>\n",
       "      <td>5</td>\n",
       "      <td>\"I would say disappointing\"</td>\n",
       "      <td>R Norton</td>\n",
       "      <td>United Kingdom</td>\n",
       "      <td>A320</td>\n",
       "      <td>Business</td>\n",
       "      <td>Economy Class</td>\n",
       "      <td>Lisbon to London</td>\n",
       "      <td>2024-03-01</td>\n",
       "      <td>...</td>\n",
       "      <td>Yes</td>\n",
       "      <td>4</td>\n",
       "      <td>3</td>\n",
       "      <td>2</td>\n",
       "      <td>2</td>\n",
       "      <td>1</td>\n",
       "      <td>3</td>\n",
       "      <td>Overall I would say disappointing. Due to BA s...</td>\n",
       "      <td>Lisbon</td>\n",
       "      <td>London</td>\n",
       "    </tr>\n",
       "    <tr>\n",
       "      <th>2</th>\n",
       "      <td>2024-03-25</td>\n",
       "      <td>10</td>\n",
       "      <td>\"Exceptional flight\"</td>\n",
       "      <td>Paul Lee</td>\n",
       "      <td>United Kingdom</td>\n",
       "      <td>Boeing 777</td>\n",
       "      <td>Couple Leisure</td>\n",
       "      <td>Business Class</td>\n",
       "      <td>London to Delhi</td>\n",
       "      <td>2024-02-01</td>\n",
       "      <td>...</td>\n",
       "      <td>No</td>\n",
       "      <td>5</td>\n",
       "      <td>5</td>\n",
       "      <td>5</td>\n",
       "      <td>5</td>\n",
       "      <td>5</td>\n",
       "      <td>5</td>\n",
       "      <td>LHR to Delhi in Business. Exceptional flight. ...</td>\n",
       "      <td>London</td>\n",
       "      <td>Delhi</td>\n",
       "    </tr>\n",
       "    <tr>\n",
       "      <th>3</th>\n",
       "      <td>2024-03-25</td>\n",
       "      <td>9</td>\n",
       "      <td>\"Cabin crew attentive and bubbly\"</td>\n",
       "      <td>Paul Lee</td>\n",
       "      <td>United Kingdom</td>\n",
       "      <td>A320</td>\n",
       "      <td>Couple Leisure</td>\n",
       "      <td>Economy Class</td>\n",
       "      <td>London to Milan</td>\n",
       "      <td>2024-03-01</td>\n",
       "      <td>...</td>\n",
       "      <td>No</td>\n",
       "      <td>5</td>\n",
       "      <td>5</td>\n",
       "      <td>5</td>\n",
       "      <td>2</td>\n",
       "      <td>4</td>\n",
       "      <td>5</td>\n",
       "      <td>Efficient and Smooth flight from start to fini...</td>\n",
       "      <td>London</td>\n",
       "      <td>Milan</td>\n",
       "    </tr>\n",
       "    <tr>\n",
       "      <th>4</th>\n",
       "      <td>2024-03-25</td>\n",
       "      <td>3</td>\n",
       "      <td>“a terrible and unnecessary experience”</td>\n",
       "      <td>Peter Buchanan</td>\n",
       "      <td>United Kingdom</td>\n",
       "      <td>A320</td>\n",
       "      <td>Couple Leisure</td>\n",
       "      <td>Economy Class</td>\n",
       "      <td>Madrid to London Heathrow</td>\n",
       "      <td>2024-03-01</td>\n",
       "      <td>...</td>\n",
       "      <td>Yes</td>\n",
       "      <td>3</td>\n",
       "      <td>3</td>\n",
       "      <td>2</td>\n",
       "      <td>2</td>\n",
       "      <td>3</td>\n",
       "      <td>2</td>\n",
       "      <td>Was told we can not take hand luggage onto the...</td>\n",
       "      <td>Madrid</td>\n",
       "      <td>London Heathrow</td>\n",
       "    </tr>\n",
       "  </tbody>\n",
       "</table>\n",
       "<p>5 rows × 21 columns</p>\n",
       "</div>"
      ],
      "text/plain": [
       "  Review_Date  Rating                                        Comment  \\\n",
       "0  2024-03-26       8  “didn't find the crew particularly welcoming”   \n",
       "1  2024-03-26       5                    \"I would say disappointing\"   \n",
       "2  2024-03-25      10                           \"Exceptional flight\"   \n",
       "3  2024-03-25       9              \"Cabin crew attentive and bubbly\"   \n",
       "4  2024-03-25       3        “a terrible and unnecessary experience”   \n",
       "\n",
       "    Reviewer_Name Reviewer_Country    Aircraft     Travel_Type  \\\n",
       "0   Troy Robinson   United Kingdom  Boeing 777        Business   \n",
       "1        R Norton   United Kingdom        A320        Business   \n",
       "2        Paul Lee   United Kingdom  Boeing 777  Couple Leisure   \n",
       "3        Paul Lee   United Kingdom        A320  Couple Leisure   \n",
       "4  Peter Buchanan   United Kingdom        A320  Couple Leisure   \n",
       "\n",
       "        Seat_Type                      Route Date_Flown  ... Verified  \\\n",
       "0  Business Class            London to Tokyo 2024-03-01  ...      Yes   \n",
       "1   Economy Class          Lisbon to London  2024-03-01  ...      Yes   \n",
       "2  Business Class            London to Delhi 2024-02-01  ...       No   \n",
       "3   Economy Class            London to Milan 2024-03-01  ...       No   \n",
       "4   Economy Class  Madrid to London Heathrow 2024-03-01  ...      Yes   \n",
       "\n",
       "  Seat_Rating  Cabin_staff_service_Rating  Food_Beverages_Rating  \\\n",
       "0           5                           2                      5   \n",
       "1           4                           3                      2   \n",
       "2           5                           5                      5   \n",
       "3           5                           5                      5   \n",
       "4           3                           3                      2   \n",
       "\n",
       "   Inflight_Rating  Ground_service_Rating  Value_Rating  \\\n",
       "0                5                      3             4   \n",
       "1                2                      1             3   \n",
       "2                5                      5             5   \n",
       "3                2                      4             5   \n",
       "4                2                      3             2   \n",
       "\n",
       "                                         Full_review    From               To  \n",
       "0  A last minute business trip to HND, a route I ...  London            Tokyo  \n",
       "1  Overall I would say disappointing. Due to BA s...  Lisbon           London  \n",
       "2  LHR to Delhi in Business. Exceptional flight. ...  London            Delhi  \n",
       "3  Efficient and Smooth flight from start to fini...  London            Milan  \n",
       "4  Was told we can not take hand luggage onto the...  Madrid  London Heathrow  \n",
       "\n",
       "[5 rows x 21 columns]"
      ]
     },
     "execution_count": 537,
     "metadata": {},
     "output_type": "execute_result"
    }
   ],
   "source": [
    "df.head()"
   ]
  },
  {
   "cell_type": "code",
   "execution_count": 538,
   "id": "4119c976-5306-4a5f-bca8-bfe41c1762fa",
   "metadata": {
    "scrolled": true
   },
   "outputs": [],
   "source": [
    "df.drop(df[df['From'] == df['To']][['Route','From','To']].index,inplace=True)"
   ]
  },
  {
   "cell_type": "code",
   "execution_count": 539,
   "id": "f091b59b-411d-4426-8a20-04d7a8d4f01d",
   "metadata": {},
   "outputs": [],
   "source": [
    "df.drop(columns=['Route'],inplace=True)"
   ]
  },
  {
   "cell_type": "code",
   "execution_count": 540,
   "id": "4eb3a3ef-e194-4754-8ac4-dceaceff0ca9",
   "metadata": {},
   "outputs": [],
   "source": [
    "df.rename(columns={'From':'Origin','To':'Destination'},inplace=True)"
   ]
  },
  {
   "cell_type": "code",
   "execution_count": 541,
   "id": "4cd05766-30ad-4346-a19f-ff9c2d56245e",
   "metadata": {},
   "outputs": [
    {
     "data": {
      "text/plain": [
       "(69,\n",
       " array(['United Kingdom', 'Canada', 'Singapore', 'Belgium', 'Denmark',\n",
       "        'Australia', 'United States', 'Nigeria', 'Japan', 'Ukraine',\n",
       "        'Germany', 'Ireland', 'Spain', 'China', 'Ecuador', 'Switzerland',\n",
       "        'Romania', 'Italy', 'Netherlands', 'France', 'South Africa',\n",
       "        'Kuwait', 'Iceland', 'Poland', 'Hong Kong', 'Qatar', 'Greece',\n",
       "        'Senegal', 'United Arab Emirates', 'Cyprus', 'Chile', 'Sweden',\n",
       "        'Austria', 'India', 'New Zealand', 'Czech Republic', 'Malaysia',\n",
       "        'Ghana', 'Bermuda', 'Botswana', 'Brazil', 'Panama',\n",
       "        'Russian Federation', 'Philippines', 'Bulgaria', 'Thailand',\n",
       "        'Argentina', 'Mexico', 'Saint Kitts and Nevis', 'Vietnam',\n",
       "        'Norway', 'Jordan', 'Taiwan', 'Slovakia', 'Israel', 'South Korea',\n",
       "        'Saudi Arabia', 'Hungary', 'Portugal', 'Cayman Islands',\n",
       "        'Costa Rica', 'Egypt', 'Laos', 'Turkey', 'Indonesia', 'Bahrain',\n",
       "        'Dominican Republic', 'Luxembourg', 'Finland'], dtype=object))"
      ]
     },
     "execution_count": 541,
     "metadata": {},
     "output_type": "execute_result"
    }
   ],
   "source": [
    "df['Reviewer_Country'].nunique(),df['Reviewer_Country'].unique()"
   ]
  },
  {
   "cell_type": "code",
   "execution_count": 542,
   "id": "73b34c84-3948-47ea-939d-f18d367591fe",
   "metadata": {},
   "outputs": [
    {
     "data": {
      "text/plain": [
       "(4,\n",
       " array(['Business', 'Couple Leisure', 'Solo Leisure', 'Family Leisure'],\n",
       "       dtype=object))"
      ]
     },
     "execution_count": 542,
     "metadata": {},
     "output_type": "execute_result"
    }
   ],
   "source": [
    "df['Travel_Type'].nunique(),df['Travel_Type'].unique()"
   ]
  },
  {
   "cell_type": "code",
   "execution_count": 543,
   "id": "6e519469-66bc-4caa-b576-5534f1c285ab",
   "metadata": {},
   "outputs": [
    {
     "data": {
      "text/plain": [
       "(4,\n",
       " array(['Business Class', 'Economy Class', 'First Class',\n",
       "        'Premium Economy'], dtype=object))"
      ]
     },
     "execution_count": 543,
     "metadata": {},
     "output_type": "execute_result"
    }
   ],
   "source": [
    "df['Seat_Type'].nunique(),df['Seat_Type'].unique()"
   ]
  },
  {
   "cell_type": "code",
   "execution_count": 544,
   "id": "8eb84a58-4e20-41a9-90e5-fc405b5c36ac",
   "metadata": {},
   "outputs": [
    {
     "data": {
      "text/plain": [
       "Index(['Review_Date', 'Rating', 'Comment', 'Reviewer_Name', 'Reviewer_Country',\n",
       "       'Aircraft', 'Travel_Type', 'Seat_Type', 'Date_Flown', 'Recommended',\n",
       "       'Verified', 'Seat_Rating', 'Cabin_staff_service_Rating',\n",
       "       'Food_Beverages_Rating', 'Inflight_Rating', 'Ground_service_Rating',\n",
       "       'Value_Rating', 'Full_review', 'Origin', 'Destination'],\n",
       "      dtype='object')"
      ]
     },
     "execution_count": 544,
     "metadata": {},
     "output_type": "execute_result"
    }
   ],
   "source": [
    "df.columns"
   ]
  },
  {
   "cell_type": "code",
   "execution_count": 545,
   "id": "5c47597f-cd16-4d61-9f4c-a96874df0ac2",
   "metadata": {},
   "outputs": [
    {
     "data": {
      "text/plain": [
       "(2, array(['YES', 'NO'], dtype=object))"
      ]
     },
     "execution_count": 545,
     "metadata": {},
     "output_type": "execute_result"
    }
   ],
   "source": [
    "df['Recommended'].nunique(),df['Recommended'].unique()"
   ]
  },
  {
   "cell_type": "code",
   "execution_count": 546,
   "id": "6d1e2cf5-2f1b-4803-9fc6-fcf355b6c698",
   "metadata": {},
   "outputs": [
    {
     "data": {
      "text/plain": [
       "(2, array(['Yes', 'No'], dtype=object))"
      ]
     },
     "execution_count": 546,
     "metadata": {},
     "output_type": "execute_result"
    }
   ],
   "source": [
    "df['Verified'].nunique(),df['Verified'].unique()"
   ]
  },
  {
   "cell_type": "code",
   "execution_count": 547,
   "id": "6d7351f3-ba6d-461a-a5fe-6ba615e3156d",
   "metadata": {},
   "outputs": [
    {
     "data": {
      "text/plain": [
       "(5, array([5, 4, 3, 2, 1], dtype=int16))"
      ]
     },
     "execution_count": 547,
     "metadata": {},
     "output_type": "execute_result"
    }
   ],
   "source": [
    "df['Seat_Rating'].nunique(),df['Seat_Rating'].unique()"
   ]
  },
  {
   "cell_type": "code",
   "execution_count": 548,
   "id": "80871198-2dae-477f-939f-2bfec4f434e1",
   "metadata": {},
   "outputs": [
    {
     "data": {
      "text/plain": [
       "(5, array([2, 3, 5, 4, 1], dtype=int16))"
      ]
     },
     "execution_count": 548,
     "metadata": {},
     "output_type": "execute_result"
    }
   ],
   "source": [
    "df['Cabin_staff_service_Rating'].nunique(),df['Cabin_staff_service_Rating'].unique()"
   ]
  },
  {
   "cell_type": "code",
   "execution_count": 549,
   "id": "36230494-c9da-4896-996d-afe6a7463a0f",
   "metadata": {},
   "outputs": [
    {
     "data": {
      "text/plain": [
       "(5, array([5, 2, 3, 1, 4], dtype=int16))"
      ]
     },
     "execution_count": 549,
     "metadata": {},
     "output_type": "execute_result"
    }
   ],
   "source": [
    "df['Food_Beverages_Rating'].nunique(),df['Food_Beverages_Rating'].unique()"
   ]
  },
  {
   "cell_type": "code",
   "execution_count": 550,
   "id": "a5c9c499-b006-4f0f-b04e-eb7cce19aea7",
   "metadata": {},
   "outputs": [
    {
     "data": {
      "text/plain": [
       "(5, array([5, 2, 4, 1, 3], dtype=int16))"
      ]
     },
     "execution_count": 550,
     "metadata": {},
     "output_type": "execute_result"
    }
   ],
   "source": [
    "df['Inflight_Rating'].nunique(),df['Inflight_Rating'].unique()"
   ]
  },
  {
   "cell_type": "code",
   "execution_count": 551,
   "id": "fe139fa9-f764-448e-9cf3-9a282bd0a73e",
   "metadata": {},
   "outputs": [
    {
     "data": {
      "text/plain": [
       "(5, array([3, 1, 5, 4, 2], dtype=int16))"
      ]
     },
     "execution_count": 551,
     "metadata": {},
     "output_type": "execute_result"
    }
   ],
   "source": [
    "df['Ground_service_Rating'].nunique(),df['Ground_service_Rating'].unique()"
   ]
  },
  {
   "cell_type": "code",
   "execution_count": 552,
   "id": "d22b2323-b64e-4602-852c-fc4bb9cd6c78",
   "metadata": {},
   "outputs": [
    {
     "data": {
      "text/plain": [
       "(5, array([4, 3, 5, 2, 1], dtype=int16))"
      ]
     },
     "execution_count": 552,
     "metadata": {},
     "output_type": "execute_result"
    }
   ],
   "source": [
    "df['Value_Rating'].nunique(),df['Value_Rating'].unique()"
   ]
  },
  {
   "cell_type": "code",
   "execution_count": 553,
   "id": "ac4b002f-3b19-4da7-8b70-8b975d126e85",
   "metadata": {},
   "outputs": [
    {
     "data": {
      "text/plain": [
       "(296,\n",
       " array(['London', 'Lisbon', 'Madrid', 'London Heathrow', 'Montreal',\n",
       "        'Paphos', 'Barbados', 'Toronto', 'Copenhagen', 'Los Angeles',\n",
       "        'Singapore', 'Cyprus', 'Heathrow', 'Sydney', 'Pisa', 'Malaga',\n",
       "        'Phoenix', 'Austin, TX', 'Athens', 'London Gatwick', 'Boston',\n",
       "        'Sao Paulo', 'Dusseldorf (DUS)', 'Cairo', 'Dublin', 'Glasgow',\n",
       "        'Vancouver', 'Rome', 'Gatwick', 'Istanbul', 'Indianapolis',\n",
       "        'Gran Canaria', 'Belfast City', 'Cape Town', 'Miami',\n",
       "        'Johannesburg', 'Palma de Mallorca', 'Zürich', 'Brussels',\n",
       "        'Bucharest', 'Manchester', 'Seville', 'London Heatrow',\n",
       "        'Anchorage', 'Seattle', 'Malta', 'San Francisco', 'İstanbul',\n",
       "        'Geneva', 'Porto', 'Catania', 'Berlin', 'Atlanta', 'Chicago',\n",
       "        'Milan', 'Dallas', 'Prague', 'San Diego', 'Hamburg', 'Kuwait',\n",
       "        'Frankfurt', 'Mumbai', 'Houston', 'New York JFK', 'Tenerife',\n",
       "        'Newark', 'LHR', 'Delhi', 'Larnaca', 'Washington', 'Edinburgh',\n",
       "        'Keflavik', 'Gibraltar', 'Rhodes', 'Barcelona', 'Inverness',\n",
       "        'London City Airport', 'Amsterdam', 'Dalaman', 'Newcastle',\n",
       "        'Amman', 'Chennai', 'Kingston', 'Dubai', 'New Orleans',\n",
       "        'London City', 'Marseille', 'Tokyo', 'Santiago',\n",
       "        'Sydney via Singapore', 'Nice', 'Las Vegas', 'New York', 'Sweden',\n",
       "        'Bangalore', 'Hong Kong', 'Santorini', 'Faro', 'Belfast',\n",
       "        'Mexico City', 'Marrakech', 'Munich', 'Zagreb', 'Portland', 'Lyon',\n",
       "        'Oslo', 'Islamabad', 'Palma', 'Vienna', 'Doha', 'Denver',\n",
       "        'Amman Jordan', 'Dusseldorf', 'Baltimore', 'Orlando', 'Jersey',\n",
       "        'Gothenburg', 'Tel Aviv', 'Dallas Ft Worth', 'Accra', 'Nairobi',\n",
       "        'Venice', 'Edmonton', 'Paris CDG', 'Cancun', 'Dallas Fort-Worth',\n",
       "        'Zurich', 'Bridgetown', 'Dubrovnik', 'Columbus', 'Basel',\n",
       "        'São Paulo', 'Riyadh', 'Austin', 'Male', 'Montréal', 'Durban',\n",
       "        'Warsaw', 'Washington DC', 'Stockholm', 'Abuja', 'Mykonos',\n",
       "        'Washington Dulles', 'Moscow', 'Preveza', 'Aberdeen', 'Ottawa',\n",
       "        'Antigua', 'Sofia', 'London-Heathrow', 'Nashville', 'Paris',\n",
       "        'Rio de Janeiro', 'Orlando, Florida', 'San Jose', 'Rio De Janeiro',\n",
       "        'Budapest', 'Toulouse', 'doha', 'Tirana', 'Bordeaux', 'Seychelles',\n",
       "        'Jeddah', 'Hyderabad', 'Kuala Lumpur', 'Buenos Aires', 'Bari',\n",
       "        'Abu Dhabi', 'Calgary', 'Kos', 'Cephalonia', 'Mahe',\n",
       "        'Johannesburg OR Tambo', 'Grenada', 'Rotterdam', 'Lima',\n",
       "        'Rome Fiumicino', 'St Lucia', 'Leeds Bradford', 'Cologne', 'Tampa',\n",
       "        'Tokyo Narita', 'Bermuda', 'Stuttgart', 'Nassau', 'St Petersburg',\n",
       "        'Bangkok', 'Brindisi', 'Heraklion', 'Philadelphia', 'HKG', 'Turin',\n",
       "        'GIG', 'Florence', 'Naples', 'Fort Lauderdale', 'Beijing',\n",
       "        'Edimbourgh', 'Rio de Janiero', 'Reykjavik', 'San Jose, CA',\n",
       "        'Saint Lucia', 'Funchal', 'Berlin Tegel', 'Bologna',\n",
       "        'Seoul Incheon', 'Oakland', 'Düsseldorf', 'Tokyo Haneda',\n",
       "        'Shanghai', 'Grand Cayman', 'Port of Spain', 'Kalamata',\n",
       "        'Zakinthos', 'Salzburg', 'Bergen', 'Krakow', 'Mauritius', 'Corfu',\n",
       "        'Leeds', 'Valencia', 'Luxembourg', 'Seoul', 'Madeira',\n",
       "        'Manchester, UK', 'Bahrain', 'London LGW', 'Punta Cana',\n",
       "        'Stavanger', 'Paris Orly', 'Gothenburg Landvetter', 'Tehran',\n",
       "        'Paris Charles de Gaulle', 'Saint Petersburg', 'Shanghai Pudong',\n",
       "        'Fuerteventura', 'Toronto Pearson', 'Stockholm Arlanda', 'Cancún',\n",
       "        'Baltimore/Washington', 'Kyiv Boryspil', 'Dallas/Fort Worth',\n",
       "        'Chengdu', 'Seattle-Tacoma', 'Singapore Changi',\n",
       "        'Tel Aviv Ben Gurion', 'Marrakesh Menara', 'Amsterdam Schiphol',\n",
       "        'Barcelona El Prat', 'Chiang Mai', 'Málaga', 'Las Vegas McCarran',\n",
       "        'Boston Logan', 'San José Juan Santamaría', 'Melbourne',\n",
       "        'San Jose Mineta', 'Atlanta Hartsfield-Jackson',\n",
       "        'Prague Václav Havel', 'Phoenix Sky Harbor', 'Warsaw Chopin',\n",
       "        'Abuja Nnamdi Azikiwe', 'Doha Hamad', 'São Paulo Guarulhos',\n",
       "        'Bangalore Kempegowda', 'Basel EuroAirport', 'Milan Malpensa',\n",
       "        'Marseille Provence', 'Nassau Lynden Pindling',\n",
       "        'Bridgetown Grantley Adams', 'Ibiza', 'Lyon Saint-Exupéry',\n",
       "        'Pisa Galileo Galilei', 'Accra Kotoka', 'Oslo Gardermoen',\n",
       "        \"Chicago O'Hare\", 'Beijing Capital', 'Riyadh King Khalid',\n",
       "        'Austin-Bergstrom', 'Helsinki-Vantaa', 'Venice Marco Polo',\n",
       "        'London Heathrow to Edinburgh', 'Oulu', 'Bucharest Henri Coandă',\n",
       "        'Portugal', 'France', 'Dorval, Canada', 'Germany', 'Ukraine',\n",
       "        'Sharm el-Sheikh, Egypt', 'Spain', 'Saint Kitts and Nevis',\n",
       "        'Lebanon', 'Istambul', 'Verona', 'Egypt', 'Helsinki'], dtype=object))"
      ]
     },
     "execution_count": 553,
     "metadata": {},
     "output_type": "execute_result"
    }
   ],
   "source": [
    "df['Origin'].nunique(),df['Origin'].unique() #Cleaning Still needed"
   ]
  },
  {
   "cell_type": "code",
   "execution_count": 554,
   "id": "fd9deb7f-b07b-422a-9bdb-1e4e667d02c7",
   "metadata": {},
   "outputs": [
    {
     "data": {
      "text/plain": [
       "(473,\n",
       " array(['London', 'Lisbon', 'Madrid', 'London Heathrow', 'Montreal',\n",
       "        'Paphos', 'Barbados', 'Toronto', 'Copenhagen', 'Los Angeles',\n",
       "        'Singapore', 'Cyprus', 'Heathrow', 'Sydney', 'Pisa', 'Malaga',\n",
       "        'Phoenix', 'Austin, TX', 'Athens', 'London Gatwick', 'Boston',\n",
       "        'Sao Paulo', 'Dusseldorf (DUS)', 'Cairo', 'Dublin', 'Glasgow',\n",
       "        'Vancouver', 'Rome', 'Gatwick', 'Istanbul', 'Indianapolis',\n",
       "        'Gran Canaria', 'Belfast City', 'Cape Town', 'Miami',\n",
       "        'Johannesburg', 'Palma de Mallorca', 'Zürich', 'Brussels',\n",
       "        'Bucharest', 'Manchester', 'Seville', 'London Heatrow',\n",
       "        'Anchorage', 'Seattle', 'Malta', 'San Francisco', 'İstanbul',\n",
       "        'Geneva', 'Porto', 'Catania', 'Berlin', 'Atlanta', 'Chicago',\n",
       "        'Milan', 'Dallas', 'Prague', 'San Diego', 'Hamburg', 'Kuwait',\n",
       "        'Frankfurt', 'Mumbai', 'Houston', 'New York JFK', 'Tenerife',\n",
       "        'Newark', 'LHR', 'Delhi', 'Larnaca', 'Washington', 'Edinburgh',\n",
       "        'Keflavik', 'Gibraltar', 'Rhodes', 'Barcelona', 'Inverness',\n",
       "        'London City Airport', 'Amsterdam', 'Dalaman', 'Newcastle',\n",
       "        'Amman', 'Chennai', 'Kingston', 'Dubai', 'New Orleans',\n",
       "        'London City', 'Marseille', 'Tokyo', 'Santiago',\n",
       "        'Sydney via Singapore', 'Nice', 'Las Vegas', 'New York', 'Sweden',\n",
       "        'Bangalore', 'Hong Kong', 'Santorini', 'Faro', 'Belfast',\n",
       "        'Mexico City', 'Marrakech', 'Munich', 'Zagreb', 'Portland', 'Lyon',\n",
       "        'Oslo', 'Islamabad', 'Palma', 'Vienna', 'Doha', 'Denver',\n",
       "        'Amman Jordan', 'Dusseldorf', 'Baltimore', 'Orlando', 'Jersey',\n",
       "        'Gothenburg', 'Tel Aviv', 'Dallas Ft Worth', 'Accra', 'Nairobi',\n",
       "        'Venice', 'Edmonton', 'Paris CDG', 'Cancun', 'Dallas Fort-Worth',\n",
       "        'Zurich', 'Bridgetown', 'Dubrovnik', 'Columbus', 'Basel',\n",
       "        'São Paulo', 'Riyadh', 'Austin', 'Male', 'Montréal', 'Durban',\n",
       "        'Warsaw', 'Washington DC', 'Stockholm', 'Abuja', 'Mykonos',\n",
       "        'Washington Dulles', 'Moscow', 'Preveza', 'Aberdeen', 'Ottawa',\n",
       "        'Antigua', 'Sofia', 'London-Heathrow', 'Nashville', 'Paris',\n",
       "        'Rio de Janeiro', 'Orlando, Florida', 'San Jose', 'Rio De Janeiro',\n",
       "        'Budapest', 'Toulouse', 'doha', 'Tirana', 'Bordeaux', 'Seychelles',\n",
       "        'Jeddah', 'Hyderabad', 'Kuala Lumpur', 'Buenos Aires', 'Bari',\n",
       "        'Abu Dhabi', 'Calgary', 'Kos', 'Cephalonia', 'Mahe',\n",
       "        'Johannesburg OR Tambo', 'Grenada', 'Rotterdam', 'Lima',\n",
       "        'Rome Fiumicino', 'St Lucia', 'Leeds Bradford', 'Cologne', 'Tampa',\n",
       "        'Tokyo Narita', 'Bermuda', 'Stuttgart', 'Nassau', 'St Petersburg',\n",
       "        'Bangkok', 'Brindisi', 'Heraklion', 'Philadelphia', 'HKG', 'Turin',\n",
       "        'GIG', 'Florence', 'Naples', 'Fort Lauderdale', 'Beijing',\n",
       "        'Edimbourgh', 'Rio de Janiero', 'Reykjavik', 'San Jose, CA',\n",
       "        'Saint Lucia', 'Funchal', 'Berlin Tegel', 'Bologna',\n",
       "        'Seoul Incheon', 'Oakland', 'Düsseldorf', 'Tokyo Haneda',\n",
       "        'Shanghai', 'Grand Cayman', 'Port of Spain', 'Kalamata',\n",
       "        'Zakinthos', 'Salzburg', 'Bergen', 'Krakow', 'Mauritius', 'Corfu',\n",
       "        'Leeds', 'Valencia', 'Luxembourg', 'Seoul', 'Madeira',\n",
       "        'Manchester, UK', 'Bahrain', 'London LGW', 'Punta Cana',\n",
       "        'Stavanger', 'Paris Orly', 'Gothenburg Landvetter', 'Tehran',\n",
       "        'Paris Charles de Gaulle', 'Saint Petersburg', 'Shanghai Pudong',\n",
       "        'Fuerteventura', 'Toronto Pearson', 'Stockholm Arlanda', 'Cancún',\n",
       "        'Baltimore/Washington', 'Kyiv Boryspil', 'Dallas/Fort Worth',\n",
       "        'Chengdu', 'Seattle-Tacoma', 'Singapore Changi',\n",
       "        'Tel Aviv Ben Gurion', 'Marrakesh Menara', 'Amsterdam Schiphol',\n",
       "        'Barcelona El Prat', 'Chiang Mai', 'Málaga', 'Las Vegas McCarran',\n",
       "        'Boston Logan', 'San José Juan Santamaría', 'Melbourne',\n",
       "        'San Jose Mineta', 'Atlanta Hartsfield-Jackson',\n",
       "        'Prague Václav Havel', 'Phoenix Sky Harbor', 'Warsaw Chopin',\n",
       "        'Abuja Nnamdi Azikiwe', 'Doha Hamad', 'São Paulo Guarulhos',\n",
       "        'Bangalore Kempegowda', 'Basel EuroAirport', 'Milan Malpensa',\n",
       "        'Marseille Provence', 'Nassau Lynden Pindling',\n",
       "        'Bridgetown Grantley Adams', 'Ibiza', 'Lyon Saint-Exupéry',\n",
       "        'Pisa Galileo Galilei', 'Accra Kotoka', 'Oslo Gardermoen',\n",
       "        \"Chicago O'Hare\", 'Beijing Capital', 'Riyadh King Khalid',\n",
       "        'Austin-Bergstrom', 'Helsinki-Vantaa', 'Venice Marco Polo',\n",
       "        'London Heathrow to Edinburgh', 'Oulu', 'Bucharest Henri Coandă',\n",
       "        'Portugal', 'France', 'Dorval, Canada', 'Germany', 'Ukraine',\n",
       "        'Sharm el-Sheikh, Egypt', 'Spain', 'Saint Kitts and Nevis',\n",
       "        'Lebanon', 'Istambul', 'Verona', 'Egypt', 'Helsinki'], dtype=object))"
      ]
     },
     "execution_count": 554,
     "metadata": {},
     "output_type": "execute_result"
    }
   ],
   "source": [
    "df['Destination'].nunique(),df['Origin'].unique() #Cleaning Still needed "
   ]
  },
  {
   "cell_type": "code",
   "execution_count": 555,
   "id": "67ca3c2c-cb2a-4ca2-8d5a-e950a9de77b2",
   "metadata": {},
   "outputs": [],
   "source": [
    "df['Verified'] = df['Verified'].str.upper()"
   ]
  },
  {
   "cell_type": "markdown",
   "id": "8d3b6a4b-9350-409f-b57e-ba2643e6d692",
   "metadata": {},
   "source": [
    "### Observation"
   ]
  },
  {
   "cell_type": "markdown",
   "id": "f872831b-cfe4-4ef4-9140-c57b5fa58154",
   "metadata": {},
   "source": [
    "- All Columns are looks good except Date,Comment,Full_Review"
   ]
  },
  {
   "cell_type": "code",
   "execution_count": 556,
   "id": "3e3671fc-f806-4401-abd9-3d91eb9eb461",
   "metadata": {},
   "outputs": [
    {
     "data": {
      "text/html": [
       "<div>\n",
       "<style scoped>\n",
       "    .dataframe tbody tr th:only-of-type {\n",
       "        vertical-align: middle;\n",
       "    }\n",
       "\n",
       "    .dataframe tbody tr th {\n",
       "        vertical-align: top;\n",
       "    }\n",
       "\n",
       "    .dataframe thead th {\n",
       "        text-align: right;\n",
       "    }\n",
       "</style>\n",
       "<table border=\"1\" class=\"dataframe\">\n",
       "  <thead>\n",
       "    <tr style=\"text-align: right;\">\n",
       "      <th></th>\n",
       "      <th>Review_Date</th>\n",
       "      <th>Rating</th>\n",
       "      <th>Comment</th>\n",
       "      <th>Reviewer_Name</th>\n",
       "      <th>Reviewer_Country</th>\n",
       "      <th>Aircraft</th>\n",
       "      <th>Travel_Type</th>\n",
       "      <th>Seat_Type</th>\n",
       "      <th>Date_Flown</th>\n",
       "      <th>Recommended</th>\n",
       "      <th>Verified</th>\n",
       "      <th>Seat_Rating</th>\n",
       "      <th>Cabin_staff_service_Rating</th>\n",
       "      <th>Food_Beverages_Rating</th>\n",
       "      <th>Inflight_Rating</th>\n",
       "      <th>Ground_service_Rating</th>\n",
       "      <th>Value_Rating</th>\n",
       "      <th>Full_review</th>\n",
       "      <th>Origin</th>\n",
       "      <th>Destination</th>\n",
       "    </tr>\n",
       "  </thead>\n",
       "  <tbody>\n",
       "    <tr>\n",
       "      <th>0</th>\n",
       "      <td>2024-03-26</td>\n",
       "      <td>8</td>\n",
       "      <td>“didn't find the crew particularly welcoming”</td>\n",
       "      <td>Troy Robinson</td>\n",
       "      <td>United Kingdom</td>\n",
       "      <td>Boeing 777</td>\n",
       "      <td>Business</td>\n",
       "      <td>Business Class</td>\n",
       "      <td>2024-03-01</td>\n",
       "      <td>YES</td>\n",
       "      <td>YES</td>\n",
       "      <td>5</td>\n",
       "      <td>2</td>\n",
       "      <td>5</td>\n",
       "      <td>5</td>\n",
       "      <td>3</td>\n",
       "      <td>4</td>\n",
       "      <td>A last minute business trip to HND, a route I ...</td>\n",
       "      <td>London</td>\n",
       "      <td>Tokyo</td>\n",
       "    </tr>\n",
       "    <tr>\n",
       "      <th>1</th>\n",
       "      <td>2024-03-26</td>\n",
       "      <td>5</td>\n",
       "      <td>\"I would say disappointing\"</td>\n",
       "      <td>R Norton</td>\n",
       "      <td>United Kingdom</td>\n",
       "      <td>A320</td>\n",
       "      <td>Business</td>\n",
       "      <td>Economy Class</td>\n",
       "      <td>2024-03-01</td>\n",
       "      <td>YES</td>\n",
       "      <td>YES</td>\n",
       "      <td>4</td>\n",
       "      <td>3</td>\n",
       "      <td>2</td>\n",
       "      <td>2</td>\n",
       "      <td>1</td>\n",
       "      <td>3</td>\n",
       "      <td>Overall I would say disappointing. Due to BA s...</td>\n",
       "      <td>Lisbon</td>\n",
       "      <td>London</td>\n",
       "    </tr>\n",
       "  </tbody>\n",
       "</table>\n",
       "</div>"
      ],
      "text/plain": [
       "  Review_Date  Rating                                        Comment  \\\n",
       "0  2024-03-26       8  “didn't find the crew particularly welcoming”   \n",
       "1  2024-03-26       5                    \"I would say disappointing\"   \n",
       "\n",
       "   Reviewer_Name Reviewer_Country    Aircraft Travel_Type       Seat_Type  \\\n",
       "0  Troy Robinson   United Kingdom  Boeing 777    Business  Business Class   \n",
       "1       R Norton   United Kingdom        A320    Business   Economy Class   \n",
       "\n",
       "  Date_Flown Recommended Verified  Seat_Rating  Cabin_staff_service_Rating  \\\n",
       "0 2024-03-01         YES      YES            5                           2   \n",
       "1 2024-03-01         YES      YES            4                           3   \n",
       "\n",
       "   Food_Beverages_Rating  Inflight_Rating  Ground_service_Rating  \\\n",
       "0                      5                5                      3   \n",
       "1                      2                2                      1   \n",
       "\n",
       "   Value_Rating                                        Full_review  Origin  \\\n",
       "0             4  A last minute business trip to HND, a route I ...  London   \n",
       "1             3  Overall I would say disappointing. Due to BA s...  Lisbon   \n",
       "\n",
       "  Destination  \n",
       "0       Tokyo  \n",
       "1      London  "
      ]
     },
     "execution_count": 556,
     "metadata": {},
     "output_type": "execute_result"
    }
   ],
   "source": [
    "df.head(2)"
   ]
  },
  {
   "cell_type": "code",
   "execution_count": 557,
   "id": "121fa386-e40a-4156-b730-0097a42d8034",
   "metadata": {},
   "outputs": [
    {
     "data": {
      "text/plain": [
       "Index(['Review_Date', 'Rating', 'Comment', 'Reviewer_Name', 'Reviewer_Country',\n",
       "       'Aircraft', 'Travel_Type', 'Seat_Type', 'Date_Flown', 'Recommended',\n",
       "       'Verified', 'Seat_Rating', 'Cabin_staff_service_Rating',\n",
       "       'Food_Beverages_Rating', 'Inflight_Rating', 'Ground_service_Rating',\n",
       "       'Value_Rating', 'Full_review', 'Origin', 'Destination'],\n",
       "      dtype='object')"
      ]
     },
     "execution_count": 557,
     "metadata": {},
     "output_type": "execute_result"
    }
   ],
   "source": [
    "df.columns"
   ]
  },
  {
   "cell_type": "code",
   "execution_count": 558,
   "id": "f00c5b0a-8ae2-48df-b435-b460edbed785",
   "metadata": {},
   "outputs": [],
   "source": [
    "df['Review_Year'] = df['Review_Date'].dt.year\n",
    "df['Review_Month'] = df['Review_Date'].dt.month"
   ]
  },
  {
   "cell_type": "code",
   "execution_count": 560,
   "id": "363c2b92-e9f3-4634-927c-5caaa8bbb66b",
   "metadata": {},
   "outputs": [],
   "source": [
    "df.rename(columns={'Date_Flown':'Flown_Date'},inplace=True)"
   ]
  },
  {
   "cell_type": "code",
   "execution_count": 561,
   "id": "9fa164ac-779e-464a-8439-8d28204461e0",
   "metadata": {},
   "outputs": [],
   "source": [
    "df['Flown_Year'] = df['Flown_Date'].dt.year\n",
    "df['Flown_Month'] = df['Flown_Date'].dt.month"
   ]
  },
  {
   "cell_type": "code",
   "execution_count": 562,
   "id": "ae57a2e4-b86f-44f3-a696-a3a34a508866",
   "metadata": {},
   "outputs": [
    {
     "data": {
      "text/html": [
       "<div>\n",
       "<style scoped>\n",
       "    .dataframe tbody tr th:only-of-type {\n",
       "        vertical-align: middle;\n",
       "    }\n",
       "\n",
       "    .dataframe tbody tr th {\n",
       "        vertical-align: top;\n",
       "    }\n",
       "\n",
       "    .dataframe thead th {\n",
       "        text-align: right;\n",
       "    }\n",
       "</style>\n",
       "<table border=\"1\" class=\"dataframe\">\n",
       "  <thead>\n",
       "    <tr style=\"text-align: right;\">\n",
       "      <th></th>\n",
       "      <th>Review_Date</th>\n",
       "      <th>Rating</th>\n",
       "      <th>Comment</th>\n",
       "      <th>Reviewer_Name</th>\n",
       "      <th>Reviewer_Country</th>\n",
       "      <th>Aircraft</th>\n",
       "      <th>Travel_Type</th>\n",
       "      <th>Seat_Type</th>\n",
       "      <th>Flown_Date</th>\n",
       "      <th>Recommended</th>\n",
       "      <th>...</th>\n",
       "      <th>Inflight_Rating</th>\n",
       "      <th>Ground_service_Rating</th>\n",
       "      <th>Value_Rating</th>\n",
       "      <th>Full_review</th>\n",
       "      <th>Origin</th>\n",
       "      <th>Destination</th>\n",
       "      <th>Review_Year</th>\n",
       "      <th>Review_Month</th>\n",
       "      <th>Flown_Year</th>\n",
       "      <th>Flown_Month</th>\n",
       "    </tr>\n",
       "  </thead>\n",
       "  <tbody>\n",
       "    <tr>\n",
       "      <th>0</th>\n",
       "      <td>2024-03-26</td>\n",
       "      <td>8</td>\n",
       "      <td>“didn't find the crew particularly welcoming”</td>\n",
       "      <td>Troy Robinson</td>\n",
       "      <td>United Kingdom</td>\n",
       "      <td>Boeing 777</td>\n",
       "      <td>Business</td>\n",
       "      <td>Business Class</td>\n",
       "      <td>2024-03-01</td>\n",
       "      <td>YES</td>\n",
       "      <td>...</td>\n",
       "      <td>5</td>\n",
       "      <td>3</td>\n",
       "      <td>4</td>\n",
       "      <td>A last minute business trip to HND, a route I ...</td>\n",
       "      <td>London</td>\n",
       "      <td>Tokyo</td>\n",
       "      <td>2024</td>\n",
       "      <td>3</td>\n",
       "      <td>2024</td>\n",
       "      <td>3</td>\n",
       "    </tr>\n",
       "    <tr>\n",
       "      <th>1</th>\n",
       "      <td>2024-03-26</td>\n",
       "      <td>5</td>\n",
       "      <td>\"I would say disappointing\"</td>\n",
       "      <td>R Norton</td>\n",
       "      <td>United Kingdom</td>\n",
       "      <td>A320</td>\n",
       "      <td>Business</td>\n",
       "      <td>Economy Class</td>\n",
       "      <td>2024-03-01</td>\n",
       "      <td>YES</td>\n",
       "      <td>...</td>\n",
       "      <td>2</td>\n",
       "      <td>1</td>\n",
       "      <td>3</td>\n",
       "      <td>Overall I would say disappointing. Due to BA s...</td>\n",
       "      <td>Lisbon</td>\n",
       "      <td>London</td>\n",
       "      <td>2024</td>\n",
       "      <td>3</td>\n",
       "      <td>2024</td>\n",
       "      <td>3</td>\n",
       "    </tr>\n",
       "    <tr>\n",
       "      <th>2</th>\n",
       "      <td>2024-03-25</td>\n",
       "      <td>10</td>\n",
       "      <td>\"Exceptional flight\"</td>\n",
       "      <td>Paul Lee</td>\n",
       "      <td>United Kingdom</td>\n",
       "      <td>Boeing 777</td>\n",
       "      <td>Couple Leisure</td>\n",
       "      <td>Business Class</td>\n",
       "      <td>2024-02-01</td>\n",
       "      <td>YES</td>\n",
       "      <td>...</td>\n",
       "      <td>5</td>\n",
       "      <td>5</td>\n",
       "      <td>5</td>\n",
       "      <td>LHR to Delhi in Business. Exceptional flight. ...</td>\n",
       "      <td>London</td>\n",
       "      <td>Delhi</td>\n",
       "      <td>2024</td>\n",
       "      <td>3</td>\n",
       "      <td>2024</td>\n",
       "      <td>2</td>\n",
       "    </tr>\n",
       "    <tr>\n",
       "      <th>3</th>\n",
       "      <td>2024-03-25</td>\n",
       "      <td>9</td>\n",
       "      <td>\"Cabin crew attentive and bubbly\"</td>\n",
       "      <td>Paul Lee</td>\n",
       "      <td>United Kingdom</td>\n",
       "      <td>A320</td>\n",
       "      <td>Couple Leisure</td>\n",
       "      <td>Economy Class</td>\n",
       "      <td>2024-03-01</td>\n",
       "      <td>YES</td>\n",
       "      <td>...</td>\n",
       "      <td>2</td>\n",
       "      <td>4</td>\n",
       "      <td>5</td>\n",
       "      <td>Efficient and Smooth flight from start to fini...</td>\n",
       "      <td>London</td>\n",
       "      <td>Milan</td>\n",
       "      <td>2024</td>\n",
       "      <td>3</td>\n",
       "      <td>2024</td>\n",
       "      <td>3</td>\n",
       "    </tr>\n",
       "    <tr>\n",
       "      <th>4</th>\n",
       "      <td>2024-03-25</td>\n",
       "      <td>3</td>\n",
       "      <td>“a terrible and unnecessary experience”</td>\n",
       "      <td>Peter Buchanan</td>\n",
       "      <td>United Kingdom</td>\n",
       "      <td>A320</td>\n",
       "      <td>Couple Leisure</td>\n",
       "      <td>Economy Class</td>\n",
       "      <td>2024-03-01</td>\n",
       "      <td>NO</td>\n",
       "      <td>...</td>\n",
       "      <td>2</td>\n",
       "      <td>3</td>\n",
       "      <td>2</td>\n",
       "      <td>Was told we can not take hand luggage onto the...</td>\n",
       "      <td>Madrid</td>\n",
       "      <td>London Heathrow</td>\n",
       "      <td>2024</td>\n",
       "      <td>3</td>\n",
       "      <td>2024</td>\n",
       "      <td>3</td>\n",
       "    </tr>\n",
       "  </tbody>\n",
       "</table>\n",
       "<p>5 rows × 24 columns</p>\n",
       "</div>"
      ],
      "text/plain": [
       "  Review_Date  Rating                                        Comment  \\\n",
       "0  2024-03-26       8  “didn't find the crew particularly welcoming”   \n",
       "1  2024-03-26       5                    \"I would say disappointing\"   \n",
       "2  2024-03-25      10                           \"Exceptional flight\"   \n",
       "3  2024-03-25       9              \"Cabin crew attentive and bubbly\"   \n",
       "4  2024-03-25       3        “a terrible and unnecessary experience”   \n",
       "\n",
       "    Reviewer_Name Reviewer_Country    Aircraft     Travel_Type  \\\n",
       "0   Troy Robinson   United Kingdom  Boeing 777        Business   \n",
       "1        R Norton   United Kingdom        A320        Business   \n",
       "2        Paul Lee   United Kingdom  Boeing 777  Couple Leisure   \n",
       "3        Paul Lee   United Kingdom        A320  Couple Leisure   \n",
       "4  Peter Buchanan   United Kingdom        A320  Couple Leisure   \n",
       "\n",
       "        Seat_Type Flown_Date Recommended  ... Inflight_Rating  \\\n",
       "0  Business Class 2024-03-01         YES  ...               5   \n",
       "1   Economy Class 2024-03-01         YES  ...               2   \n",
       "2  Business Class 2024-02-01         YES  ...               5   \n",
       "3   Economy Class 2024-03-01         YES  ...               2   \n",
       "4   Economy Class 2024-03-01          NO  ...               2   \n",
       "\n",
       "   Ground_service_Rating  Value_Rating  \\\n",
       "0                      3             4   \n",
       "1                      1             3   \n",
       "2                      5             5   \n",
       "3                      4             5   \n",
       "4                      3             2   \n",
       "\n",
       "                                         Full_review  Origin      Destination  \\\n",
       "0  A last minute business trip to HND, a route I ...  London            Tokyo   \n",
       "1  Overall I would say disappointing. Due to BA s...  Lisbon           London   \n",
       "2  LHR to Delhi in Business. Exceptional flight. ...  London            Delhi   \n",
       "3  Efficient and Smooth flight from start to fini...  London            Milan   \n",
       "4  Was told we can not take hand luggage onto the...  Madrid  London Heathrow   \n",
       "\n",
       "   Review_Year Review_Month Flown_Year Flown_Month  \n",
       "0         2024            3       2024           3  \n",
       "1         2024            3       2024           3  \n",
       "2         2024            3       2024           2  \n",
       "3         2024            3       2024           3  \n",
       "4         2024            3       2024           3  \n",
       "\n",
       "[5 rows x 24 columns]"
      ]
     },
     "execution_count": 562,
     "metadata": {},
     "output_type": "execute_result"
    }
   ],
   "source": [
    "df.head()"
   ]
  },
  {
   "cell_type": "code",
   "execution_count": 564,
   "id": "09977c09-49d2-4da4-bff9-208c4c89e3f9",
   "metadata": {},
   "outputs": [],
   "source": [
    "df = df[['Review_Date','Review_Year','Review_Month','Flown_Date','Flown_Year','Flown_Month','Comment',\n",
    "    'Full_review',\n",
    "    'Reviewer_Name',\n",
    "    'Reviewer_Country',\n",
    "    'Origin',\n",
    "    'Destination',\n",
    "    'Aircraft',\n",
    "    'Travel_Type',\n",
    "    'Seat_Type',\n",
    "    'Seat_Rating','Cabin_staff_service_Rating','Food_Beverages_Rating','Inflight_Rating','Ground_service_Rating','Value_Rating','Rating','Recommended','Verified']]"
   ]
  },
  {
   "cell_type": "code",
   "execution_count": 565,
   "id": "39f1ab84-e430-4c18-a793-998e9a8b7cbe",
   "metadata": {},
   "outputs": [
    {
     "data": {
      "text/html": [
       "<div>\n",
       "<style scoped>\n",
       "    .dataframe tbody tr th:only-of-type {\n",
       "        vertical-align: middle;\n",
       "    }\n",
       "\n",
       "    .dataframe tbody tr th {\n",
       "        vertical-align: top;\n",
       "    }\n",
       "\n",
       "    .dataframe thead th {\n",
       "        text-align: right;\n",
       "    }\n",
       "</style>\n",
       "<table border=\"1\" class=\"dataframe\">\n",
       "  <thead>\n",
       "    <tr style=\"text-align: right;\">\n",
       "      <th></th>\n",
       "      <th>Review_Date</th>\n",
       "      <th>Review_Year</th>\n",
       "      <th>Review_Month</th>\n",
       "      <th>Flown_Date</th>\n",
       "      <th>Flown_Year</th>\n",
       "      <th>Flown_Month</th>\n",
       "      <th>Comment</th>\n",
       "      <th>Full_review</th>\n",
       "      <th>Reviewer_Name</th>\n",
       "      <th>Reviewer_Country</th>\n",
       "      <th>...</th>\n",
       "      <th>Seat_Type</th>\n",
       "      <th>Seat_Rating</th>\n",
       "      <th>Cabin_staff_service_Rating</th>\n",
       "      <th>Food_Beverages_Rating</th>\n",
       "      <th>Inflight_Rating</th>\n",
       "      <th>Ground_service_Rating</th>\n",
       "      <th>Value_Rating</th>\n",
       "      <th>Rating</th>\n",
       "      <th>Recommended</th>\n",
       "      <th>Verified</th>\n",
       "    </tr>\n",
       "  </thead>\n",
       "  <tbody>\n",
       "    <tr>\n",
       "      <th>0</th>\n",
       "      <td>2024-03-26</td>\n",
       "      <td>2024</td>\n",
       "      <td>3</td>\n",
       "      <td>2024-03-01</td>\n",
       "      <td>2024</td>\n",
       "      <td>3</td>\n",
       "      <td>“didn't find the crew particularly welcoming”</td>\n",
       "      <td>A last minute business trip to HND, a route I ...</td>\n",
       "      <td>Troy Robinson</td>\n",
       "      <td>United Kingdom</td>\n",
       "      <td>...</td>\n",
       "      <td>Business Class</td>\n",
       "      <td>5</td>\n",
       "      <td>2</td>\n",
       "      <td>5</td>\n",
       "      <td>5</td>\n",
       "      <td>3</td>\n",
       "      <td>4</td>\n",
       "      <td>8</td>\n",
       "      <td>YES</td>\n",
       "      <td>YES</td>\n",
       "    </tr>\n",
       "    <tr>\n",
       "      <th>1</th>\n",
       "      <td>2024-03-26</td>\n",
       "      <td>2024</td>\n",
       "      <td>3</td>\n",
       "      <td>2024-03-01</td>\n",
       "      <td>2024</td>\n",
       "      <td>3</td>\n",
       "      <td>\"I would say disappointing\"</td>\n",
       "      <td>Overall I would say disappointing. Due to BA s...</td>\n",
       "      <td>R Norton</td>\n",
       "      <td>United Kingdom</td>\n",
       "      <td>...</td>\n",
       "      <td>Economy Class</td>\n",
       "      <td>4</td>\n",
       "      <td>3</td>\n",
       "      <td>2</td>\n",
       "      <td>2</td>\n",
       "      <td>1</td>\n",
       "      <td>3</td>\n",
       "      <td>5</td>\n",
       "      <td>YES</td>\n",
       "      <td>YES</td>\n",
       "    </tr>\n",
       "    <tr>\n",
       "      <th>2</th>\n",
       "      <td>2024-03-25</td>\n",
       "      <td>2024</td>\n",
       "      <td>3</td>\n",
       "      <td>2024-02-01</td>\n",
       "      <td>2024</td>\n",
       "      <td>2</td>\n",
       "      <td>\"Exceptional flight\"</td>\n",
       "      <td>LHR to Delhi in Business. Exceptional flight. ...</td>\n",
       "      <td>Paul Lee</td>\n",
       "      <td>United Kingdom</td>\n",
       "      <td>...</td>\n",
       "      <td>Business Class</td>\n",
       "      <td>5</td>\n",
       "      <td>5</td>\n",
       "      <td>5</td>\n",
       "      <td>5</td>\n",
       "      <td>5</td>\n",
       "      <td>5</td>\n",
       "      <td>10</td>\n",
       "      <td>YES</td>\n",
       "      <td>NO</td>\n",
       "    </tr>\n",
       "    <tr>\n",
       "      <th>3</th>\n",
       "      <td>2024-03-25</td>\n",
       "      <td>2024</td>\n",
       "      <td>3</td>\n",
       "      <td>2024-03-01</td>\n",
       "      <td>2024</td>\n",
       "      <td>3</td>\n",
       "      <td>\"Cabin crew attentive and bubbly\"</td>\n",
       "      <td>Efficient and Smooth flight from start to fini...</td>\n",
       "      <td>Paul Lee</td>\n",
       "      <td>United Kingdom</td>\n",
       "      <td>...</td>\n",
       "      <td>Economy Class</td>\n",
       "      <td>5</td>\n",
       "      <td>5</td>\n",
       "      <td>5</td>\n",
       "      <td>2</td>\n",
       "      <td>4</td>\n",
       "      <td>5</td>\n",
       "      <td>9</td>\n",
       "      <td>YES</td>\n",
       "      <td>NO</td>\n",
       "    </tr>\n",
       "    <tr>\n",
       "      <th>4</th>\n",
       "      <td>2024-03-25</td>\n",
       "      <td>2024</td>\n",
       "      <td>3</td>\n",
       "      <td>2024-03-01</td>\n",
       "      <td>2024</td>\n",
       "      <td>3</td>\n",
       "      <td>“a terrible and unnecessary experience”</td>\n",
       "      <td>Was told we can not take hand luggage onto the...</td>\n",
       "      <td>Peter Buchanan</td>\n",
       "      <td>United Kingdom</td>\n",
       "      <td>...</td>\n",
       "      <td>Economy Class</td>\n",
       "      <td>3</td>\n",
       "      <td>3</td>\n",
       "      <td>2</td>\n",
       "      <td>2</td>\n",
       "      <td>3</td>\n",
       "      <td>2</td>\n",
       "      <td>3</td>\n",
       "      <td>NO</td>\n",
       "      <td>YES</td>\n",
       "    </tr>\n",
       "  </tbody>\n",
       "</table>\n",
       "<p>5 rows × 24 columns</p>\n",
       "</div>"
      ],
      "text/plain": [
       "  Review_Date  Review_Year  Review_Month Flown_Date  Flown_Year  Flown_Month  \\\n",
       "0  2024-03-26         2024             3 2024-03-01        2024            3   \n",
       "1  2024-03-26         2024             3 2024-03-01        2024            3   \n",
       "2  2024-03-25         2024             3 2024-02-01        2024            2   \n",
       "3  2024-03-25         2024             3 2024-03-01        2024            3   \n",
       "4  2024-03-25         2024             3 2024-03-01        2024            3   \n",
       "\n",
       "                                         Comment  \\\n",
       "0  “didn't find the crew particularly welcoming”   \n",
       "1                    \"I would say disappointing\"   \n",
       "2                           \"Exceptional flight\"   \n",
       "3              \"Cabin crew attentive and bubbly\"   \n",
       "4        “a terrible and unnecessary experience”   \n",
       "\n",
       "                                         Full_review   Reviewer_Name  \\\n",
       "0  A last minute business trip to HND, a route I ...   Troy Robinson   \n",
       "1  Overall I would say disappointing. Due to BA s...        R Norton   \n",
       "2  LHR to Delhi in Business. Exceptional flight. ...        Paul Lee   \n",
       "3  Efficient and Smooth flight from start to fini...        Paul Lee   \n",
       "4  Was told we can not take hand luggage onto the...  Peter Buchanan   \n",
       "\n",
       "  Reviewer_Country  ...       Seat_Type Seat_Rating  \\\n",
       "0   United Kingdom  ...  Business Class           5   \n",
       "1   United Kingdom  ...   Economy Class           4   \n",
       "2   United Kingdom  ...  Business Class           5   \n",
       "3   United Kingdom  ...   Economy Class           5   \n",
       "4   United Kingdom  ...   Economy Class           3   \n",
       "\n",
       "  Cabin_staff_service_Rating Food_Beverages_Rating Inflight_Rating  \\\n",
       "0                          2                     5               5   \n",
       "1                          3                     2               2   \n",
       "2                          5                     5               5   \n",
       "3                          5                     5               2   \n",
       "4                          3                     2               2   \n",
       "\n",
       "   Ground_service_Rating  Value_Rating  Rating  Recommended  Verified  \n",
       "0                      3             4       8          YES       YES  \n",
       "1                      1             3       5          YES       YES  \n",
       "2                      5             5      10          YES        NO  \n",
       "3                      4             5       9          YES        NO  \n",
       "4                      3             2       3           NO       YES  \n",
       "\n",
       "[5 rows x 24 columns]"
      ]
     },
     "execution_count": 565,
     "metadata": {},
     "output_type": "execute_result"
    }
   ],
   "source": [
    "df.head()"
   ]
  },
  {
   "cell_type": "code",
   "execution_count": null,
   "id": "912e15fb-144c-41c1-b4eb-2d5e813bc294",
   "metadata": {},
   "outputs": [],
   "source": []
  },
  {
   "cell_type": "code",
   "execution_count": 566,
   "id": "ae9c26de-e5da-4ee7-a4eb-dcb1ddad696b",
   "metadata": {},
   "outputs": [],
   "source": [
    "df.to_csv('Data/british_airways_cleaned.csv',index=False)"
   ]
  },
  {
   "cell_type": "code",
   "execution_count": null,
   "id": "af495b67-c23c-4dbc-9bf1-63dd9616f8df",
   "metadata": {},
   "outputs": [],
   "source": []
  }
 ],
 "metadata": {
  "kernelspec": {
   "display_name": "Python 3 (ipykernel)",
   "language": "python",
   "name": "python3"
  },
  "language_info": {
   "codemirror_mode": {
    "name": "ipython",
    "version": 3
   },
   "file_extension": ".py",
   "mimetype": "text/x-python",
   "name": "python",
   "nbconvert_exporter": "python",
   "pygments_lexer": "ipython3",
   "version": "3.9.0"
  }
 },
 "nbformat": 4,
 "nbformat_minor": 5
}
